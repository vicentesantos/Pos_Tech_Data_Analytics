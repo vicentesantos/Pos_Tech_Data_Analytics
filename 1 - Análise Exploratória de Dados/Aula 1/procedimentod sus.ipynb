{
 "cells": [
  {
   "cell_type": "markdown",
   "metadata": {},
   "source": [
    "#### Procedimentos hospitalares do SUS - por local de internação - Brasil\n",
    "<br>Valor total por Unidade da Federação e Ano/mês atendimento\n",
    "<br>Período: Jan/2008-Set/2021"
   ]
  },
  {
   "cell_type": "markdown",
   "metadata": {},
   "source": [
    "### Aula 1"
   ]
  },
  {
   "cell_type": "code",
   "execution_count": 1,
   "metadata": {},
   "outputs": [],
   "source": [
    "import pandas as pd"
   ]
  },
  {
   "cell_type": "code",
   "execution_count": 2,
   "metadata": {},
   "outputs": [],
   "source": [
    "dados = pd.read_csv('../Aula 1/A150850189_28_143_208.csv', encoding='ISO-8859-1', skiprows=3, sep=';', skipfooter=12, thousands='.', decimal=',', engine='python')"
   ]
  },
  {
   "cell_type": "code",
   "execution_count": 3,
   "metadata": {},
   "outputs": [
    {
     "data": {
      "application/vnd.microsoft.datawrangler.viewer.v0+json": {
       "columns": [
        {
         "name": "index",
         "rawType": "int64",
         "type": "integer"
        },
        {
         "name": "Unidade da Federação",
         "rawType": "object",
         "type": "string"
        },
        {
         "name": "1992/Mar",
         "rawType": "object",
         "type": "string"
        },
        {
         "name": "1992/Abr",
         "rawType": "object",
         "type": "string"
        },
        {
         "name": "1993/Mai",
         "rawType": "object",
         "type": "string"
        },
        {
         "name": "1993/Dez",
         "rawType": "object",
         "type": "string"
        },
        {
         "name": "1994/Jan",
         "rawType": "object",
         "type": "string"
        },
        {
         "name": "1994/Fev",
         "rawType": "object",
         "type": "string"
        },
        {
         "name": "1994/Mai",
         "rawType": "object",
         "type": "string"
        },
        {
         "name": "1994/Ago",
         "rawType": "object",
         "type": "string"
        },
        {
         "name": "1994/Nov",
         "rawType": "object",
         "type": "string"
        },
        {
         "name": "1995/Jan",
         "rawType": "object",
         "type": "string"
        },
        {
         "name": "1995/Mar",
         "rawType": "object",
         "type": "string"
        },
        {
         "name": "1995/Jun",
         "rawType": "object",
         "type": "string"
        },
        {
         "name": "1995/Ago",
         "rawType": "object",
         "type": "string"
        },
        {
         "name": "1995/Dez",
         "rawType": "object",
         "type": "string"
        },
        {
         "name": "1996/Fev",
         "rawType": "object",
         "type": "string"
        },
        {
         "name": "1996/Mar",
         "rawType": "object",
         "type": "string"
        },
        {
         "name": "1996/Ago",
         "rawType": "object",
         "type": "string"
        },
        {
         "name": "1996/Dez",
         "rawType": "object",
         "type": "string"
        },
        {
         "name": "1997/Fev",
         "rawType": "object",
         "type": "string"
        },
        {
         "name": "1997/Nov",
         "rawType": "object",
         "type": "string"
        },
        {
         "name": "1998/Fev",
         "rawType": "object",
         "type": "string"
        },
        {
         "name": "1998/Mar",
         "rawType": "object",
         "type": "string"
        },
        {
         "name": "1998/Jul",
         "rawType": "object",
         "type": "string"
        },
        {
         "name": "1998/Ago",
         "rawType": "object",
         "type": "string"
        },
        {
         "name": "1998/Set",
         "rawType": "object",
         "type": "string"
        },
        {
         "name": "1998/Out",
         "rawType": "object",
         "type": "string"
        },
        {
         "name": "1998/Dez",
         "rawType": "object",
         "type": "string"
        },
        {
         "name": "1999/Fev",
         "rawType": "object",
         "type": "string"
        },
        {
         "name": "1999/Mar",
         "rawType": "object",
         "type": "string"
        },
        {
         "name": "1999/Mai",
         "rawType": "object",
         "type": "string"
        },
        {
         "name": "1999/Jul",
         "rawType": "object",
         "type": "string"
        },
        {
         "name": "1999/Ago",
         "rawType": "object",
         "type": "string"
        },
        {
         "name": "1999/Set",
         "rawType": "object",
         "type": "string"
        },
        {
         "name": "1999/Out",
         "rawType": "object",
         "type": "string"
        },
        {
         "name": "1999/Nov",
         "rawType": "object",
         "type": "string"
        },
        {
         "name": "1999/Dez",
         "rawType": "object",
         "type": "string"
        },
        {
         "name": "2000/Jan",
         "rawType": "object",
         "type": "string"
        },
        {
         "name": "2000/Fev",
         "rawType": "object",
         "type": "string"
        },
        {
         "name": "2000/Mar",
         "rawType": "object",
         "type": "string"
        },
        {
         "name": "2000/Abr",
         "rawType": "object",
         "type": "string"
        },
        {
         "name": "2000/Mai",
         "rawType": "object",
         "type": "string"
        },
        {
         "name": "2000/Jun",
         "rawType": "object",
         "type": "string"
        },
        {
         "name": "2000/Jul",
         "rawType": "object",
         "type": "string"
        },
        {
         "name": "2000/Ago",
         "rawType": "object",
         "type": "string"
        },
        {
         "name": "2000/Set",
         "rawType": "object",
         "type": "string"
        },
        {
         "name": "2000/Out",
         "rawType": "object",
         "type": "string"
        },
        {
         "name": "2000/Nov",
         "rawType": "object",
         "type": "string"
        },
        {
         "name": "2000/Dez",
         "rawType": "object",
         "type": "string"
        },
        {
         "name": "2001/Jan",
         "rawType": "object",
         "type": "string"
        },
        {
         "name": "2001/Fev",
         "rawType": "object",
         "type": "string"
        },
        {
         "name": "2001/Mar",
         "rawType": "object",
         "type": "string"
        },
        {
         "name": "2001/Abr",
         "rawType": "object",
         "type": "string"
        },
        {
         "name": "2001/Mai",
         "rawType": "object",
         "type": "string"
        },
        {
         "name": "2001/Jun",
         "rawType": "object",
         "type": "string"
        },
        {
         "name": "2001/Jul",
         "rawType": "object",
         "type": "string"
        },
        {
         "name": "2001/Ago",
         "rawType": "object",
         "type": "string"
        },
        {
         "name": "2001/Set",
         "rawType": "object",
         "type": "string"
        },
        {
         "name": "2001/Nov",
         "rawType": "object",
         "type": "string"
        },
        {
         "name": "2001/Dez",
         "rawType": "object",
         "type": "string"
        },
        {
         "name": "2002/Jan",
         "rawType": "object",
         "type": "string"
        },
        {
         "name": "2002/Fev",
         "rawType": "object",
         "type": "string"
        },
        {
         "name": "2002/Mar",
         "rawType": "object",
         "type": "string"
        },
        {
         "name": "2002/Mai",
         "rawType": "object",
         "type": "string"
        },
        {
         "name": "2002/Jun",
         "rawType": "object",
         "type": "string"
        },
        {
         "name": "2002/Jul",
         "rawType": "object",
         "type": "string"
        },
        {
         "name": "2002/Out",
         "rawType": "object",
         "type": "string"
        },
        {
         "name": "2002/Nov",
         "rawType": "object",
         "type": "string"
        },
        {
         "name": "2002/Dez",
         "rawType": "object",
         "type": "string"
        },
        {
         "name": "2003/Jan",
         "rawType": "object",
         "type": "string"
        },
        {
         "name": "2003/Fev",
         "rawType": "object",
         "type": "string"
        },
        {
         "name": "2003/Mar",
         "rawType": "object",
         "type": "string"
        },
        {
         "name": "2003/Abr",
         "rawType": "object",
         "type": "string"
        },
        {
         "name": "2003/Jun",
         "rawType": "object",
         "type": "string"
        },
        {
         "name": "2003/Jul",
         "rawType": "object",
         "type": "string"
        },
        {
         "name": "2003/Ago",
         "rawType": "object",
         "type": "string"
        },
        {
         "name": "2003/Out",
         "rawType": "object",
         "type": "string"
        },
        {
         "name": "2003/Nov",
         "rawType": "object",
         "type": "string"
        },
        {
         "name": "2003/Dez",
         "rawType": "object",
         "type": "string"
        },
        {
         "name": "2004/Jan",
         "rawType": "object",
         "type": "string"
        },
        {
         "name": "2004/Fev",
         "rawType": "object",
         "type": "string"
        },
        {
         "name": "2004/Mar",
         "rawType": "object",
         "type": "string"
        },
        {
         "name": "2004/Abr",
         "rawType": "object",
         "type": "string"
        },
        {
         "name": "2004/Mai",
         "rawType": "object",
         "type": "string"
        },
        {
         "name": "2004/Jun",
         "rawType": "object",
         "type": "string"
        },
        {
         "name": "2004/Jul",
         "rawType": "object",
         "type": "string"
        },
        {
         "name": "2004/Ago",
         "rawType": "object",
         "type": "string"
        },
        {
         "name": "2004/Set",
         "rawType": "object",
         "type": "string"
        },
        {
         "name": "2004/Out",
         "rawType": "object",
         "type": "string"
        },
        {
         "name": "2004/Nov",
         "rawType": "object",
         "type": "string"
        },
        {
         "name": "2004/Dez",
         "rawType": "object",
         "type": "string"
        },
        {
         "name": "2005/Jan",
         "rawType": "object",
         "type": "string"
        },
        {
         "name": "2005/Fev",
         "rawType": "object",
         "type": "string"
        },
        {
         "name": "2005/Mar",
         "rawType": "object",
         "type": "string"
        },
        {
         "name": "2005/Abr",
         "rawType": "object",
         "type": "string"
        },
        {
         "name": "2005/Mai",
         "rawType": "object",
         "type": "string"
        },
        {
         "name": "2005/Jun",
         "rawType": "object",
         "type": "string"
        },
        {
         "name": "2005/Jul",
         "rawType": "object",
         "type": "string"
        },
        {
         "name": "2005/Ago",
         "rawType": "object",
         "type": "string"
        },
        {
         "name": "2005/Set",
         "rawType": "object",
         "type": "string"
        },
        {
         "name": "2005/Out",
         "rawType": "object",
         "type": "string"
        },
        {
         "name": "2005/Nov",
         "rawType": "object",
         "type": "string"
        },
        {
         "name": "2005/Dez",
         "rawType": "object",
         "type": "string"
        },
        {
         "name": "2006/Jan",
         "rawType": "object",
         "type": "string"
        },
        {
         "name": "2006/Fev",
         "rawType": "object",
         "type": "string"
        },
        {
         "name": "2006/Mar",
         "rawType": "object",
         "type": "string"
        },
        {
         "name": "2006/Abr",
         "rawType": "object",
         "type": "string"
        },
        {
         "name": "2006/Mai",
         "rawType": "object",
         "type": "string"
        },
        {
         "name": "2006/Jun",
         "rawType": "object",
         "type": "string"
        },
        {
         "name": "2006/Jul",
         "rawType": "object",
         "type": "string"
        },
        {
         "name": "2006/Ago",
         "rawType": "object",
         "type": "string"
        },
        {
         "name": "2006/Set",
         "rawType": "object",
         "type": "string"
        },
        {
         "name": "2006/Out",
         "rawType": "object",
         "type": "string"
        },
        {
         "name": "2006/Nov",
         "rawType": "object",
         "type": "string"
        },
        {
         "name": "2006/Dez",
         "rawType": "object",
         "type": "string"
        },
        {
         "name": "2007/Jan",
         "rawType": "object",
         "type": "string"
        },
        {
         "name": "2007/Fev",
         "rawType": "object",
         "type": "string"
        },
        {
         "name": "2007/Mar",
         "rawType": "object",
         "type": "string"
        },
        {
         "name": "2007/Abr",
         "rawType": "object",
         "type": "string"
        },
        {
         "name": "2007/Mai",
         "rawType": "object",
         "type": "string"
        },
        {
         "name": "2007/Jun",
         "rawType": "object",
         "type": "string"
        },
        {
         "name": "2007/Jul",
         "rawType": "object",
         "type": "string"
        },
        {
         "name": "2007/Ago",
         "rawType": "float64",
         "type": "float"
        },
        {
         "name": "2007/Set",
         "rawType": "float64",
         "type": "float"
        },
        {
         "name": "2007/Out",
         "rawType": "float64",
         "type": "float"
        },
        {
         "name": "2007/Nov",
         "rawType": "float64",
         "type": "float"
        },
        {
         "name": "2007/Dez",
         "rawType": "float64",
         "type": "float"
        },
        {
         "name": "2008/Jan",
         "rawType": "float64",
         "type": "float"
        },
        {
         "name": "2008/Fev",
         "rawType": "float64",
         "type": "float"
        },
        {
         "name": "2008/Mar",
         "rawType": "float64",
         "type": "float"
        },
        {
         "name": "2008/Abr",
         "rawType": "float64",
         "type": "float"
        },
        {
         "name": "2008/Mai",
         "rawType": "float64",
         "type": "float"
        },
        {
         "name": "2008/Jun",
         "rawType": "float64",
         "type": "float"
        },
        {
         "name": "2008/Jul",
         "rawType": "float64",
         "type": "float"
        },
        {
         "name": "2008/Ago",
         "rawType": "float64",
         "type": "float"
        },
        {
         "name": "2008/Set",
         "rawType": "float64",
         "type": "float"
        },
        {
         "name": "2008/Out",
         "rawType": "float64",
         "type": "float"
        },
        {
         "name": "2008/Nov",
         "rawType": "float64",
         "type": "float"
        },
        {
         "name": "2008/Dez",
         "rawType": "float64",
         "type": "float"
        },
        {
         "name": "2009/Jan",
         "rawType": "float64",
         "type": "float"
        },
        {
         "name": "2009/Fev",
         "rawType": "float64",
         "type": "float"
        },
        {
         "name": "2009/Mar",
         "rawType": "float64",
         "type": "float"
        },
        {
         "name": "2009/Abr",
         "rawType": "float64",
         "type": "float"
        },
        {
         "name": "2009/Mai",
         "rawType": "float64",
         "type": "float"
        },
        {
         "name": "2009/Jun",
         "rawType": "float64",
         "type": "float"
        },
        {
         "name": "2009/Jul",
         "rawType": "float64",
         "type": "float"
        },
        {
         "name": "2009/Ago",
         "rawType": "float64",
         "type": "float"
        },
        {
         "name": "2009/Set",
         "rawType": "float64",
         "type": "float"
        },
        {
         "name": "2009/Out",
         "rawType": "float64",
         "type": "float"
        },
        {
         "name": "2009/Nov",
         "rawType": "float64",
         "type": "float"
        },
        {
         "name": "2009/Dez",
         "rawType": "float64",
         "type": "float"
        },
        {
         "name": "2010/Jan",
         "rawType": "float64",
         "type": "float"
        },
        {
         "name": "2010/Fev",
         "rawType": "float64",
         "type": "float"
        },
        {
         "name": "2010/Mar",
         "rawType": "float64",
         "type": "float"
        },
        {
         "name": "2010/Abr",
         "rawType": "float64",
         "type": "float"
        },
        {
         "name": "2010/Mai",
         "rawType": "float64",
         "type": "float"
        },
        {
         "name": "2010/Jun",
         "rawType": "float64",
         "type": "float"
        },
        {
         "name": "2010/Jul",
         "rawType": "float64",
         "type": "float"
        },
        {
         "name": "2010/Ago",
         "rawType": "float64",
         "type": "float"
        },
        {
         "name": "2010/Set",
         "rawType": "float64",
         "type": "float"
        },
        {
         "name": "2010/Out",
         "rawType": "float64",
         "type": "float"
        },
        {
         "name": "2010/Nov",
         "rawType": "float64",
         "type": "float"
        },
        {
         "name": "2010/Dez",
         "rawType": "float64",
         "type": "float"
        },
        {
         "name": "2011/Jan",
         "rawType": "float64",
         "type": "float"
        },
        {
         "name": "2011/Fev",
         "rawType": "float64",
         "type": "float"
        },
        {
         "name": "2011/Mar",
         "rawType": "float64",
         "type": "float"
        },
        {
         "name": "2011/Abr",
         "rawType": "float64",
         "type": "float"
        },
        {
         "name": "2011/Mai",
         "rawType": "float64",
         "type": "float"
        },
        {
         "name": "2011/Jun",
         "rawType": "float64",
         "type": "float"
        },
        {
         "name": "2011/Jul",
         "rawType": "float64",
         "type": "float"
        },
        {
         "name": "2011/Ago",
         "rawType": "float64",
         "type": "float"
        },
        {
         "name": "2011/Set",
         "rawType": "float64",
         "type": "float"
        },
        {
         "name": "2011/Out",
         "rawType": "float64",
         "type": "float"
        },
        {
         "name": "2011/Nov",
         "rawType": "float64",
         "type": "float"
        },
        {
         "name": "2011/Dez",
         "rawType": "float64",
         "type": "float"
        },
        {
         "name": "2012/Jan",
         "rawType": "float64",
         "type": "float"
        },
        {
         "name": "2012/Fev",
         "rawType": "float64",
         "type": "float"
        },
        {
         "name": "2012/Mar",
         "rawType": "float64",
         "type": "float"
        },
        {
         "name": "2012/Abr",
         "rawType": "float64",
         "type": "float"
        },
        {
         "name": "2012/Mai",
         "rawType": "float64",
         "type": "float"
        },
        {
         "name": "2012/Jun",
         "rawType": "float64",
         "type": "float"
        },
        {
         "name": "2012/Jul",
         "rawType": "float64",
         "type": "float"
        },
        {
         "name": "2012/Ago",
         "rawType": "float64",
         "type": "float"
        },
        {
         "name": "2012/Set",
         "rawType": "float64",
         "type": "float"
        },
        {
         "name": "2012/Out",
         "rawType": "float64",
         "type": "float"
        },
        {
         "name": "2012/Nov",
         "rawType": "float64",
         "type": "float"
        },
        {
         "name": "2012/Dez",
         "rawType": "float64",
         "type": "float"
        },
        {
         "name": "2013/Jan",
         "rawType": "float64",
         "type": "float"
        },
        {
         "name": "2013/Fev",
         "rawType": "float64",
         "type": "float"
        },
        {
         "name": "2013/Mar",
         "rawType": "float64",
         "type": "float"
        },
        {
         "name": "2013/Abr",
         "rawType": "float64",
         "type": "float"
        },
        {
         "name": "2013/Mai",
         "rawType": "float64",
         "type": "float"
        },
        {
         "name": "2013/Jun",
         "rawType": "float64",
         "type": "float"
        },
        {
         "name": "2013/Jul",
         "rawType": "float64",
         "type": "float"
        },
        {
         "name": "2013/Ago",
         "rawType": "float64",
         "type": "float"
        },
        {
         "name": "2013/Set",
         "rawType": "float64",
         "type": "float"
        },
        {
         "name": "2013/Out",
         "rawType": "float64",
         "type": "float"
        },
        {
         "name": "2013/Nov",
         "rawType": "float64",
         "type": "float"
        },
        {
         "name": "2013/Dez",
         "rawType": "float64",
         "type": "float"
        },
        {
         "name": "2014/Jan",
         "rawType": "float64",
         "type": "float"
        },
        {
         "name": "2014/Fev",
         "rawType": "float64",
         "type": "float"
        },
        {
         "name": "2014/Mar",
         "rawType": "float64",
         "type": "float"
        },
        {
         "name": "2014/Abr",
         "rawType": "float64",
         "type": "float"
        },
        {
         "name": "2014/Mai",
         "rawType": "float64",
         "type": "float"
        },
        {
         "name": "2014/Jun",
         "rawType": "float64",
         "type": "float"
        },
        {
         "name": "2014/Jul",
         "rawType": "float64",
         "type": "float"
        },
        {
         "name": "2014/Ago",
         "rawType": "float64",
         "type": "float"
        },
        {
         "name": "2014/Set",
         "rawType": "float64",
         "type": "float"
        },
        {
         "name": "2014/Out",
         "rawType": "float64",
         "type": "float"
        },
        {
         "name": "2014/Nov",
         "rawType": "float64",
         "type": "float"
        },
        {
         "name": "2014/Dez",
         "rawType": "float64",
         "type": "float"
        },
        {
         "name": "2015/Jan",
         "rawType": "float64",
         "type": "float"
        },
        {
         "name": "2015/Fev",
         "rawType": "float64",
         "type": "float"
        },
        {
         "name": "2015/Mar",
         "rawType": "float64",
         "type": "float"
        },
        {
         "name": "2015/Abr",
         "rawType": "float64",
         "type": "float"
        },
        {
         "name": "2015/Mai",
         "rawType": "float64",
         "type": "float"
        },
        {
         "name": "2015/Jun",
         "rawType": "float64",
         "type": "float"
        },
        {
         "name": "2015/Jul",
         "rawType": "float64",
         "type": "float"
        },
        {
         "name": "2015/Ago",
         "rawType": "float64",
         "type": "float"
        },
        {
         "name": "2015/Set",
         "rawType": "float64",
         "type": "float"
        },
        {
         "name": "2015/Out",
         "rawType": "float64",
         "type": "float"
        },
        {
         "name": "2015/Nov",
         "rawType": "float64",
         "type": "float"
        },
        {
         "name": "2015/Dez",
         "rawType": "float64",
         "type": "float"
        },
        {
         "name": "2016/Jan",
         "rawType": "float64",
         "type": "float"
        },
        {
         "name": "2016/Fev",
         "rawType": "float64",
         "type": "float"
        },
        {
         "name": "2016/Mar",
         "rawType": "float64",
         "type": "float"
        },
        {
         "name": "2016/Abr",
         "rawType": "float64",
         "type": "float"
        },
        {
         "name": "2016/Mai",
         "rawType": "float64",
         "type": "float"
        },
        {
         "name": "2016/Jun",
         "rawType": "float64",
         "type": "float"
        },
        {
         "name": "2016/Jul",
         "rawType": "float64",
         "type": "float"
        },
        {
         "name": "2016/Ago",
         "rawType": "float64",
         "type": "float"
        },
        {
         "name": "2016/Set",
         "rawType": "float64",
         "type": "float"
        },
        {
         "name": "2016/Out",
         "rawType": "float64",
         "type": "float"
        },
        {
         "name": "2016/Nov",
         "rawType": "float64",
         "type": "float"
        },
        {
         "name": "2016/Dez",
         "rawType": "float64",
         "type": "float"
        },
        {
         "name": "2017/Jan",
         "rawType": "float64",
         "type": "float"
        },
        {
         "name": "2017/Fev",
         "rawType": "float64",
         "type": "float"
        },
        {
         "name": "2017/Mar",
         "rawType": "float64",
         "type": "float"
        },
        {
         "name": "2017/Abr",
         "rawType": "float64",
         "type": "float"
        },
        {
         "name": "2017/Mai",
         "rawType": "float64",
         "type": "float"
        },
        {
         "name": "2017/Jun",
         "rawType": "float64",
         "type": "float"
        },
        {
         "name": "2017/Jul",
         "rawType": "float64",
         "type": "float"
        },
        {
         "name": "2017/Ago",
         "rawType": "float64",
         "type": "float"
        },
        {
         "name": "2017/Set",
         "rawType": "float64",
         "type": "float"
        },
        {
         "name": "2017/Out",
         "rawType": "float64",
         "type": "float"
        },
        {
         "name": "2017/Nov",
         "rawType": "float64",
         "type": "float"
        },
        {
         "name": "2017/Dez",
         "rawType": "float64",
         "type": "float"
        },
        {
         "name": "2018/Jan",
         "rawType": "float64",
         "type": "float"
        },
        {
         "name": "2018/Fev",
         "rawType": "float64",
         "type": "float"
        },
        {
         "name": "2018/Mar",
         "rawType": "float64",
         "type": "float"
        },
        {
         "name": "2018/Abr",
         "rawType": "float64",
         "type": "float"
        },
        {
         "name": "2018/Mai",
         "rawType": "float64",
         "type": "float"
        },
        {
         "name": "2018/Jun",
         "rawType": "float64",
         "type": "float"
        },
        {
         "name": "2018/Jul",
         "rawType": "float64",
         "type": "float"
        },
        {
         "name": "2018/Ago",
         "rawType": "float64",
         "type": "float"
        },
        {
         "name": "2018/Set",
         "rawType": "float64",
         "type": "float"
        },
        {
         "name": "2018/Out",
         "rawType": "float64",
         "type": "float"
        },
        {
         "name": "2018/Nov",
         "rawType": "float64",
         "type": "float"
        },
        {
         "name": "2018/Dez",
         "rawType": "float64",
         "type": "float"
        },
        {
         "name": "2019/Jan",
         "rawType": "float64",
         "type": "float"
        },
        {
         "name": "2019/Fev",
         "rawType": "float64",
         "type": "float"
        },
        {
         "name": "2019/Mar",
         "rawType": "float64",
         "type": "float"
        },
        {
         "name": "2019/Abr",
         "rawType": "float64",
         "type": "float"
        },
        {
         "name": "2019/Mai",
         "rawType": "float64",
         "type": "float"
        },
        {
         "name": "2019/Jun",
         "rawType": "float64",
         "type": "float"
        },
        {
         "name": "2019/Jul",
         "rawType": "float64",
         "type": "float"
        },
        {
         "name": "2019/Ago",
         "rawType": "float64",
         "type": "float"
        },
        {
         "name": "2019/Set",
         "rawType": "float64",
         "type": "float"
        },
        {
         "name": "2019/Out",
         "rawType": "float64",
         "type": "float"
        },
        {
         "name": "2019/Nov",
         "rawType": "float64",
         "type": "float"
        },
        {
         "name": "2019/Dez",
         "rawType": "float64",
         "type": "float"
        },
        {
         "name": "2020/Jan",
         "rawType": "float64",
         "type": "float"
        },
        {
         "name": "2020/Fev",
         "rawType": "float64",
         "type": "float"
        },
        {
         "name": "2020/Mar",
         "rawType": "float64",
         "type": "float"
        },
        {
         "name": "2020/Abr",
         "rawType": "float64",
         "type": "float"
        },
        {
         "name": "2020/Mai",
         "rawType": "float64",
         "type": "float"
        },
        {
         "name": "2020/Jun",
         "rawType": "float64",
         "type": "float"
        },
        {
         "name": "2020/Jul",
         "rawType": "float64",
         "type": "float"
        },
        {
         "name": "2020/Ago",
         "rawType": "float64",
         "type": "float"
        },
        {
         "name": "2020/Set",
         "rawType": "float64",
         "type": "float"
        },
        {
         "name": "2020/Out",
         "rawType": "float64",
         "type": "float"
        },
        {
         "name": "2020/Nov",
         "rawType": "float64",
         "type": "float"
        },
        {
         "name": "2020/Dez",
         "rawType": "float64",
         "type": "float"
        },
        {
         "name": "2021/Jan",
         "rawType": "float64",
         "type": "float"
        },
        {
         "name": "2021/Fev",
         "rawType": "float64",
         "type": "float"
        },
        {
         "name": "2021/Mar",
         "rawType": "float64",
         "type": "float"
        },
        {
         "name": "2021/Abr",
         "rawType": "float64",
         "type": "float"
        },
        {
         "name": "2021/Mai",
         "rawType": "float64",
         "type": "float"
        },
        {
         "name": "2021/Jun",
         "rawType": "float64",
         "type": "float"
        },
        {
         "name": "2021/Jul",
         "rawType": "float64",
         "type": "float"
        },
        {
         "name": "2021/Ago",
         "rawType": "float64",
         "type": "float"
        },
        {
         "name": "2021/Set",
         "rawType": "object",
         "type": "string"
        },
        {
         "name": "Total",
         "rawType": "float64",
         "type": "float"
        }
       ],
       "conversionMethod": "pd.DataFrame",
       "ref": "7a2fc38b-8ebb-45eb-9cb2-52af9c0e0cee",
       "rows": [
        [
         "0",
         "11 Rondônia",
         "-",
         "-",
         "-",
         "-",
         "-",
         "-",
         "-",
         "-",
         "-",
         "-",
         "-",
         "-",
         "-",
         "-",
         "-",
         "-",
         "-",
         "-",
         "-",
         "-",
         "-",
         "-",
         "-",
         "-",
         "-",
         "-",
         "-",
         "-",
         "-",
         "-",
         "-",
         "-",
         "-",
         "-",
         "-",
         "-",
         "-",
         "-",
         "-",
         "-",
         "-",
         "-",
         "-",
         "-",
         "-",
         "-",
         "-",
         "-",
         "-",
         "-",
         "-",
         "-",
         "-",
         "-",
         "-",
         "-",
         "-",
         "-",
         "-",
         "-",
         "-",
         "-",
         "-",
         "-",
         "-",
         "-",
         "-",
         "-",
         "-",
         "-",
         "-",
         "-",
         "-",
         "-",
         "-",
         "-",
         "-",
         "-",
         "-",
         "-",
         "-",
         "-",
         "-",
         "-",
         "-",
         "-",
         "-",
         "-",
         "-",
         "-",
         "-",
         "-",
         "-",
         "-",
         "-",
         "-",
         "-",
         "-",
         "-",
         "-",
         "-",
         "-",
         "-",
         "-",
         "-",
         "-",
         "-",
         "-",
         "-",
         "-",
         "-",
         "-",
         "-",
         "-",
         "-",
         "604.33",
         "-",
         "-",
         "-",
         "-",
         "-",
         "4209.37",
         "16397.03",
         "133645.19",
         "346912.84",
         "711758.31",
         "1829559.71",
         "1940792.63",
         "1955721.68",
         "2143353.81",
         "2280382.58",
         "2624542.97",
         "2973421.02",
         "2938286.29",
         "2843930.91",
         "2878153.2",
         "2780022.62",
         "2651804.89",
         "3147566.24",
         "3082108.12",
         "4190355.33",
         "4040251.62",
         "3946423.71",
         "3372377.96",
         "3720608.86",
         "3787323.26",
         "3679369.94",
         "3866146.99",
         "3667808.6",
         "3633471.79",
         "3812315.59",
         "3911776.03",
         "4663060.75",
         "4524544.88",
         "4778755.26",
         "4369733.23",
         "4632439.12",
         "4464307.47",
         "4668642.02",
         "4490368.23",
         "4423840.08",
         "4384430.09",
         "4173529.95",
         "4293085.61",
         "4674947.02",
         "5087527.81",
         "4724192.54",
         "4690112.05",
         "4319488.17",
         "4778472.22",
         "4202805.84",
         "4372265.77",
         "4389025.81",
         "4045339.34",
         "4472721.53",
         "4417486.2",
         "4859795.35",
         "4590008.82",
         "4579463.54",
         "4467858.99",
         "4160296.03",
         "4315005.38",
         "4043314.46",
         "4289759.65",
         "4138600.85",
         "3966744.3",
         "4471693.32",
         "4378412.9",
         "5495946.92",
         "5380890.26",
         "5170015.34",
         "4899586.21",
         "5526959.19",
         "5889685.39",
         "6367552.03",
         "6299844.72",
         "6685861.76",
         "6163036.06",
         "6349302.0",
         "6059111.35",
         "6740436.14",
         "6584249.21",
         "7558087.91",
         "6934864.98",
         "7150611.14",
         "6957882.67",
         "7057715.9",
         "7096778.4",
         "6965306.56",
         "6803544.72",
         "6983698.79",
         "6624059.46",
         "7501596.28",
         "7365022.91",
         "7645734.88",
         "7545619.91",
         "7438604.96",
         "7233618.24",
         "7425981.15",
         "7654315.58",
         "7429006.24",
         "7580768.75",
         "7025175.6",
         "6760305.81",
         "7779822.21",
         "7707892.66",
         "8560529.9",
         "8355165.66",
         "7845709.98",
         "7931146.33",
         "7554941.74",
         "7963674.01",
         "6964512.59",
         "7174445.57",
         "7007236.18",
         "7154710.19",
         "8762491.6",
         "8133488.55",
         "8140639.49",
         "8041248.8",
         "8199032.67",
         "8363386.07",
         "7889819.5",
         "8603943.85",
         "8048398.25",
         "8159737.49",
         "8457455.71",
         "7766983.2",
         "8858845.57",
         "8407076.44",
         "9492938.92",
         "8206195.92",
         "9011612.58",
         "9124967.84",
         "8406732.72",
         "8411360.02",
         "8651081.66",
         "8193425.99",
         "8388269.45",
         "8645315.78",
         "9050329.13",
         "9211262.51",
         "9490545.02",
         "8600886.2",
         "8919190.86",
         "8909111.89",
         "8409386.09",
         "8924348.41",
         "8948605.66",
         "8660753.05",
         "8328381.43",
         "8431334.62",
         "7251287.2",
         "7491953.39",
         "8962121.79",
         "11069824.97",
         "10608659.34",
         "11578639.5",
         "9017298.72",
         "8280299.95",
         "8909539.74",
         "9469279.43",
         "10045624.39",
         "10677245.18",
         "18147121.02",
         "17753851.45",
         "17659855.79",
         "14435903.47",
         "11834435.1",
         "7371334.84",
         "1682801.60",
         "1088059702.25"
        ],
        [
         "1",
         "12 Acre",
         "-",
         "-",
         "-",
         "-",
         "-",
         "-",
         "-",
         "-",
         "-",
         "-",
         "-",
         "-",
         "-",
         "-",
         "-",
         "-",
         "-",
         "-",
         "-",
         "-",
         "-",
         "-",
         "-",
         "-",
         "-",
         "-",
         "-",
         "-",
         "-",
         "-",
         "-",
         "-",
         "-",
         "-",
         "-",
         "-",
         "-",
         "-",
         "-",
         "-",
         "-",
         "-",
         "-",
         "-",
         "-",
         "-",
         "-",
         "-",
         "-",
         "-",
         "-",
         "-",
         "-",
         "-",
         "-",
         "-",
         "-",
         "-",
         "-",
         "-",
         "-",
         "-",
         "-",
         "-",
         "-",
         "-",
         "-",
         "-",
         "-",
         "-",
         "-",
         "-",
         "-",
         "-",
         "-",
         "-",
         "-",
         "-",
         "-",
         "-",
         "-",
         "-",
         "-",
         "-",
         "-",
         "-",
         "-",
         "-",
         "-",
         "-",
         "-",
         "-",
         "-",
         "-",
         "-",
         "-",
         "-",
         "-",
         "-",
         "-",
         "-",
         "-",
         "-",
         "-",
         "-",
         "-",
         "-",
         "-",
         "-",
         "-",
         "-",
         "-",
         "-",
         "-",
         "184.65",
         "-",
         "-",
         "-",
         "-",
         "1099.17",
         "-",
         "10470.07",
         "14001.71",
         "86200.85",
         "301323.68",
         "769612.36",
         "1731744.62",
         "1743978.66",
         "2057439.02",
         "2057829.69",
         "2226577.93",
         "2112576.82",
         "2029128.01",
         "1886871.84",
         "2084884.8",
         "2230838.45",
         "2122013.12",
         "2196651.69",
         "2152239.3",
         "2086775.61",
         "2476364.26",
         "2396887.63",
         "2610261.8",
         "2174098.1",
         "2051885.16",
         "1714707.91",
         "1341532.34",
         "2288458.9",
         "2462712.79",
         "2254900.2",
         "2381535.93",
         "2079981.05",
         "2564837.77",
         "2588318.06",
         "2538525.67",
         "2319786.41",
         "2279156.6",
         "2454599.37",
         "2578923.75",
         "2625443.29",
         "2512995.15",
         "2500589.76",
         "2749521.65",
         "2473515.82",
         "2801446.23",
         "2672803.31",
         "3135521.3",
         "2719044.65",
         "2814550.89",
         "2923529.36",
         "2804546.95",
         "2773202.98",
         "2711168.25",
         "2765187.44",
         "2804275.11",
         "2460383.33",
         "3062146.31",
         "2780466.09",
         "2811471.16",
         "2813012.39",
         "2946976.72",
         "2801590.13",
         "3089898.24",
         "3049071.15",
         "2858028.89",
         "2642140.91",
         "2774802.96",
         "2650391.04",
         "2813059.49",
         "2906257.88",
         "2893275.56",
         "2687861.43",
         "2940387.36",
         "2895941.14",
         "2824796.19",
         "3034232.68",
         "2682370.65",
         "2680655.0",
         "2880570.12",
         "2611479.72",
         "3026117.7",
         "3116433.45",
         "3166557.72",
         "3138759.74",
         "3011898.65",
         "3111431.36",
         "2630560.39",
         "3079894.04",
         "3191663.93",
         "2862824.95",
         "3136522.53",
         "2901829.7",
         "3043474.78",
         "3139472.52",
         "3096430.52",
         "3334482.41",
         "2953212.26",
         "3162075.03",
         "3109856.27",
         "3177087.64",
         "3097868.79",
         "3059992.59",
         "3168190.91",
         "3037922.8",
         "3271599.56",
         "3207893.15",
         "3402393.7",
         "3380644.97",
         "3566107.55",
         "3523208.57",
         "3173932.43",
         "2911080.18",
         "3082652.71",
         "3173509.52",
         "3009727.19",
         "3134471.01",
         "3586781.3",
         "2811365.43",
         "3161446.53",
         "3355223.35",
         "3562691.54",
         "3375296.64",
         "3341497.58",
         "3358378.05",
         "3145385.44",
         "2638773.92",
         "2968168.75",
         "2769797.39",
         "3057631.96",
         "2874965.31",
         "3175575.17",
         "3060903.21",
         "3253011.61",
         "3040645.05",
         "2926179.27",
         "3126120.64",
         "2473454.85",
         "2277493.49",
         "2594347.32",
         "2234388.36",
         "2473008.49",
         "2979764.77",
         "3070533.95",
         "3249052.69",
         "3567538.64",
         "2981072.98",
         "2998860.31",
         "3293378.97",
         "3174249.43",
         "2959569.09",
         "3276790.55",
         "2985763.71",
         "2939675.2",
         "2672857.33",
         "2940827.86",
         "3914823.86",
         "4053085.41",
         "3658265.59",
         "3470648.64",
         "3267918.69",
         "3497348.48",
         "3820865.83",
         "4175526.06",
         "5282655.42",
         "5699597.78",
         "5002272.59",
         "4326882.24",
         "3458187.11",
         "2302711.01",
         "1196754.85",
         "-",
         "475290315.34"
        ],
        [
         "2",
         "13 Amazonas",
         "-",
         "-",
         "-",
         "-",
         "-",
         "-",
         "-",
         "-",
         "-",
         "-",
         "-",
         "-",
         "-",
         "-",
         "-",
         "-",
         "-",
         "-",
         "-",
         "-",
         "-",
         "-",
         "-",
         "-",
         "-",
         "-",
         "-",
         "-",
         "-",
         "-",
         "-",
         "-",
         "-",
         "-",
         "-",
         "-",
         "-",
         "-",
         "-",
         "-",
         "-",
         "-",
         "-",
         "-",
         "-",
         "-",
         "-",
         "-",
         "-",
         "-",
         "-",
         "-",
         "-",
         "-",
         "-",
         "-",
         "-",
         "-",
         "-",
         "-",
         "-",
         "-",
         "-",
         "-",
         "-",
         "-",
         "-",
         "-",
         "-",
         "-",
         "-",
         "-",
         "-",
         "-",
         "-",
         "-",
         "-",
         "-",
         "-",
         "-",
         "-",
         "-",
         "-",
         "-",
         "-",
         "-",
         "-",
         "-",
         "-",
         "-",
         "-",
         "-",
         "-",
         "-",
         "-",
         "-",
         "-",
         "-",
         "-",
         "-",
         "-",
         "-",
         "-",
         "-",
         "-",
         "-",
         "-",
         "-",
         "-",
         "-",
         "-",
         "-",
         "-",
         "-",
         "1134.83",
         "951.89",
         "-",
         "531.94",
         "-",
         "-",
         "212.75",
         "35752.72",
         "45570.64",
         "416012.3",
         "2020381.79",
         "5949408.99",
         "11419210.08",
         "7934652.1",
         "8641517.13",
         "8531576.49",
         "9079902.15",
         "8646295.77",
         "8755806.5",
         "8331763.97",
         "8148089.92",
         "7681661.02",
         "7761445.21",
         "7764782.66",
         "8607222.74",
         "8385962.92",
         "9207129.28",
         "8160517.2",
         "8562322.43",
         "9484998.71",
         "9465068.52",
         "9267006.58",
         "9092823.55",
         "9218407.34",
         "8674068.02",
         "8365788.46",
         "9386945.03",
         "8373048.81",
         "10321150.01",
         "9990164.13",
         "9767161.23",
         "9151838.5",
         "9140196.88",
         "9437224.41",
         "9742680.49",
         "9996686.44",
         "9532878.27",
         "9335803.05",
         "9800511.52",
         "9461664.54",
         "10954545.77",
         "10529645.04",
         "10105494.01",
         "9966359.03",
         "9972847.16",
         "9965893.92",
         "9861030.02",
         "10206641.46",
         "10735915.35",
         "8702766.18",
         "10037664.68",
         "8977728.1",
         "11048686.39",
         "10472290.4",
         "11490377.42",
         "10677441.18",
         "11010010.57",
         "10766405.24",
         "9569712.9",
         "9989822.59",
         "9957925.62",
         "8918794.96",
         "10855590.98",
         "9429474.72",
         "10170130.9",
         "10539428.15",
         "11110036.76",
         "10467110.16",
         "10400642.04",
         "10851212.49",
         "10420922.29",
         "10599000.25",
         "10244521.6",
         "9306819.97",
         "9474986.9",
         "8225118.03",
         "9923980.1",
         "10308887.72",
         "10398106.16",
         "10613208.66",
         "10530622.36",
         "10789449.65",
         "11373085.93",
         "11780494.51",
         "11275532.44",
         "10959544.5",
         "12149857.06",
         "11363981.9",
         "13379237.72",
         "13159168.82",
         "12962255.41",
         "13423538.07",
         "13253844.31",
         "13457422.49",
         "12622284.09",
         "13088040.45",
         "11495628.09",
         "11596671.58",
         "11543911.29",
         "11990242.08",
         "13508906.38",
         "13067645.44",
         "13633627.87",
         "13143225.36",
         "12692419.45",
         "12517962.68",
         "11634453.4",
         "12121775.2",
         "10806653.19",
         "11933902.28",
         "12214148.15",
         "11689140.72",
         "13474719.8",
         "13717831.75",
         "13909566.03",
         "13718828.46",
         "14396210.86",
         "13745304.22",
         "13979792.94",
         "13895515.9",
         "13518116.8",
         "13635186.02",
         "14549450.86",
         "12753555.36",
         "14749409.47",
         "14577930.81",
         "15381061.96",
         "14653650.77",
         "15544595.79",
         "16374961.41",
         "15343340.93",
         "16249963.61",
         "14255408.82",
         "14274053.94",
         "15358914.0",
         "14100074.56",
         "16103971.89",
         "16154491.82",
         "16529976.06",
         "15509984.83",
         "16642220.71",
         "16493719.52",
         "15351607.47",
         "16339427.95",
         "14821977.5",
         "14965815.9",
         "15982353.42",
         "15166470.82",
         "14817551.6",
         "16384086.61",
         "19629685.1",
         "18438092.88",
         "19305534.94",
         "18698372.12",
         "18639116.65",
         "18750332.19",
         "20587412.38",
         "21911210.94",
         "27406458.57",
         "22341042.63",
         "27923786.94",
         "24515920.09",
         "23973537.71",
         "22175398.4",
         "21614943.55",
         "13806958.66",
         "5292323.36",
         "2061943006.93"
        ],
        [
         "3",
         "14 Roraima",
         "-",
         "-",
         "-",
         "-",
         "-",
         "-",
         "-",
         "-",
         "-",
         "-",
         "-",
         "-",
         "-",
         "-",
         "-",
         "-",
         "-",
         "-",
         "-",
         "-",
         "-",
         "-",
         "-",
         "-",
         "-",
         "-",
         "-",
         "-",
         "-",
         "-",
         "-",
         "-",
         "-",
         "-",
         "-",
         "-",
         "-",
         "-",
         "-",
         "-",
         "-",
         "-",
         "-",
         "-",
         "-",
         "-",
         "-",
         "-",
         "-",
         "-",
         "-",
         "-",
         "-",
         "-",
         "-",
         "-",
         "-",
         "-",
         "-",
         "-",
         "-",
         "-",
         "-",
         "-",
         "-",
         "-",
         "-",
         "-",
         "-",
         "-",
         "-",
         "-",
         "-",
         "-",
         "-",
         "-",
         "-",
         "-",
         "-",
         "-",
         "-",
         "-",
         "-",
         "-",
         "-",
         "-",
         "-",
         "-",
         "-",
         "-",
         "-",
         "-",
         "-",
         "-",
         "-",
         "-",
         "-",
         "-",
         "-",
         "-",
         "-",
         "-",
         "-",
         "-",
         "-",
         "-",
         "-",
         "-",
         "-",
         "-",
         "-",
         "-",
         "-",
         "-",
         "-",
         "-",
         "-",
         "-",
         "-",
         "413.69",
         "-",
         "4785.91",
         "11858.63",
         "43852.67",
         "369328.51",
         "470676.43",
         "808448.39",
         "771687.83",
         "876091.18",
         "896952.53",
         "1027288.73",
         "938293.54",
         "1004340.44",
         "1045291.11",
         "1003740.89",
         "1055063.43",
         "1223200.73",
         "1236529.18",
         "1186281.36",
         "1106225.18",
         "1422690.18",
         "1377859.19",
         "1363883.01",
         "1346660.89",
         "1371019.37",
         "1529696.18",
         "1573418.68",
         "1517391.92",
         "1597811.24",
         "1536941.82",
         "1617781.76",
         "1452295.35",
         "1817004.16",
         "1715762.1",
         "1933733.03",
         "1849065.95",
         "1877204.62",
         "2046063.98",
         "1939488.67",
         "1757675.71",
         "1528245.34",
         "1485166.6",
         "1604886.45",
         "1220176.72",
         "1276120.86",
         "1379942.19",
         "1679122.67",
         "1770324.67",
         "1646157.39",
         "1656379.5",
         "1802450.34",
         "1856131.44",
         "1655521.98",
         "1620351.06",
         "1605536.38",
         "1625159.47",
         "1768605.61",
         "1589072.69",
         "1982657.11",
         "1782557.43",
         "1743562.81",
         "1822724.18",
         "1637458.04",
         "1374247.23",
         "1613270.45",
         "1586569.21",
         "1712994.69",
         "1483195.3",
         "1783411.48",
         "1713083.73",
         "1724464.55",
         "1965346.91",
         "1835094.3",
         "1816091.81",
         "1741449.49",
         "1779522.8",
         "1698450.51",
         "1739855.56",
         "1649617.13",
         "1444697.49",
         "1828395.54",
         "1743474.24",
         "1939379.14",
         "1778530.78",
         "1839321.94",
         "1818003.17",
         "1890924.98",
         "1792376.75",
         "1929194.87",
         "1927452.43",
         "1952679.49",
         "1650143.01",
         "1806730.29",
         "1967249.27",
         "2002239.47",
         "2200465.33",
         "2230544.02",
         "2285467.53",
         "2215191.54",
         "2005870.76",
         "1937208.01",
         "2000028.1",
         "2306946.41",
         "2000924.9",
         "2333218.37",
         "2069716.58",
         "2105130.54",
         "2390060.15",
         "2324710.08",
         "2476903.43",
         "2212516.5",
         "2349084.57",
         "2184836.8",
         "2380057.58",
         "2370359.62",
         "2256529.94",
         "2602191.08",
         "2392160.3",
         "2761536.23",
         "2699213.85",
         "2682746.28",
         "2891100.2",
         "2737677.78",
         "2693726.29",
         "2671451.53",
         "2688315.7",
         "2740952.07",
         "2478349.44",
         "2674958.94",
         "2721261.19",
         "2844811.66",
         "2967161.35",
         "2841587.97",
         "3328230.63",
         "2878691.04",
         "2964324.32",
         "2524712.4",
         "2462451.64",
         "2662240.18",
         "2499996.16",
         "2846135.56",
         "2789823.29",
         "2839389.53",
         "2647540.2",
         "2865777.71",
         "3181321.82",
         "3070436.96",
         "3162342.44",
         "3121104.71",
         "2889969.87",
         "3084561.08",
         "2967159.04",
         "2813954.05",
         "2306119.95",
         "2921522.16",
         "3300012.98",
         "3192075.41",
         "3262354.34",
         "2978629.22",
         "3313296.78",
         "3531874.44",
         "3193708.89",
         "3557821.99",
         "4172285.82",
         "5427226.7",
         "4192540.54",
         "3681417.8",
         "3475205.55",
         "3320807.96",
         "2907871.07",
         "1496814.75",
         "352546288.71"
        ],
        [
         "4",
         "15 Pará",
         "-",
         "-",
         "-",
         "-",
         "-",
         "-",
         "-",
         "-",
         "-",
         "-",
         "-",
         "-",
         "-",
         "-",
         "-",
         "-",
         "-",
         "-",
         "-",
         "-",
         "-",
         "-",
         "-",
         "-",
         "-",
         "-",
         "-",
         "-",
         "-",
         "-",
         "-",
         "-",
         "-",
         "-",
         "-",
         "-",
         "-",
         "-",
         "-",
         "-",
         "-",
         "-",
         "-",
         "-",
         "-",
         "-",
         "-",
         "-",
         "-",
         "-",
         "-",
         "-",
         "-",
         "-",
         "-",
         "-",
         "-",
         "-",
         "-",
         "-",
         "-",
         "-",
         "-",
         "-",
         "-",
         "-",
         "-",
         "-",
         "-",
         "-",
         "-",
         "-",
         "-",
         "-",
         "-",
         "-",
         "-",
         "-",
         "-",
         "-",
         "-",
         "-",
         "-",
         "-",
         "-",
         "-",
         "-",
         "-",
         "-",
         "-",
         "-",
         "-",
         "-",
         "-",
         "-",
         "-",
         "-",
         "-",
         "-",
         "-",
         "-",
         "-",
         "-",
         "1260.10",
         "-",
         "-",
         "-",
         "-",
         "-",
         "-",
         "-",
         "-",
         "-",
         "-",
         "4994.86",
         "2182.97",
         "-",
         "-",
         "210.20",
         "399.57",
         "9487.90",
         "181159.29",
         "433414.74",
         "1893197.5",
         "5105406.44",
         "13162823.43",
         "21762104.16",
         "20126081.01",
         "22149375.82",
         "23436682.75",
         "23861080.8",
         "23502915.9",
         "22544291.26",
         "23259148.28",
         "23667690.01",
         "23352577.75",
         "23537613.41",
         "23836162.4",
         "25397157.43",
         "23045700.7",
         "28225957.76",
         "27478025.61",
         "26610951.91",
         "26424970.11",
         "26331756.26",
         "27892582.69",
         "27231854.35",
         "27599957.69",
         "26784181.74",
         "25511285.54",
         "26421157.74",
         "25483553.06",
         "28537493.86",
         "26949923.37",
         "28436425.05",
         "26947713.85",
         "26125357.73",
         "27761867.94",
         "27280175.15",
         "26522062.12",
         "26687663.81",
         "26322040.53",
         "27999789.2",
         "26170892.65",
         "29193123.8",
         "27294759.31",
         "27759327.87",
         "26458847.52",
         "25646178.94",
         "27348214.64",
         "27122078.56",
         "27151997.82",
         "27076766.56",
         "25935603.25",
         "26931701.79",
         "25389310.74",
         "28704612.93",
         "26847966.6",
         "28536479.38",
         "24989145.96",
         "23915410.75",
         "25339308.28",
         "26463528.52",
         "27078939.15",
         "25649589.97",
         "24231259.58",
         "27488235.67",
         "24858606.41",
         "28385955.37",
         "29935288.76",
         "30031113.55",
         "28287779.49",
         "27834188.35",
         "28495723.69",
         "28476294.93",
         "29356437.61",
         "28086219.41",
         "27125004.59",
         "29767266.18",
         "27835380.47",
         "29163415.18",
         "29555562.23",
         "29906534.73",
         "28163413.4",
         "29162727.48",
         "29042208.36",
         "29657868.87",
         "28900904.08",
         "29550827.16",
         "27962491.97",
         "28691072.01",
         "26549566.21",
         "31911102.11",
         "29750854.64",
         "31054967.78",
         "29235281.56",
         "29501440.59",
         "28931804.95",
         "29476810.94",
         "29458486.92",
         "28477062.76",
         "27489497.15",
         "28500205.13",
         "27179920.78",
         "31117998.99",
         "30192626.29",
         "31099655.36",
         "30920858.9",
         "29971249.77",
         "32160799.99",
         "32271083.66",
         "30090090.28",
         "30190160.1",
         "29399653.85",
         "31598256.46",
         "28219353.4",
         "34021215.17",
         "30540036.73",
         "33921112.99",
         "31808597.47",
         "32133134.42",
         "33770556.65",
         "32979925.38",
         "33665042.35",
         "33475545.29",
         "32067934.67",
         "33615836.09",
         "30623491.62",
         "34121931.0",
         "35039954.2",
         "35424611.06",
         "34160283.18",
         "34484949.49",
         "35618364.04",
         "34380916.9",
         "38441090.5",
         "33583538.08",
         "32789354.87",
         "34513534.8",
         "31885919.67",
         "33236155.79",
         "31008924.95",
         "31064106.5",
         "28543179.3",
         "36713929.36",
         "36462011.47",
         "36792954.02",
         "36984314.6",
         "35579251.49",
         "35247659.3",
         "37046350.76",
         "34683341.17",
         "34908420.5",
         "29184688.3",
         "43336950.39",
         "41046394.84",
         "40533687.35",
         "38864252.14",
         "37003357.15",
         "38507479.7",
         "37228236.49",
         "37925512.28",
         "39042349.46",
         "37113440.7",
         "49625416.13",
         "52558327.29",
         "50907226.77",
         "43876590.47",
         "33718084.12",
         "20837865.89",
         "4620263.03",
         "4968811817.17"
        ]
       ],
       "shape": {
        "columns": 293,
        "rows": 5
       }
      },
      "text/html": [
       "<div>\n",
       "<style scoped>\n",
       "    .dataframe tbody tr th:only-of-type {\n",
       "        vertical-align: middle;\n",
       "    }\n",
       "\n",
       "    .dataframe tbody tr th {\n",
       "        vertical-align: top;\n",
       "    }\n",
       "\n",
       "    .dataframe thead th {\n",
       "        text-align: right;\n",
       "    }\n",
       "</style>\n",
       "<table border=\"1\" class=\"dataframe\">\n",
       "  <thead>\n",
       "    <tr style=\"text-align: right;\">\n",
       "      <th></th>\n",
       "      <th>Unidade da Federação</th>\n",
       "      <th>1992/Mar</th>\n",
       "      <th>1992/Abr</th>\n",
       "      <th>1993/Mai</th>\n",
       "      <th>1993/Dez</th>\n",
       "      <th>1994/Jan</th>\n",
       "      <th>1994/Fev</th>\n",
       "      <th>1994/Mai</th>\n",
       "      <th>1994/Ago</th>\n",
       "      <th>1994/Nov</th>\n",
       "      <th>...</th>\n",
       "      <th>2021/Jan</th>\n",
       "      <th>2021/Fev</th>\n",
       "      <th>2021/Mar</th>\n",
       "      <th>2021/Abr</th>\n",
       "      <th>2021/Mai</th>\n",
       "      <th>2021/Jun</th>\n",
       "      <th>2021/Jul</th>\n",
       "      <th>2021/Ago</th>\n",
       "      <th>2021/Set</th>\n",
       "      <th>Total</th>\n",
       "    </tr>\n",
       "  </thead>\n",
       "  <tbody>\n",
       "    <tr>\n",
       "      <th>0</th>\n",
       "      <td>11 Rondônia</td>\n",
       "      <td>-</td>\n",
       "      <td>-</td>\n",
       "      <td>-</td>\n",
       "      <td>-</td>\n",
       "      <td>-</td>\n",
       "      <td>-</td>\n",
       "      <td>-</td>\n",
       "      <td>-</td>\n",
       "      <td>-</td>\n",
       "      <td>...</td>\n",
       "      <td>10045624.39</td>\n",
       "      <td>10677245.18</td>\n",
       "      <td>18147121.02</td>\n",
       "      <td>17753851.45</td>\n",
       "      <td>17659855.79</td>\n",
       "      <td>14435903.47</td>\n",
       "      <td>11834435.10</td>\n",
       "      <td>7371334.84</td>\n",
       "      <td>1682801.60</td>\n",
       "      <td>1.088060e+09</td>\n",
       "    </tr>\n",
       "    <tr>\n",
       "      <th>1</th>\n",
       "      <td>12 Acre</td>\n",
       "      <td>-</td>\n",
       "      <td>-</td>\n",
       "      <td>-</td>\n",
       "      <td>-</td>\n",
       "      <td>-</td>\n",
       "      <td>-</td>\n",
       "      <td>-</td>\n",
       "      <td>-</td>\n",
       "      <td>-</td>\n",
       "      <td>...</td>\n",
       "      <td>4175526.06</td>\n",
       "      <td>5282655.42</td>\n",
       "      <td>5699597.78</td>\n",
       "      <td>5002272.59</td>\n",
       "      <td>4326882.24</td>\n",
       "      <td>3458187.11</td>\n",
       "      <td>2302711.01</td>\n",
       "      <td>1196754.85</td>\n",
       "      <td>-</td>\n",
       "      <td>4.752903e+08</td>\n",
       "    </tr>\n",
       "    <tr>\n",
       "      <th>2</th>\n",
       "      <td>13 Amazonas</td>\n",
       "      <td>-</td>\n",
       "      <td>-</td>\n",
       "      <td>-</td>\n",
       "      <td>-</td>\n",
       "      <td>-</td>\n",
       "      <td>-</td>\n",
       "      <td>-</td>\n",
       "      <td>-</td>\n",
       "      <td>-</td>\n",
       "      <td>...</td>\n",
       "      <td>27406458.57</td>\n",
       "      <td>22341042.63</td>\n",
       "      <td>27923786.94</td>\n",
       "      <td>24515920.09</td>\n",
       "      <td>23973537.71</td>\n",
       "      <td>22175398.40</td>\n",
       "      <td>21614943.55</td>\n",
       "      <td>13806958.66</td>\n",
       "      <td>5292323.36</td>\n",
       "      <td>2.061943e+09</td>\n",
       "    </tr>\n",
       "    <tr>\n",
       "      <th>3</th>\n",
       "      <td>14 Roraima</td>\n",
       "      <td>-</td>\n",
       "      <td>-</td>\n",
       "      <td>-</td>\n",
       "      <td>-</td>\n",
       "      <td>-</td>\n",
       "      <td>-</td>\n",
       "      <td>-</td>\n",
       "      <td>-</td>\n",
       "      <td>-</td>\n",
       "      <td>...</td>\n",
       "      <td>3557821.99</td>\n",
       "      <td>4172285.82</td>\n",
       "      <td>5427226.70</td>\n",
       "      <td>4192540.54</td>\n",
       "      <td>3681417.80</td>\n",
       "      <td>3475205.55</td>\n",
       "      <td>3320807.96</td>\n",
       "      <td>2907871.07</td>\n",
       "      <td>1496814.75</td>\n",
       "      <td>3.525463e+08</td>\n",
       "    </tr>\n",
       "    <tr>\n",
       "      <th>4</th>\n",
       "      <td>15 Pará</td>\n",
       "      <td>-</td>\n",
       "      <td>-</td>\n",
       "      <td>-</td>\n",
       "      <td>-</td>\n",
       "      <td>-</td>\n",
       "      <td>-</td>\n",
       "      <td>-</td>\n",
       "      <td>-</td>\n",
       "      <td>-</td>\n",
       "      <td>...</td>\n",
       "      <td>39042349.46</td>\n",
       "      <td>37113440.70</td>\n",
       "      <td>49625416.13</td>\n",
       "      <td>52558327.29</td>\n",
       "      <td>50907226.77</td>\n",
       "      <td>43876590.47</td>\n",
       "      <td>33718084.12</td>\n",
       "      <td>20837865.89</td>\n",
       "      <td>4620263.03</td>\n",
       "      <td>4.968812e+09</td>\n",
       "    </tr>\n",
       "  </tbody>\n",
       "</table>\n",
       "<p>5 rows × 293 columns</p>\n",
       "</div>"
      ],
      "text/plain": [
       "  Unidade da Federação 1992/Mar 1992/Abr 1993/Mai 1993/Dez 1994/Jan 1994/Fev  \\\n",
       "0          11 Rondônia        -        -        -        -        -        -   \n",
       "1              12 Acre        -        -        -        -        -        -   \n",
       "2          13 Amazonas        -        -        -        -        -        -   \n",
       "3           14 Roraima        -        -        -        -        -        -   \n",
       "4              15 Pará        -        -        -        -        -        -   \n",
       "\n",
       "  1994/Mai 1994/Ago 1994/Nov  ...     2021/Jan     2021/Fev     2021/Mar  \\\n",
       "0        -        -        -  ...  10045624.39  10677245.18  18147121.02   \n",
       "1        -        -        -  ...   4175526.06   5282655.42   5699597.78   \n",
       "2        -        -        -  ...  27406458.57  22341042.63  27923786.94   \n",
       "3        -        -        -  ...   3557821.99   4172285.82   5427226.70   \n",
       "4        -        -        -  ...  39042349.46  37113440.70  49625416.13   \n",
       "\n",
       "      2021/Abr     2021/Mai     2021/Jun     2021/Jul     2021/Ago  \\\n",
       "0  17753851.45  17659855.79  14435903.47  11834435.10   7371334.84   \n",
       "1   5002272.59   4326882.24   3458187.11   2302711.01   1196754.85   \n",
       "2  24515920.09  23973537.71  22175398.40  21614943.55  13806958.66   \n",
       "3   4192540.54   3681417.80   3475205.55   3320807.96   2907871.07   \n",
       "4  52558327.29  50907226.77  43876590.47  33718084.12  20837865.89   \n",
       "\n",
       "     2021/Set         Total  \n",
       "0  1682801.60  1.088060e+09  \n",
       "1           -  4.752903e+08  \n",
       "2  5292323.36  2.061943e+09  \n",
       "3  1496814.75  3.525463e+08  \n",
       "4  4620263.03  4.968812e+09  \n",
       "\n",
       "[5 rows x 293 columns]"
      ]
     },
     "execution_count": 3,
     "metadata": {},
     "output_type": "execute_result"
    }
   ],
   "source": [
    "dados.head()"
   ]
  },
  {
   "cell_type": "code",
   "execution_count": 4,
   "metadata": {},
   "outputs": [
    {
     "data": {
      "application/vnd.microsoft.datawrangler.viewer.v0+json": {
       "columns": [
        {
         "name": "index",
         "rawType": "int64",
         "type": "integer"
        },
        {
         "name": "Unidade da Federação",
         "rawType": "object",
         "type": "string"
        },
        {
         "name": "1992/Mar",
         "rawType": "object",
         "type": "string"
        },
        {
         "name": "1992/Abr",
         "rawType": "object",
         "type": "string"
        },
        {
         "name": "1993/Mai",
         "rawType": "object",
         "type": "string"
        },
        {
         "name": "1993/Dez",
         "rawType": "object",
         "type": "string"
        },
        {
         "name": "1994/Jan",
         "rawType": "object",
         "type": "string"
        },
        {
         "name": "1994/Fev",
         "rawType": "object",
         "type": "string"
        },
        {
         "name": "1994/Mai",
         "rawType": "object",
         "type": "string"
        },
        {
         "name": "1994/Ago",
         "rawType": "object",
         "type": "string"
        },
        {
         "name": "1994/Nov",
         "rawType": "object",
         "type": "string"
        },
        {
         "name": "1995/Jan",
         "rawType": "object",
         "type": "string"
        },
        {
         "name": "1995/Mar",
         "rawType": "object",
         "type": "string"
        },
        {
         "name": "1995/Jun",
         "rawType": "object",
         "type": "string"
        },
        {
         "name": "1995/Ago",
         "rawType": "object",
         "type": "string"
        },
        {
         "name": "1995/Dez",
         "rawType": "object",
         "type": "string"
        },
        {
         "name": "1996/Fev",
         "rawType": "object",
         "type": "string"
        },
        {
         "name": "1996/Mar",
         "rawType": "object",
         "type": "string"
        },
        {
         "name": "1996/Ago",
         "rawType": "object",
         "type": "string"
        },
        {
         "name": "1996/Dez",
         "rawType": "object",
         "type": "string"
        },
        {
         "name": "1997/Fev",
         "rawType": "object",
         "type": "string"
        },
        {
         "name": "1997/Nov",
         "rawType": "object",
         "type": "string"
        },
        {
         "name": "1998/Fev",
         "rawType": "object",
         "type": "string"
        },
        {
         "name": "1998/Mar",
         "rawType": "object",
         "type": "string"
        },
        {
         "name": "1998/Jul",
         "rawType": "object",
         "type": "string"
        },
        {
         "name": "1998/Ago",
         "rawType": "object",
         "type": "string"
        },
        {
         "name": "1998/Set",
         "rawType": "object",
         "type": "string"
        },
        {
         "name": "1998/Out",
         "rawType": "object",
         "type": "string"
        },
        {
         "name": "1998/Dez",
         "rawType": "object",
         "type": "string"
        },
        {
         "name": "1999/Fev",
         "rawType": "object",
         "type": "string"
        },
        {
         "name": "1999/Mar",
         "rawType": "object",
         "type": "string"
        },
        {
         "name": "1999/Mai",
         "rawType": "object",
         "type": "string"
        },
        {
         "name": "1999/Jul",
         "rawType": "object",
         "type": "string"
        },
        {
         "name": "1999/Ago",
         "rawType": "object",
         "type": "string"
        },
        {
         "name": "1999/Set",
         "rawType": "object",
         "type": "string"
        },
        {
         "name": "1999/Out",
         "rawType": "object",
         "type": "string"
        },
        {
         "name": "1999/Nov",
         "rawType": "object",
         "type": "string"
        },
        {
         "name": "1999/Dez",
         "rawType": "object",
         "type": "string"
        },
        {
         "name": "2000/Jan",
         "rawType": "object",
         "type": "string"
        },
        {
         "name": "2000/Fev",
         "rawType": "object",
         "type": "string"
        },
        {
         "name": "2000/Mar",
         "rawType": "object",
         "type": "string"
        },
        {
         "name": "2000/Abr",
         "rawType": "object",
         "type": "string"
        },
        {
         "name": "2000/Mai",
         "rawType": "object",
         "type": "string"
        },
        {
         "name": "2000/Jun",
         "rawType": "object",
         "type": "string"
        },
        {
         "name": "2000/Jul",
         "rawType": "object",
         "type": "string"
        },
        {
         "name": "2000/Ago",
         "rawType": "object",
         "type": "string"
        },
        {
         "name": "2000/Set",
         "rawType": "object",
         "type": "string"
        },
        {
         "name": "2000/Out",
         "rawType": "object",
         "type": "string"
        },
        {
         "name": "2000/Nov",
         "rawType": "object",
         "type": "string"
        },
        {
         "name": "2000/Dez",
         "rawType": "object",
         "type": "string"
        },
        {
         "name": "2001/Jan",
         "rawType": "object",
         "type": "string"
        },
        {
         "name": "2001/Fev",
         "rawType": "object",
         "type": "string"
        },
        {
         "name": "2001/Mar",
         "rawType": "object",
         "type": "string"
        },
        {
         "name": "2001/Abr",
         "rawType": "object",
         "type": "string"
        },
        {
         "name": "2001/Mai",
         "rawType": "object",
         "type": "string"
        },
        {
         "name": "2001/Jun",
         "rawType": "object",
         "type": "string"
        },
        {
         "name": "2001/Jul",
         "rawType": "object",
         "type": "string"
        },
        {
         "name": "2001/Ago",
         "rawType": "object",
         "type": "string"
        },
        {
         "name": "2001/Set",
         "rawType": "object",
         "type": "string"
        },
        {
         "name": "2001/Nov",
         "rawType": "object",
         "type": "string"
        },
        {
         "name": "2001/Dez",
         "rawType": "object",
         "type": "string"
        },
        {
         "name": "2002/Jan",
         "rawType": "object",
         "type": "string"
        },
        {
         "name": "2002/Fev",
         "rawType": "object",
         "type": "string"
        },
        {
         "name": "2002/Mar",
         "rawType": "object",
         "type": "string"
        },
        {
         "name": "2002/Mai",
         "rawType": "object",
         "type": "string"
        },
        {
         "name": "2002/Jun",
         "rawType": "object",
         "type": "string"
        },
        {
         "name": "2002/Jul",
         "rawType": "object",
         "type": "string"
        },
        {
         "name": "2002/Out",
         "rawType": "object",
         "type": "string"
        },
        {
         "name": "2002/Nov",
         "rawType": "object",
         "type": "string"
        },
        {
         "name": "2002/Dez",
         "rawType": "object",
         "type": "string"
        },
        {
         "name": "2003/Jan",
         "rawType": "object",
         "type": "string"
        },
        {
         "name": "2003/Fev",
         "rawType": "object",
         "type": "string"
        },
        {
         "name": "2003/Mar",
         "rawType": "object",
         "type": "string"
        },
        {
         "name": "2003/Abr",
         "rawType": "object",
         "type": "string"
        },
        {
         "name": "2003/Jun",
         "rawType": "object",
         "type": "string"
        },
        {
         "name": "2003/Jul",
         "rawType": "object",
         "type": "string"
        },
        {
         "name": "2003/Ago",
         "rawType": "object",
         "type": "string"
        },
        {
         "name": "2003/Out",
         "rawType": "object",
         "type": "string"
        },
        {
         "name": "2003/Nov",
         "rawType": "object",
         "type": "string"
        },
        {
         "name": "2003/Dez",
         "rawType": "object",
         "type": "string"
        },
        {
         "name": "2004/Jan",
         "rawType": "object",
         "type": "string"
        },
        {
         "name": "2004/Fev",
         "rawType": "object",
         "type": "string"
        },
        {
         "name": "2004/Mar",
         "rawType": "object",
         "type": "string"
        },
        {
         "name": "2004/Abr",
         "rawType": "object",
         "type": "string"
        },
        {
         "name": "2004/Mai",
         "rawType": "object",
         "type": "string"
        },
        {
         "name": "2004/Jun",
         "rawType": "object",
         "type": "string"
        },
        {
         "name": "2004/Jul",
         "rawType": "object",
         "type": "string"
        },
        {
         "name": "2004/Ago",
         "rawType": "object",
         "type": "string"
        },
        {
         "name": "2004/Set",
         "rawType": "object",
         "type": "string"
        },
        {
         "name": "2004/Out",
         "rawType": "object",
         "type": "string"
        },
        {
         "name": "2004/Nov",
         "rawType": "object",
         "type": "string"
        },
        {
         "name": "2004/Dez",
         "rawType": "object",
         "type": "string"
        },
        {
         "name": "2005/Jan",
         "rawType": "object",
         "type": "string"
        },
        {
         "name": "2005/Fev",
         "rawType": "object",
         "type": "string"
        },
        {
         "name": "2005/Mar",
         "rawType": "object",
         "type": "string"
        },
        {
         "name": "2005/Abr",
         "rawType": "object",
         "type": "string"
        },
        {
         "name": "2005/Mai",
         "rawType": "object",
         "type": "string"
        },
        {
         "name": "2005/Jun",
         "rawType": "object",
         "type": "string"
        },
        {
         "name": "2005/Jul",
         "rawType": "object",
         "type": "string"
        },
        {
         "name": "2005/Ago",
         "rawType": "object",
         "type": "string"
        },
        {
         "name": "2005/Set",
         "rawType": "object",
         "type": "string"
        },
        {
         "name": "2005/Out",
         "rawType": "object",
         "type": "string"
        },
        {
         "name": "2005/Nov",
         "rawType": "object",
         "type": "string"
        },
        {
         "name": "2005/Dez",
         "rawType": "object",
         "type": "string"
        },
        {
         "name": "2006/Jan",
         "rawType": "object",
         "type": "string"
        },
        {
         "name": "2006/Fev",
         "rawType": "object",
         "type": "string"
        },
        {
         "name": "2006/Mar",
         "rawType": "object",
         "type": "string"
        },
        {
         "name": "2006/Abr",
         "rawType": "object",
         "type": "string"
        },
        {
         "name": "2006/Mai",
         "rawType": "object",
         "type": "string"
        },
        {
         "name": "2006/Jun",
         "rawType": "object",
         "type": "string"
        },
        {
         "name": "2006/Jul",
         "rawType": "object",
         "type": "string"
        },
        {
         "name": "2006/Ago",
         "rawType": "object",
         "type": "string"
        },
        {
         "name": "2006/Set",
         "rawType": "object",
         "type": "string"
        },
        {
         "name": "2006/Out",
         "rawType": "object",
         "type": "string"
        },
        {
         "name": "2006/Nov",
         "rawType": "object",
         "type": "string"
        },
        {
         "name": "2006/Dez",
         "rawType": "object",
         "type": "string"
        },
        {
         "name": "2007/Jan",
         "rawType": "object",
         "type": "string"
        },
        {
         "name": "2007/Fev",
         "rawType": "object",
         "type": "string"
        },
        {
         "name": "2007/Mar",
         "rawType": "object",
         "type": "string"
        },
        {
         "name": "2007/Abr",
         "rawType": "object",
         "type": "string"
        },
        {
         "name": "2007/Mai",
         "rawType": "object",
         "type": "string"
        },
        {
         "name": "2007/Jun",
         "rawType": "object",
         "type": "string"
        },
        {
         "name": "2007/Jul",
         "rawType": "object",
         "type": "string"
        },
        {
         "name": "2007/Ago",
         "rawType": "float64",
         "type": "float"
        },
        {
         "name": "2007/Set",
         "rawType": "float64",
         "type": "float"
        },
        {
         "name": "2007/Out",
         "rawType": "float64",
         "type": "float"
        },
        {
         "name": "2007/Nov",
         "rawType": "float64",
         "type": "float"
        },
        {
         "name": "2007/Dez",
         "rawType": "float64",
         "type": "float"
        },
        {
         "name": "2008/Jan",
         "rawType": "float64",
         "type": "float"
        },
        {
         "name": "2008/Fev",
         "rawType": "float64",
         "type": "float"
        },
        {
         "name": "2008/Mar",
         "rawType": "float64",
         "type": "float"
        },
        {
         "name": "2008/Abr",
         "rawType": "float64",
         "type": "float"
        },
        {
         "name": "2008/Mai",
         "rawType": "float64",
         "type": "float"
        },
        {
         "name": "2008/Jun",
         "rawType": "float64",
         "type": "float"
        },
        {
         "name": "2008/Jul",
         "rawType": "float64",
         "type": "float"
        },
        {
         "name": "2008/Ago",
         "rawType": "float64",
         "type": "float"
        },
        {
         "name": "2008/Set",
         "rawType": "float64",
         "type": "float"
        },
        {
         "name": "2008/Out",
         "rawType": "float64",
         "type": "float"
        },
        {
         "name": "2008/Nov",
         "rawType": "float64",
         "type": "float"
        },
        {
         "name": "2008/Dez",
         "rawType": "float64",
         "type": "float"
        },
        {
         "name": "2009/Jan",
         "rawType": "float64",
         "type": "float"
        },
        {
         "name": "2009/Fev",
         "rawType": "float64",
         "type": "float"
        },
        {
         "name": "2009/Mar",
         "rawType": "float64",
         "type": "float"
        },
        {
         "name": "2009/Abr",
         "rawType": "float64",
         "type": "float"
        },
        {
         "name": "2009/Mai",
         "rawType": "float64",
         "type": "float"
        },
        {
         "name": "2009/Jun",
         "rawType": "float64",
         "type": "float"
        },
        {
         "name": "2009/Jul",
         "rawType": "float64",
         "type": "float"
        },
        {
         "name": "2009/Ago",
         "rawType": "float64",
         "type": "float"
        },
        {
         "name": "2009/Set",
         "rawType": "float64",
         "type": "float"
        },
        {
         "name": "2009/Out",
         "rawType": "float64",
         "type": "float"
        },
        {
         "name": "2009/Nov",
         "rawType": "float64",
         "type": "float"
        },
        {
         "name": "2009/Dez",
         "rawType": "float64",
         "type": "float"
        },
        {
         "name": "2010/Jan",
         "rawType": "float64",
         "type": "float"
        },
        {
         "name": "2010/Fev",
         "rawType": "float64",
         "type": "float"
        },
        {
         "name": "2010/Mar",
         "rawType": "float64",
         "type": "float"
        },
        {
         "name": "2010/Abr",
         "rawType": "float64",
         "type": "float"
        },
        {
         "name": "2010/Mai",
         "rawType": "float64",
         "type": "float"
        },
        {
         "name": "2010/Jun",
         "rawType": "float64",
         "type": "float"
        },
        {
         "name": "2010/Jul",
         "rawType": "float64",
         "type": "float"
        },
        {
         "name": "2010/Ago",
         "rawType": "float64",
         "type": "float"
        },
        {
         "name": "2010/Set",
         "rawType": "float64",
         "type": "float"
        },
        {
         "name": "2010/Out",
         "rawType": "float64",
         "type": "float"
        },
        {
         "name": "2010/Nov",
         "rawType": "float64",
         "type": "float"
        },
        {
         "name": "2010/Dez",
         "rawType": "float64",
         "type": "float"
        },
        {
         "name": "2011/Jan",
         "rawType": "float64",
         "type": "float"
        },
        {
         "name": "2011/Fev",
         "rawType": "float64",
         "type": "float"
        },
        {
         "name": "2011/Mar",
         "rawType": "float64",
         "type": "float"
        },
        {
         "name": "2011/Abr",
         "rawType": "float64",
         "type": "float"
        },
        {
         "name": "2011/Mai",
         "rawType": "float64",
         "type": "float"
        },
        {
         "name": "2011/Jun",
         "rawType": "float64",
         "type": "float"
        },
        {
         "name": "2011/Jul",
         "rawType": "float64",
         "type": "float"
        },
        {
         "name": "2011/Ago",
         "rawType": "float64",
         "type": "float"
        },
        {
         "name": "2011/Set",
         "rawType": "float64",
         "type": "float"
        },
        {
         "name": "2011/Out",
         "rawType": "float64",
         "type": "float"
        },
        {
         "name": "2011/Nov",
         "rawType": "float64",
         "type": "float"
        },
        {
         "name": "2011/Dez",
         "rawType": "float64",
         "type": "float"
        },
        {
         "name": "2012/Jan",
         "rawType": "float64",
         "type": "float"
        },
        {
         "name": "2012/Fev",
         "rawType": "float64",
         "type": "float"
        },
        {
         "name": "2012/Mar",
         "rawType": "float64",
         "type": "float"
        },
        {
         "name": "2012/Abr",
         "rawType": "float64",
         "type": "float"
        },
        {
         "name": "2012/Mai",
         "rawType": "float64",
         "type": "float"
        },
        {
         "name": "2012/Jun",
         "rawType": "float64",
         "type": "float"
        },
        {
         "name": "2012/Jul",
         "rawType": "float64",
         "type": "float"
        },
        {
         "name": "2012/Ago",
         "rawType": "float64",
         "type": "float"
        },
        {
         "name": "2012/Set",
         "rawType": "float64",
         "type": "float"
        },
        {
         "name": "2012/Out",
         "rawType": "float64",
         "type": "float"
        },
        {
         "name": "2012/Nov",
         "rawType": "float64",
         "type": "float"
        },
        {
         "name": "2012/Dez",
         "rawType": "float64",
         "type": "float"
        },
        {
         "name": "2013/Jan",
         "rawType": "float64",
         "type": "float"
        },
        {
         "name": "2013/Fev",
         "rawType": "float64",
         "type": "float"
        },
        {
         "name": "2013/Mar",
         "rawType": "float64",
         "type": "float"
        },
        {
         "name": "2013/Abr",
         "rawType": "float64",
         "type": "float"
        },
        {
         "name": "2013/Mai",
         "rawType": "float64",
         "type": "float"
        },
        {
         "name": "2013/Jun",
         "rawType": "float64",
         "type": "float"
        },
        {
         "name": "2013/Jul",
         "rawType": "float64",
         "type": "float"
        },
        {
         "name": "2013/Ago",
         "rawType": "float64",
         "type": "float"
        },
        {
         "name": "2013/Set",
         "rawType": "float64",
         "type": "float"
        },
        {
         "name": "2013/Out",
         "rawType": "float64",
         "type": "float"
        },
        {
         "name": "2013/Nov",
         "rawType": "float64",
         "type": "float"
        },
        {
         "name": "2013/Dez",
         "rawType": "float64",
         "type": "float"
        },
        {
         "name": "2014/Jan",
         "rawType": "float64",
         "type": "float"
        },
        {
         "name": "2014/Fev",
         "rawType": "float64",
         "type": "float"
        },
        {
         "name": "2014/Mar",
         "rawType": "float64",
         "type": "float"
        },
        {
         "name": "2014/Abr",
         "rawType": "float64",
         "type": "float"
        },
        {
         "name": "2014/Mai",
         "rawType": "float64",
         "type": "float"
        },
        {
         "name": "2014/Jun",
         "rawType": "float64",
         "type": "float"
        },
        {
         "name": "2014/Jul",
         "rawType": "float64",
         "type": "float"
        },
        {
         "name": "2014/Ago",
         "rawType": "float64",
         "type": "float"
        },
        {
         "name": "2014/Set",
         "rawType": "float64",
         "type": "float"
        },
        {
         "name": "2014/Out",
         "rawType": "float64",
         "type": "float"
        },
        {
         "name": "2014/Nov",
         "rawType": "float64",
         "type": "float"
        },
        {
         "name": "2014/Dez",
         "rawType": "float64",
         "type": "float"
        },
        {
         "name": "2015/Jan",
         "rawType": "float64",
         "type": "float"
        },
        {
         "name": "2015/Fev",
         "rawType": "float64",
         "type": "float"
        },
        {
         "name": "2015/Mar",
         "rawType": "float64",
         "type": "float"
        },
        {
         "name": "2015/Abr",
         "rawType": "float64",
         "type": "float"
        },
        {
         "name": "2015/Mai",
         "rawType": "float64",
         "type": "float"
        },
        {
         "name": "2015/Jun",
         "rawType": "float64",
         "type": "float"
        },
        {
         "name": "2015/Jul",
         "rawType": "float64",
         "type": "float"
        },
        {
         "name": "2015/Ago",
         "rawType": "float64",
         "type": "float"
        },
        {
         "name": "2015/Set",
         "rawType": "float64",
         "type": "float"
        },
        {
         "name": "2015/Out",
         "rawType": "float64",
         "type": "float"
        },
        {
         "name": "2015/Nov",
         "rawType": "float64",
         "type": "float"
        },
        {
         "name": "2015/Dez",
         "rawType": "float64",
         "type": "float"
        },
        {
         "name": "2016/Jan",
         "rawType": "float64",
         "type": "float"
        },
        {
         "name": "2016/Fev",
         "rawType": "float64",
         "type": "float"
        },
        {
         "name": "2016/Mar",
         "rawType": "float64",
         "type": "float"
        },
        {
         "name": "2016/Abr",
         "rawType": "float64",
         "type": "float"
        },
        {
         "name": "2016/Mai",
         "rawType": "float64",
         "type": "float"
        },
        {
         "name": "2016/Jun",
         "rawType": "float64",
         "type": "float"
        },
        {
         "name": "2016/Jul",
         "rawType": "float64",
         "type": "float"
        },
        {
         "name": "2016/Ago",
         "rawType": "float64",
         "type": "float"
        },
        {
         "name": "2016/Set",
         "rawType": "float64",
         "type": "float"
        },
        {
         "name": "2016/Out",
         "rawType": "float64",
         "type": "float"
        },
        {
         "name": "2016/Nov",
         "rawType": "float64",
         "type": "float"
        },
        {
         "name": "2016/Dez",
         "rawType": "float64",
         "type": "float"
        },
        {
         "name": "2017/Jan",
         "rawType": "float64",
         "type": "float"
        },
        {
         "name": "2017/Fev",
         "rawType": "float64",
         "type": "float"
        },
        {
         "name": "2017/Mar",
         "rawType": "float64",
         "type": "float"
        },
        {
         "name": "2017/Abr",
         "rawType": "float64",
         "type": "float"
        },
        {
         "name": "2017/Mai",
         "rawType": "float64",
         "type": "float"
        },
        {
         "name": "2017/Jun",
         "rawType": "float64",
         "type": "float"
        },
        {
         "name": "2017/Jul",
         "rawType": "float64",
         "type": "float"
        },
        {
         "name": "2017/Ago",
         "rawType": "float64",
         "type": "float"
        },
        {
         "name": "2017/Set",
         "rawType": "float64",
         "type": "float"
        },
        {
         "name": "2017/Out",
         "rawType": "float64",
         "type": "float"
        },
        {
         "name": "2017/Nov",
         "rawType": "float64",
         "type": "float"
        },
        {
         "name": "2017/Dez",
         "rawType": "float64",
         "type": "float"
        },
        {
         "name": "2018/Jan",
         "rawType": "float64",
         "type": "float"
        },
        {
         "name": "2018/Fev",
         "rawType": "float64",
         "type": "float"
        },
        {
         "name": "2018/Mar",
         "rawType": "float64",
         "type": "float"
        },
        {
         "name": "2018/Abr",
         "rawType": "float64",
         "type": "float"
        },
        {
         "name": "2018/Mai",
         "rawType": "float64",
         "type": "float"
        },
        {
         "name": "2018/Jun",
         "rawType": "float64",
         "type": "float"
        },
        {
         "name": "2018/Jul",
         "rawType": "float64",
         "type": "float"
        },
        {
         "name": "2018/Ago",
         "rawType": "float64",
         "type": "float"
        },
        {
         "name": "2018/Set",
         "rawType": "float64",
         "type": "float"
        },
        {
         "name": "2018/Out",
         "rawType": "float64",
         "type": "float"
        },
        {
         "name": "2018/Nov",
         "rawType": "float64",
         "type": "float"
        },
        {
         "name": "2018/Dez",
         "rawType": "float64",
         "type": "float"
        },
        {
         "name": "2019/Jan",
         "rawType": "float64",
         "type": "float"
        },
        {
         "name": "2019/Fev",
         "rawType": "float64",
         "type": "float"
        },
        {
         "name": "2019/Mar",
         "rawType": "float64",
         "type": "float"
        },
        {
         "name": "2019/Abr",
         "rawType": "float64",
         "type": "float"
        },
        {
         "name": "2019/Mai",
         "rawType": "float64",
         "type": "float"
        },
        {
         "name": "2019/Jun",
         "rawType": "float64",
         "type": "float"
        },
        {
         "name": "2019/Jul",
         "rawType": "float64",
         "type": "float"
        },
        {
         "name": "2019/Ago",
         "rawType": "float64",
         "type": "float"
        },
        {
         "name": "2019/Set",
         "rawType": "float64",
         "type": "float"
        },
        {
         "name": "2019/Out",
         "rawType": "float64",
         "type": "float"
        },
        {
         "name": "2019/Nov",
         "rawType": "float64",
         "type": "float"
        },
        {
         "name": "2019/Dez",
         "rawType": "float64",
         "type": "float"
        },
        {
         "name": "2020/Jan",
         "rawType": "float64",
         "type": "float"
        },
        {
         "name": "2020/Fev",
         "rawType": "float64",
         "type": "float"
        },
        {
         "name": "2020/Mar",
         "rawType": "float64",
         "type": "float"
        },
        {
         "name": "2020/Abr",
         "rawType": "float64",
         "type": "float"
        },
        {
         "name": "2020/Mai",
         "rawType": "float64",
         "type": "float"
        },
        {
         "name": "2020/Jun",
         "rawType": "float64",
         "type": "float"
        },
        {
         "name": "2020/Jul",
         "rawType": "float64",
         "type": "float"
        },
        {
         "name": "2020/Ago",
         "rawType": "float64",
         "type": "float"
        },
        {
         "name": "2020/Set",
         "rawType": "float64",
         "type": "float"
        },
        {
         "name": "2020/Out",
         "rawType": "float64",
         "type": "float"
        },
        {
         "name": "2020/Nov",
         "rawType": "float64",
         "type": "float"
        },
        {
         "name": "2020/Dez",
         "rawType": "float64",
         "type": "float"
        },
        {
         "name": "2021/Jan",
         "rawType": "float64",
         "type": "float"
        },
        {
         "name": "2021/Fev",
         "rawType": "float64",
         "type": "float"
        },
        {
         "name": "2021/Mar",
         "rawType": "float64",
         "type": "float"
        },
        {
         "name": "2021/Abr",
         "rawType": "float64",
         "type": "float"
        },
        {
         "name": "2021/Mai",
         "rawType": "float64",
         "type": "float"
        },
        {
         "name": "2021/Jun",
         "rawType": "float64",
         "type": "float"
        },
        {
         "name": "2021/Jul",
         "rawType": "float64",
         "type": "float"
        },
        {
         "name": "2021/Ago",
         "rawType": "float64",
         "type": "float"
        },
        {
         "name": "2021/Set",
         "rawType": "object",
         "type": "string"
        },
        {
         "name": "Total",
         "rawType": "float64",
         "type": "float"
        }
       ],
       "conversionMethod": "pd.DataFrame",
       "ref": "16952af3-c308-4528-9592-f68708343282",
       "rows": [
        [
         "22",
         "43 Rio Grande do Sul",
         "-",
         "-",
         "-",
         "-",
         "-",
         "-",
         "-",
         "-",
         "-",
         "-",
         "-",
         "-",
         "-",
         "-",
         "-",
         "-",
         "-",
         "-",
         "-",
         "-",
         "-",
         "-",
         "-",
         "-",
         "-",
         "-",
         "-",
         "-",
         "-",
         "-",
         "-",
         "-",
         "-",
         "-",
         "-",
         "-",
         "-",
         "-",
         "-",
         "873.76",
         "244.65",
         "-",
         "-",
         "-",
         "-",
         "-",
         "-",
         "-",
         "-",
         "-",
         "-",
         "-",
         "-",
         "-",
         "-",
         "-",
         "-",
         "-",
         "-",
         "-",
         "-",
         "-",
         "-",
         "-",
         "-",
         "-",
         "-",
         "-",
         "-",
         "-",
         "-",
         "-",
         "-",
         "-",
         "-",
         "-",
         "-",
         "-",
         "-",
         "-",
         "-",
         "-",
         "-",
         "-",
         "-",
         "-",
         "-",
         "-",
         "-",
         "-",
         "-",
         "-",
         "-",
         "411.36",
         "1048.52",
         "-",
         "-",
         "-",
         "-",
         "-",
         "-",
         "-",
         "-",
         "-",
         "-",
         "-",
         "-",
         "1199.87",
         "-",
         "-",
         "-",
         "347.90",
         "-",
         "-",
         "-",
         "-",
         "-",
         "-",
         "-",
         "11694.41",
         "100916.50",
         "1049252.33",
         "3182913.14",
         "8571312.11",
         "16592432.8",
         "30134255.7",
         "51064610.03",
         "45897704.82",
         "52928695.92",
         "51972416.77",
         "51679350.79",
         "53759674.01",
         "56391647.77",
         "56233758.74",
         "57910170.98",
         "59592124.91",
         "57565742.08",
         "55696920.94",
         "61522380.02",
         "52101637.77",
         "65111965.49",
         "61590828.91",
         "64402291.62",
         "63090640.55",
         "69137004.88",
         "66062629.79",
         "65222011.32",
         "67569409.19",
         "64189115.3",
         "62244282.8",
         "65488387.87",
         "56964528.31",
         "69933577.14",
         "66486835.62",
         "69108367.47",
         "67570770.09",
         "70074754.73",
         "70884009.17",
         "65079794.92",
         "66556015.62",
         "66097030.85",
         "61737098.13",
         "66918913.09",
         "61370763.6",
         "69004974.8",
         "66225068.29",
         "72172669.74",
         "70770992.38",
         "70835358.17",
         "73674390.94",
         "68345974.5",
         "70411134.32",
         "68008922.1",
         "65692039.28",
         "71523795.74",
         "64135041.24",
         "73623568.14",
         "69010258.19",
         "76607693.0",
         "74785423.89",
         "76916947.25",
         "78758125.55",
         "69413475.17",
         "77155562.05",
         "69590896.9",
         "67267196.31",
         "78346443.99",
         "66867562.81",
         "76562940.15",
         "82705691.47",
         "82855387.3",
         "80638411.68",
         "87456538.74",
         "84526389.95",
         "81983921.89",
         "87452330.1",
         "82653691.49",
         "77636567.05",
         "83655725.66",
         "75584443.38",
         "82965053.06",
         "83602553.38",
         "87821405.54",
         "85176008.81",
         "90592156.29",
         "89980046.86",
         "90635544.74",
         "93416548.53",
         "86546826.85",
         "81253607.98",
         "85251478.27",
         "75244263.84",
         "95207075.63",
         "86942229.17",
         "91888536.34",
         "90007690.88",
         "92603617.28",
         "90473944.46",
         "87347767.93",
         "87834001.13",
         "86439585.98",
         "80721707.52",
         "85435165.82",
         "79211931.13",
         "89817937.75",
         "85297352.28",
         "91261106.84",
         "91310016.17",
         "90988329.52",
         "93715417.41",
         "86872326.19",
         "87089975.07",
         "81919639.76",
         "81599478.03",
         "87255987.99",
         "76070420.2",
         "93116698.0",
         "83188379.66",
         "95149948.63",
         "93172414.99",
         "94415257.59",
         "94228158.01",
         "86424773.65",
         "91598179.14",
         "85793700.48",
         "82737574.48",
         "91825671.54",
         "77582012.38",
         "91078325.19",
         "91926773.8",
         "91678131.98",
         "90989887.85",
         "94861008.1",
         "96799643.23",
         "87344269.09",
         "97371100.06",
         "90190767.67",
         "81748880.3",
         "92467100.02",
         "85301000.44",
         "91624338.7",
         "92787953.22",
         "99145915.34",
         "95863320.03",
         "103044767.94",
         "98566147.88",
         "94371567.58",
         "97000444.99",
         "91006554.37",
         "88779522.36",
         "97629735.03",
         "85488519.32",
         "84895799.05",
         "76832181.55",
         "87814477.98",
         "96822233.82",
         "108563752.53",
         "111791116.08",
         "110216942.03",
         "114042222.77",
         "117696633.24",
         "120291289.0",
         "115991861.17",
         "126730284.94",
         "169687680.33",
         "145302546.19",
         "155084262.06",
         "142812283.7",
         "112805351.92",
         "74954589.62",
         "25200345.68",
         "13613341350.0"
        ],
        [
         "23",
         "50 Mato Grosso do Sul",
         "-",
         "-",
         "-",
         "-",
         "-",
         "-",
         "-",
         "-",
         "-",
         "-",
         "-",
         "-",
         "-",
         "-",
         "-",
         "-",
         "-",
         "-",
         "-",
         "-",
         "-",
         "-",
         "-",
         "-",
         "-",
         "-",
         "-",
         "-",
         "-",
         "-",
         "-",
         "-",
         "-",
         "-",
         "-",
         "-",
         "-",
         "-",
         "-",
         "-",
         "-",
         "-",
         "-",
         "-",
         "-",
         "-",
         "-",
         "-",
         "-",
         "-",
         "-",
         "-",
         "-",
         "-",
         "-",
         "-",
         "-",
         "-",
         "-",
         "-",
         "-",
         "-",
         "-",
         "-",
         "-",
         "-",
         "-",
         "-",
         "-",
         "-",
         "-",
         "-",
         "-",
         "-",
         "-",
         "-",
         "-",
         "-",
         "-",
         "-",
         "-",
         "-",
         "-",
         "-",
         "-",
         "-",
         "-",
         "-",
         "-",
         "-",
         "-",
         "-",
         "-",
         "-",
         "-",
         "-",
         "-",
         "-",
         "-",
         "-",
         "-",
         "-",
         "-",
         "-",
         "-",
         "-",
         "-",
         "-",
         "-",
         "-",
         "-",
         "-",
         "-",
         "-",
         "-",
         "-",
         "-",
         "-",
         "-",
         "-",
         "9722.90",
         "199556.12",
         "573675.41",
         "1069816.66",
         "1995899.52",
         "4277979.14",
         "8301006.1",
         "8279288.79",
         "9793888.78",
         "8997542.75",
         "9842108.59",
         "10257782.0",
         "10167827.24",
         "9602843.49",
         "10272466.74",
         "10814111.53",
         "10371654.9",
         "9140959.8",
         "9771575.46",
         "9648706.17",
         "11784290.1",
         "11240770.37",
         "11155445.9",
         "11796784.62",
         "11956687.54",
         "12420336.71",
         "11489768.73",
         "11698487.88",
         "11286787.17",
         "10814729.24",
         "11570718.38",
         "10920760.16",
         "13204085.81",
         "11711475.2",
         "12671896.78",
         "12584046.8",
         "11808910.05",
         "12917152.45",
         "12429678.06",
         "12526681.04",
         "12305360.94",
         "11190032.82",
         "11894027.89",
         "11691745.82",
         "13243933.73",
         "12611967.81",
         "13435139.24",
         "12995272.5",
         "13187128.48",
         "12775178.56",
         "12413572.78",
         "12264289.91",
         "12363566.12",
         "11847750.53",
         "12708242.94",
         "12258350.15",
         "14182591.88",
         "12695741.9",
         "14762600.11",
         "12975434.65",
         "14392056.82",
         "14219267.16",
         "13022123.35",
         "14005248.97",
         "13038497.92",
         "11881218.15",
         "13730382.17",
         "12661202.29",
         "13981801.71",
         "14908567.0",
         "13990063.33",
         "14034238.59",
         "14489842.07",
         "14317099.43",
         "14966682.5",
         "15077394.04",
         "14313501.17",
         "13360775.96",
         "14476457.54",
         "13378691.64",
         "14784850.66",
         "14236961.4",
         "16186722.0",
         "14707272.2",
         "15417812.14",
         "15662494.1",
         "15341501.78",
         "15480496.35",
         "14624058.44",
         "13751928.71",
         "14710586.61",
         "13508328.95",
         "16604367.15",
         "15157091.25",
         "15502849.68",
         "15934364.42",
         "16527263.93",
         "15862246.77",
         "15302118.92",
         "15402132.94",
         "14072639.15",
         "14393171.71",
         "15403297.01",
         "15089363.65",
         "16639323.85",
         "15795236.63",
         "17030861.02",
         "16882187.6",
         "16414064.06",
         "16501941.24",
         "16560277.08",
         "15450100.36",
         "15362815.06",
         "14780996.5",
         "16560677.33",
         "14502733.75",
         "17888222.97",
         "15646601.91",
         "18212081.17",
         "16323017.6",
         "16892566.36",
         "17019787.73",
         "15808304.19",
         "16071645.95",
         "15687000.65",
         "15040368.93",
         "16146431.63",
         "14703494.87",
         "16969878.14",
         "17062906.92",
         "17068192.56",
         "17143032.3",
         "17435039.9",
         "18239321.45",
         "16963131.37",
         "17677185.62",
         "16363926.26",
         "16149109.15",
         "16902636.63",
         "16964922.58",
         "17259392.23",
         "18147562.63",
         "19143242.28",
         "17905638.97",
         "18126954.44",
         "19217982.14",
         "18904364.43",
         "18812185.96",
         "18316480.8",
         "17844511.04",
         "18654501.49",
         "17877667.41",
         "17395566.03",
         "15854121.13",
         "17502042.14",
         "19724932.28",
         "23640103.64",
         "22628257.89",
         "21557942.37",
         "22030775.02",
         "21944586.48",
         "25069724.67",
         "24727004.66",
         "25600761.42",
         "32506184.09",
         "33101059.57",
         "36885633.11",
         "31595196.27",
         "20711974.43",
         "11302985.98",
         "2445267.12",
         "2516383489.01"
        ],
        [
         "24",
         "51 Mato Grosso",
         "-",
         "-",
         "-",
         "-",
         "-",
         "-",
         "-",
         "-",
         "-",
         "-",
         "-",
         "-",
         "-",
         "-",
         "-",
         "-",
         "-",
         "-",
         "-",
         "-",
         "-",
         "-",
         "-",
         "-",
         "-",
         "-",
         "-",
         "-",
         "-",
         "-",
         "-",
         "-",
         "-",
         "-",
         "-",
         "-",
         "-",
         "-",
         "-",
         "-",
         "-",
         "-",
         "-",
         "-",
         "-",
         "-",
         "-",
         "-",
         "-",
         "-",
         "-",
         "-",
         "-",
         "-",
         "-",
         "-",
         "-",
         "-",
         "-",
         "-",
         "-",
         "-",
         "-",
         "-",
         "-",
         "-",
         "-",
         "-",
         "-",
         "-",
         "-",
         "-",
         "-",
         "-",
         "-",
         "-",
         "-",
         "-",
         "-",
         "-",
         "-",
         "-",
         "-",
         "-",
         "-",
         "-",
         "-",
         "-",
         "-",
         "-",
         "-",
         "-",
         "-",
         "-",
         "-",
         "-",
         "-",
         "-",
         "-",
         "-",
         "-",
         "-",
         "-",
         "-",
         "-",
         "-",
         "-",
         "-",
         "-",
         "-",
         "-",
         "-",
         "-",
         "-",
         "3034.68",
         "233.57",
         "-",
         "-",
         "-",
         "1891.44",
         "4573.77",
         "63562.5",
         "232444.62",
         "927219.59",
         "1740439.6",
         "5394225.43",
         "8213438.64",
         "7929894.93",
         "9416367.68",
         "9390588.03",
         "9378197.25",
         "9450300.6",
         "9789875.38",
         "8987811.95",
         "8843061.6",
         "9237298.8",
         "9459192.8",
         "9210598.63",
         "10039582.41",
         "9326576.4",
         "11680730.78",
         "11102643.47",
         "11495694.05",
         "11386425.93",
         "11658855.38",
         "12339077.28",
         "11600187.11",
         "11262247.37",
         "11734970.74",
         "11065381.68",
         "11839990.16",
         "10826512.86",
         "13243684.1",
         "12240702.64",
         "12781426.23",
         "11614062.9",
         "12193931.16",
         "12213130.6",
         "11923683.94",
         "11703375.19",
         "11484917.22",
         "11231134.25",
         "11689015.87",
         "10872461.88",
         "12323295.29",
         "11875884.32",
         "12160036.15",
         "11896466.92",
         "11906914.01",
         "12516431.55",
         "11997454.95",
         "12373709.66",
         "12035040.67",
         "11176334.25",
         "11610941.96",
         "11145146.92",
         "13092059.07",
         "12644904.77",
         "13741937.46",
         "12133022.98",
         "13413397.53",
         "12803915.37",
         "12326096.33",
         "12975315.73",
         "12099723.62",
         "11701936.75",
         "12927077.68",
         "11344659.97",
         "13628326.37",
         "13339717.57",
         "13550755.07",
         "13047614.48",
         "12692112.31",
         "13552226.24",
         "12948758.03",
         "14073754.39",
         "13302924.19",
         "12034350.69",
         "13117006.0",
         "12804374.54",
         "14254604.83",
         "14038170.78",
         "14599236.3",
         "13846204.38",
         "14709530.15",
         "13939134.36",
         "13644617.9",
         "14958564.62",
         "13680626.69",
         "12811566.48",
         "13436951.56",
         "12774769.97",
         "15503274.19",
         "14768137.25",
         "15456624.27",
         "14043844.09",
         "15301276.96",
         "14906771.53",
         "14146225.75",
         "14840947.44",
         "14826046.63",
         "14027102.89",
         "14522409.72",
         "14414918.94",
         "16099384.26",
         "15275703.67",
         "15958963.89",
         "15586368.03",
         "15184179.55",
         "16209122.59",
         "15013671.23",
         "15111332.72",
         "13414332.43",
         "13606690.44",
         "14814707.16",
         "13946471.26",
         "16437915.6",
         "15835149.88",
         "16543674.21",
         "16194037.75",
         "16508402.55",
         "16749377.27",
         "15416292.84",
         "16251545.59",
         "14659894.99",
         "14473688.3",
         "15578896.35",
         "14592428.67",
         "17252931.32",
         "15921801.14",
         "16732272.17",
         "16075073.71",
         "16479008.11",
         "16011187.69",
         "15357273.96",
         "16834151.93",
         "15474405.82",
         "14234942.3",
         "15055383.98",
         "14478906.98",
         "15976701.25",
         "16026760.63",
         "17304334.81",
         "16131820.19",
         "16467803.96",
         "16532335.42",
         "15596133.69",
         "16564324.2",
         "15122951.39",
         "13839763.36",
         "15546808.82",
         "14460507.38",
         "14493916.52",
         "12187688.07",
         "14675991.52",
         "18546814.06",
         "20683080.17",
         "20937635.71",
         "20180923.34",
         "20457900.95",
         "18816500.6",
         "19579997.79",
         "18889711.53",
         "21544594.04",
         "35790837.7",
         "37534015.2",
         "37859473.58",
         "34937134.14",
         "29364200.76",
         "19849249.43",
         "7325067.61",
         "2386584382.72"
        ],
        [
         "25",
         "52 Goiás",
         "-",
         "-",
         "-",
         "-",
         "-",
         "-",
         "-",
         "-",
         "-",
         "-",
         "-",
         "-",
         "-",
         "-",
         "-",
         "-",
         "-",
         "-",
         "-",
         "-",
         "-",
         "-",
         "-",
         "-",
         "-",
         "-",
         "-",
         "-",
         "-",
         "-",
         "-",
         "-",
         "-",
         "-",
         "-",
         "-",
         "-",
         "-",
         "-",
         "-",
         "-",
         "1199.87",
         "-",
         "-",
         "-",
         "-",
         "-",
         "-",
         "-",
         "-",
         "-",
         "-",
         "-",
         "-",
         "-",
         "-",
         "-",
         "-",
         "-",
         "-",
         "-",
         "-",
         "-",
         "-",
         "-",
         "-",
         "-",
         "-",
         "-",
         "6270.30",
         "-",
         "-",
         "-",
         "-",
         "-",
         "-",
         "-",
         "-",
         "-",
         "-",
         "-",
         "-",
         "-",
         "-",
         "-",
         "-",
         "-",
         "-",
         "-",
         "1122.46",
         "-",
         "-",
         "-",
         "1309.80",
         "1199.87",
         "-",
         "-",
         "-",
         "-",
         "-",
         "-",
         "-",
         "11148.83",
         "-",
         "869.70",
         "-",
         "-",
         "-",
         "-",
         "-",
         "347.90",
         "497.01",
         "1143.13",
         "-",
         "862.14",
         "1299.81",
         "-",
         "-",
         "-",
         "32316.96",
         "7673.55",
         "179395.82",
         "418053.58",
         "1198730.25",
         "2712117.54",
         "9293914.78",
         "76052094.77",
         "18149374.27",
         "20992213.03",
         "21049477.3",
         "19162546.79",
         "20393492.15",
         "20038405.64",
         "21070201.36",
         "21426076.95",
         "20610541.5",
         "19971387.09",
         "19343787.54",
         "20817880.66",
         "20230611.76",
         "24174119.21",
         "22943952.73",
         "23781906.69",
         "23698955.64",
         "23293723.39",
         "25835544.14",
         "25151192.72",
         "24788459.65",
         "24119611.54",
         "23233015.39",
         "24645218.91",
         "21862807.98",
         "26583557.76",
         "24607122.59",
         "30130475.16",
         "24546627.05",
         "24647099.1",
         "27320170.27",
         "26572155.97",
         "24729254.0",
         "24006963.52",
         "23938327.42",
         "25579158.99",
         "25471498.82",
         "29993762.49",
         "26873816.69",
         "27726611.13",
         "26403306.55",
         "26844970.28",
         "28867593.87",
         "27713336.18",
         "28864474.61",
         "26680775.78",
         "24578961.48",
         "27684351.19",
         "26696732.66",
         "29594030.58",
         "28092283.73",
         "27532690.46",
         "27843946.64",
         "26725240.89",
         "30388176.49",
         "28019404.58",
         "29397790.07",
         "27099260.67",
         "25679451.64",
         "29457781.97",
         "27694012.3",
         "31522363.91",
         "33945828.23",
         "31982160.06",
         "30693306.71",
         "30753179.71",
         "32848134.94",
         "32803709.69",
         "32758616.76",
         "30995511.82",
         "29448208.14",
         "31991601.57",
         "30186539.06",
         "30974989.77",
         "33702397.3",
         "34151578.83",
         "32480092.98",
         "33303551.27",
         "34444400.16",
         "35836544.02",
         "35382520.84",
         "34416820.87",
         "32970379.84",
         "33007277.66",
         "32000428.17",
         "38302222.94",
         "35180290.69",
         "35891930.24",
         "34600398.07",
         "36001362.81",
         "35737392.99",
         "36188817.57",
         "35272066.2",
         "33706644.3",
         "32531455.02",
         "33079612.65",
         "32766713.35",
         "36491049.4",
         "33515633.62",
         "34410079.1",
         "35592249.47",
         "32807165.71",
         "35923937.39",
         "34030455.97",
         "32748083.99",
         "31372033.99",
         "30983473.09",
         "34045127.93",
         "30972237.23",
         "37613725.62",
         "33650654.21",
         "37001970.44",
         "33694854.72",
         "33967314.82",
         "36928732.53",
         "32779492.62",
         "35651021.74",
         "32622355.44",
         "32500201.34",
         "33841544.88",
         "30982976.89",
         "34905106.67",
         "33822748.72",
         "36503040.37",
         "33582124.54",
         "35488246.05",
         "35424981.13",
         "33850469.1",
         "36135080.73",
         "34951149.67",
         "34140309.42",
         "34795831.02",
         "33308716.15",
         "34980191.22",
         "36252590.37",
         "37897751.14",
         "35431300.23",
         "36533262.24",
         "38669416.38",
         "36479054.16",
         "37226960.95",
         "36348537.42",
         "34094257.4",
         "36524322.89",
         "34283628.21",
         "34839069.77",
         "28760754.83",
         "35137030.63",
         "38898447.31",
         "45951845.32",
         "47626411.36",
         "48087712.84",
         "45726137.99",
         "41343113.77",
         "41133178.65",
         "42638703.48",
         "45715467.93",
         "74464062.86",
         "68630407.92",
         "69467332.76",
         "67162348.93",
         "57891285.6",
         "44939821.34",
         "18860370.17",
         "5380179246.6"
        ],
        [
         "26",
         "53 Distrito Federal",
         "-",
         "-",
         "-",
         "-",
         "-",
         "-",
         "-",
         "-",
         "-",
         "-",
         "-",
         "-",
         "-",
         "-",
         "-",
         "-",
         "-",
         "-",
         "-",
         "-",
         "-",
         "-",
         "-",
         "-",
         "-",
         "-",
         "-",
         "-",
         "-",
         "-",
         "-",
         "-",
         "-",
         "-",
         "-",
         "-",
         "-",
         "-",
         "-",
         "-",
         "-",
         "-",
         "-",
         "-",
         "-",
         "-",
         "-",
         "-",
         "-",
         "-",
         "-",
         "-",
         "-",
         "-",
         "-",
         "-",
         "-",
         "-",
         "-",
         "-",
         "-",
         "-",
         "-",
         "-",
         "-",
         "-",
         "-",
         "-",
         "-",
         "-",
         "-",
         "-",
         "-",
         "-",
         "-",
         "-",
         "-",
         "-",
         "-",
         "-",
         "-",
         "-",
         "-",
         "-",
         "-",
         "-",
         "-",
         "-",
         "-",
         "-",
         "-",
         "-",
         "-",
         "-",
         "-",
         "-",
         "-",
         "-",
         "-",
         "-",
         "-",
         "-",
         "-",
         "-",
         "-",
         "-",
         "-",
         "-",
         "-",
         "-",
         "-",
         "-",
         "-",
         "-",
         "2647.89",
         "5141.11",
         "457.97",
         "-",
         "554.69",
         "554.69",
         "104654.16",
         "191951.47",
         "769966.25",
         "2165619.56",
         "3813256.48",
         "7121965.42",
         "10561085.46",
         "10215956.8",
         "11627918.26",
         "11922015.36",
         "11900817.0",
         "11969271.76",
         "11299443.0",
         "11548451.89",
         "12422577.6",
         "12419976.84",
         "12302698.99",
         "12005669.6",
         "13150489.0",
         "12358825.51",
         "14445518.57",
         "14434211.04",
         "14622167.93",
         "14209413.8",
         "14459081.79",
         "15051993.46",
         "14045711.83",
         "13162775.24",
         "13197596.7",
         "12889509.22",
         "13484046.67",
         "13295738.66",
         "14928384.44",
         "13535496.11",
         "14394599.86",
         "13863063.0",
         "14051586.56",
         "15073336.93",
         "14636724.4",
         "14052063.36",
         "14277016.84",
         "12474757.39",
         "14611655.44",
         "13510243.87",
         "15156900.72",
         "14830081.29",
         "15039803.35",
         "14533593.49",
         "14152277.74",
         "16203282.14",
         "15545333.16",
         "14984401.72",
         "14517639.25",
         "13660139.57",
         "15243410.25",
         "14058287.03",
         "15756452.46",
         "15264669.96",
         "15568002.78",
         "15122475.44",
         "15049839.46",
         "15498554.36",
         "15242942.8",
         "15813900.69",
         "13666331.64",
         "13168229.45",
         "14102841.97",
         "14463584.48",
         "16204274.68",
         "16661208.89",
         "17035456.9",
         "15936938.2",
         "15619909.98",
         "17207426.4",
         "15938775.37",
         "16919100.74",
         "14950906.68",
         "14385540.52",
         "15347265.06",
         "14538398.24",
         "17060470.32",
         "17181599.31",
         "17255231.12",
         "16249619.64",
         "15587215.18",
         "14954610.88",
         "14309931.08",
         "13765945.14",
         "14020609.04",
         "13730781.49",
         "12285863.67",
         "11946457.93",
         "16993513.09",
         "15989400.75",
         "15248158.43",
         "15169933.4",
         "14584933.45",
         "15253710.89",
         "15831816.05",
         "14370562.76",
         "14396328.33",
         "14069268.82",
         "15556487.41",
         "15629798.61",
         "16692761.3",
         "15922076.67",
         "17503631.22",
         "17529009.97",
         "16547854.94",
         "17770626.7",
         "16588931.42",
         "17420879.75",
         "16551981.73",
         "16108634.74",
         "18097764.83",
         "15392273.58",
         "18699348.69",
         "16523664.46",
         "15531998.6",
         "18573610.32",
         "17541378.12",
         "19143091.84",
         "17949844.52",
         "18200213.74",
         "17409701.46",
         "16038710.79",
         "18976846.56",
         "18389240.38",
         "19746542.97",
         "19508159.58",
         "19463161.26",
         "18400388.35",
         "18783802.78",
         "20291741.3",
         "19388061.07",
         "19677470.12",
         "18397893.23",
         "17564774.75",
         "19662949.33",
         "18270823.61",
         "20046081.24",
         "20602037.52",
         "21101108.01",
         "19361819.39",
         "21514926.74",
         "21133361.51",
         "20963621.6",
         "21333585.2",
         "19617400.92",
         "19207148.01",
         "20429251.56",
         "18249176.79",
         "19637907.26",
         "18164306.94",
         "21662370.23",
         "25049609.65",
         "26448837.08",
         "23894320.22",
         "21786368.46",
         "23103733.14",
         "20747736.49",
         "22822625.4",
         "24484716.93",
         "24156062.77",
         "36391034.41",
         "35641761.42",
         "32434557.27",
         "27196457.0",
         "26265515.44",
         "22156437.6",
         "13173812.37",
         "2778456616.77"
        ]
       ],
       "shape": {
        "columns": 293,
        "rows": 5
       }
      },
      "text/html": [
       "<div>\n",
       "<style scoped>\n",
       "    .dataframe tbody tr th:only-of-type {\n",
       "        vertical-align: middle;\n",
       "    }\n",
       "\n",
       "    .dataframe tbody tr th {\n",
       "        vertical-align: top;\n",
       "    }\n",
       "\n",
       "    .dataframe thead th {\n",
       "        text-align: right;\n",
       "    }\n",
       "</style>\n",
       "<table border=\"1\" class=\"dataframe\">\n",
       "  <thead>\n",
       "    <tr style=\"text-align: right;\">\n",
       "      <th></th>\n",
       "      <th>Unidade da Federação</th>\n",
       "      <th>1992/Mar</th>\n",
       "      <th>1992/Abr</th>\n",
       "      <th>1993/Mai</th>\n",
       "      <th>1993/Dez</th>\n",
       "      <th>1994/Jan</th>\n",
       "      <th>1994/Fev</th>\n",
       "      <th>1994/Mai</th>\n",
       "      <th>1994/Ago</th>\n",
       "      <th>1994/Nov</th>\n",
       "      <th>...</th>\n",
       "      <th>2021/Jan</th>\n",
       "      <th>2021/Fev</th>\n",
       "      <th>2021/Mar</th>\n",
       "      <th>2021/Abr</th>\n",
       "      <th>2021/Mai</th>\n",
       "      <th>2021/Jun</th>\n",
       "      <th>2021/Jul</th>\n",
       "      <th>2021/Ago</th>\n",
       "      <th>2021/Set</th>\n",
       "      <th>Total</th>\n",
       "    </tr>\n",
       "  </thead>\n",
       "  <tbody>\n",
       "    <tr>\n",
       "      <th>22</th>\n",
       "      <td>43 Rio Grande do Sul</td>\n",
       "      <td>-</td>\n",
       "      <td>-</td>\n",
       "      <td>-</td>\n",
       "      <td>-</td>\n",
       "      <td>-</td>\n",
       "      <td>-</td>\n",
       "      <td>-</td>\n",
       "      <td>-</td>\n",
       "      <td>-</td>\n",
       "      <td>...</td>\n",
       "      <td>1.159919e+08</td>\n",
       "      <td>1.267303e+08</td>\n",
       "      <td>1.696877e+08</td>\n",
       "      <td>1.453025e+08</td>\n",
       "      <td>1.550843e+08</td>\n",
       "      <td>1.428123e+08</td>\n",
       "      <td>1.128054e+08</td>\n",
       "      <td>74954589.62</td>\n",
       "      <td>25200345.68</td>\n",
       "      <td>1.361334e+10</td>\n",
       "    </tr>\n",
       "    <tr>\n",
       "      <th>23</th>\n",
       "      <td>50 Mato Grosso do Sul</td>\n",
       "      <td>-</td>\n",
       "      <td>-</td>\n",
       "      <td>-</td>\n",
       "      <td>-</td>\n",
       "      <td>-</td>\n",
       "      <td>-</td>\n",
       "      <td>-</td>\n",
       "      <td>-</td>\n",
       "      <td>-</td>\n",
       "      <td>...</td>\n",
       "      <td>2.472700e+07</td>\n",
       "      <td>2.560076e+07</td>\n",
       "      <td>3.250618e+07</td>\n",
       "      <td>3.310106e+07</td>\n",
       "      <td>3.688563e+07</td>\n",
       "      <td>3.159520e+07</td>\n",
       "      <td>2.071197e+07</td>\n",
       "      <td>11302985.98</td>\n",
       "      <td>2445267.12</td>\n",
       "      <td>2.516383e+09</td>\n",
       "    </tr>\n",
       "    <tr>\n",
       "      <th>24</th>\n",
       "      <td>51 Mato Grosso</td>\n",
       "      <td>-</td>\n",
       "      <td>-</td>\n",
       "      <td>-</td>\n",
       "      <td>-</td>\n",
       "      <td>-</td>\n",
       "      <td>-</td>\n",
       "      <td>-</td>\n",
       "      <td>-</td>\n",
       "      <td>-</td>\n",
       "      <td>...</td>\n",
       "      <td>1.888971e+07</td>\n",
       "      <td>2.154459e+07</td>\n",
       "      <td>3.579084e+07</td>\n",
       "      <td>3.753402e+07</td>\n",
       "      <td>3.785947e+07</td>\n",
       "      <td>3.493713e+07</td>\n",
       "      <td>2.936420e+07</td>\n",
       "      <td>19849249.43</td>\n",
       "      <td>7325067.61</td>\n",
       "      <td>2.386584e+09</td>\n",
       "    </tr>\n",
       "    <tr>\n",
       "      <th>25</th>\n",
       "      <td>52 Goiás</td>\n",
       "      <td>-</td>\n",
       "      <td>-</td>\n",
       "      <td>-</td>\n",
       "      <td>-</td>\n",
       "      <td>-</td>\n",
       "      <td>-</td>\n",
       "      <td>-</td>\n",
       "      <td>-</td>\n",
       "      <td>-</td>\n",
       "      <td>...</td>\n",
       "      <td>4.263870e+07</td>\n",
       "      <td>4.571547e+07</td>\n",
       "      <td>7.446406e+07</td>\n",
       "      <td>6.863041e+07</td>\n",
       "      <td>6.946733e+07</td>\n",
       "      <td>6.716235e+07</td>\n",
       "      <td>5.789129e+07</td>\n",
       "      <td>44939821.34</td>\n",
       "      <td>18860370.17</td>\n",
       "      <td>5.380179e+09</td>\n",
       "    </tr>\n",
       "    <tr>\n",
       "      <th>26</th>\n",
       "      <td>53 Distrito Federal</td>\n",
       "      <td>-</td>\n",
       "      <td>-</td>\n",
       "      <td>-</td>\n",
       "      <td>-</td>\n",
       "      <td>-</td>\n",
       "      <td>-</td>\n",
       "      <td>-</td>\n",
       "      <td>-</td>\n",
       "      <td>-</td>\n",
       "      <td>...</td>\n",
       "      <td>2.448472e+07</td>\n",
       "      <td>2.415606e+07</td>\n",
       "      <td>3.639103e+07</td>\n",
       "      <td>3.564176e+07</td>\n",
       "      <td>3.243456e+07</td>\n",
       "      <td>2.719646e+07</td>\n",
       "      <td>2.626552e+07</td>\n",
       "      <td>22156437.60</td>\n",
       "      <td>13173812.37</td>\n",
       "      <td>2.778457e+09</td>\n",
       "    </tr>\n",
       "  </tbody>\n",
       "</table>\n",
       "<p>5 rows × 293 columns</p>\n",
       "</div>"
      ],
      "text/plain": [
       "     Unidade da Federação 1992/Mar 1992/Abr 1993/Mai 1993/Dez 1994/Jan  \\\n",
       "22   43 Rio Grande do Sul        -        -        -        -        -   \n",
       "23  50 Mato Grosso do Sul        -        -        -        -        -   \n",
       "24         51 Mato Grosso        -        -        -        -        -   \n",
       "25               52 Goiás        -        -        -        -        -   \n",
       "26    53 Distrito Federal        -        -        -        -        -   \n",
       "\n",
       "   1994/Fev 1994/Mai 1994/Ago 1994/Nov  ...      2021/Jan      2021/Fev  \\\n",
       "22        -        -        -        -  ...  1.159919e+08  1.267303e+08   \n",
       "23        -        -        -        -  ...  2.472700e+07  2.560076e+07   \n",
       "24        -        -        -        -  ...  1.888971e+07  2.154459e+07   \n",
       "25        -        -        -        -  ...  4.263870e+07  4.571547e+07   \n",
       "26        -        -        -        -  ...  2.448472e+07  2.415606e+07   \n",
       "\n",
       "        2021/Mar      2021/Abr      2021/Mai      2021/Jun      2021/Jul  \\\n",
       "22  1.696877e+08  1.453025e+08  1.550843e+08  1.428123e+08  1.128054e+08   \n",
       "23  3.250618e+07  3.310106e+07  3.688563e+07  3.159520e+07  2.071197e+07   \n",
       "24  3.579084e+07  3.753402e+07  3.785947e+07  3.493713e+07  2.936420e+07   \n",
       "25  7.446406e+07  6.863041e+07  6.946733e+07  6.716235e+07  5.789129e+07   \n",
       "26  3.639103e+07  3.564176e+07  3.243456e+07  2.719646e+07  2.626552e+07   \n",
       "\n",
       "       2021/Ago     2021/Set         Total  \n",
       "22  74954589.62  25200345.68  1.361334e+10  \n",
       "23  11302985.98   2445267.12  2.516383e+09  \n",
       "24  19849249.43   7325067.61  2.386584e+09  \n",
       "25  44939821.34  18860370.17  5.380179e+09  \n",
       "26  22156437.60  13173812.37  2.778457e+09  \n",
       "\n",
       "[5 rows x 293 columns]"
      ]
     },
     "execution_count": 4,
     "metadata": {},
     "output_type": "execute_result"
    }
   ],
   "source": [
    "dados.tail()"
   ]
  },
  {
   "cell_type": "code",
   "execution_count": 5,
   "metadata": {},
   "outputs": [
    {
     "name": "stdout",
     "output_type": "stream",
     "text": [
      "<class 'pandas.core.frame.DataFrame'>\n",
      "RangeIndex: 27 entries, 0 to 26\n",
      "Columns: 293 entries, Unidade da Federação to Total\n",
      "dtypes: float64(170), object(123)\n",
      "memory usage: 61.9+ KB\n"
     ]
    }
   ],
   "source": [
    "dados.info()"
   ]
  },
  {
   "cell_type": "code",
   "execution_count": 6,
   "metadata": {},
   "outputs": [],
   "source": [
    "pd.options.display.float_format = '{:.2f}'.format"
   ]
  },
  {
   "cell_type": "code",
   "execution_count": 7,
   "metadata": {},
   "outputs": [
    {
     "data": {
      "text/plain": [
       "2007/Ago       304952.77\n",
       "2007/Set       788145.26\n",
       "2007/Out      2440162.96\n",
       "2007/Nov      5517354.05\n",
       "2007/Dez     12337159.42\n",
       "                ...     \n",
       "2021/Mai     87271862.20\n",
       "2021/Jun     77590406.47\n",
       "2021/Jul     60846287.01\n",
       "2021/Ago     43885716.30\n",
       "Total      6852320913.49\n",
       "Length: 170, dtype: float64"
      ]
     },
     "execution_count": 7,
     "metadata": {},
     "output_type": "execute_result"
    }
   ],
   "source": [
    "dados.mean(numeric_only=True)"
   ]
  },
  {
   "cell_type": "markdown",
   "metadata": {},
   "source": [
    "### Aula 2"
   ]
  },
  {
   "cell_type": "code",
   "execution_count": 8,
   "metadata": {},
   "outputs": [
    {
     "data": {
      "text/plain": [
       "0      2938286.29\n",
       "1      1886871.84\n",
       "2      8331763.97\n",
       "3      1045291.11\n",
       "4     23259148.28\n",
       "5      1550340.63\n",
       "6      5213290.38\n",
       "7     14609872.57\n",
       "8     10645917.52\n",
       "9     29304821.51\n",
       "10    10812840.19\n",
       "11    12673774.35\n",
       "12    31705296.79\n",
       "13     9262767.68\n",
       "14     4543252.50\n",
       "15    43254543.33\n",
       "16    80374117.08\n",
       "17    12384068.19\n",
       "18    42502172.22\n",
       "19   180097396.03\n",
       "20    56699001.13\n",
       "21    28887854.62\n",
       "22    56233758.74\n",
       "23     9602843.49\n",
       "24     8987811.95\n",
       "25    21070201.36\n",
       "26    11548451.89\n",
       "Name: 2008/Ago, dtype: float64"
      ]
     },
     "execution_count": 8,
     "metadata": {},
     "output_type": "execute_result"
    }
   ],
   "source": [
    "dados[\"2008/Ago\"]"
   ]
  },
  {
   "cell_type": "code",
   "execution_count": 9,
   "metadata": {},
   "outputs": [
    {
     "data": {
      "text/plain": [
       "26645398.35703704"
      ]
     },
     "execution_count": 9,
     "metadata": {},
     "output_type": "execute_result"
    }
   ],
   "source": [
    "dados[\"2008/Ago\"].mean()"
   ]
  },
  {
   "cell_type": "code",
   "execution_count": 10,
   "metadata": {},
   "outputs": [
    {
     "data": {
      "text/plain": [
       "<Axes: xlabel='Unidade da Federação'>"
      ]
     },
     "execution_count": 10,
     "metadata": {},
     "output_type": "execute_result"
    },
    {
     "data": {
      "image/png": "[encoded data removed]",
      "text/plain": [
       "<Figure size 640x480 with 1 Axes>"
      ]
     },
     "metadata": {},
     "output_type": "display_data"
    }
   ],
   "source": [
    "dados.plot(x=\"Unidade da Federação\", y=\"2008/Ago\")"
   ]
  },
  {
   "cell_type": "code",
   "execution_count": 11,
   "metadata": {},
   "outputs": [
    {
     "data": {
      "image/png": "[encoded data removed]",
      "text/plain": [
       "<Figure size 900x600 with 1 Axes>"
      ]
     },
     "metadata": {},
     "output_type": "display_data"
    }
   ],
   "source": [
    "import matplotlib.ticker as ticker\n",
    "import matplotlib.pyplot as plt\n",
    "\n",
    "axis = dados.plot(x=\"Unidade da Federação\", y=\"2008/Ago\", kind=\"bar\", figsize=(9,6))\n",
    "axis.yaxis.set_major_formatter(ticker.StrMethodFormatter(\"{x:.2f}\"))\n",
    "\n",
    "plt.title(\"Valor por UF\")\n",
    "plt.show()"
   ]
  },
  {
   "cell_type": "markdown",
   "metadata": {},
   "source": [
    "### Atividade\n",
    "\n",
    "1 - Executar o gráfico mais recente<br>\n",
    "2 - Deixar as legendas mais anguladas (0,45º..) para facilitar a leitura"
   ]
  },
  {
   "cell_type": "code",
   "execution_count": 12,
   "metadata": {},
   "outputs": [
    {
     "data": {
      "image/png": "[encoded data removed]",
      "text/plain": [
       "<Figure size 900x600 with 1 Axes>"
      ]
     },
     "metadata": {},
     "output_type": "display_data"
    }
   ],
   "source": [
    "import matplotlib.ticker as ticker\n",
    "import matplotlib.pyplot as plt\n",
    "\n",
    "axis = dados.plot(x=\"Unidade da Federação\", y=\"2021/Ago\", kind=\"bar\", figsize=(9,6), rot=90)\n",
    "axis.yaxis.set_major_formatter(ticker.StrMethodFormatter(\"{x:.2f}\"))\n",
    "\n",
    "plt.title(\"Valor por UF\")\n",
    "plt.show()"
   ]
  },
  {
   "cell_type": "markdown",
   "metadata": {},
   "source": [
    "### Aula 3"
   ]
  },
  {
   "cell_type": "code",
   "execution_count": 13,
   "metadata": {},
   "outputs": [
    {
     "data": {
      "application/vnd.microsoft.datawrangler.viewer.v0+json": {
       "columns": [
        {
         "name": "index",
         "rawType": "int64",
         "type": "integer"
        },
        {
         "name": "2008/Ago",
         "rawType": "float64",
         "type": "float"
        },
        {
         "name": "2008/Set",
         "rawType": "float64",
         "type": "float"
        }
       ],
       "conversionMethod": "pd.DataFrame",
       "ref": "820595e3-a6b5-4d4f-879e-1d1a6ec2116b",
       "rows": [
        [
         "0",
         "2938286.29",
         "2843930.91"
        ],
        [
         "1",
         "1886871.84",
         "2084884.8"
        ],
        [
         "2",
         "8331763.97",
         "8148089.92"
        ],
        [
         "3",
         "1045291.11",
         "1003740.89"
        ],
        [
         "4",
         "23259148.28",
         "23667690.01"
        ]
       ],
       "shape": {
        "columns": 2,
        "rows": 5
       }
      },
      "text/html": [
       "<div>\n",
       "<style scoped>\n",
       "    .dataframe tbody tr th:only-of-type {\n",
       "        vertical-align: middle;\n",
       "    }\n",
       "\n",
       "    .dataframe tbody tr th {\n",
       "        vertical-align: top;\n",
       "    }\n",
       "\n",
       "    .dataframe thead th {\n",
       "        text-align: right;\n",
       "    }\n",
       "</style>\n",
       "<table border=\"1\" class=\"dataframe\">\n",
       "  <thead>\n",
       "    <tr style=\"text-align: right;\">\n",
       "      <th></th>\n",
       "      <th>2008/Ago</th>\n",
       "      <th>2008/Set</th>\n",
       "    </tr>\n",
       "  </thead>\n",
       "  <tbody>\n",
       "    <tr>\n",
       "      <th>0</th>\n",
       "      <td>2938286.29</td>\n",
       "      <td>2843930.91</td>\n",
       "    </tr>\n",
       "    <tr>\n",
       "      <th>1</th>\n",
       "      <td>1886871.84</td>\n",
       "      <td>2084884.80</td>\n",
       "    </tr>\n",
       "    <tr>\n",
       "      <th>2</th>\n",
       "      <td>8331763.97</td>\n",
       "      <td>8148089.92</td>\n",
       "    </tr>\n",
       "    <tr>\n",
       "      <th>3</th>\n",
       "      <td>1045291.11</td>\n",
       "      <td>1003740.89</td>\n",
       "    </tr>\n",
       "    <tr>\n",
       "      <th>4</th>\n",
       "      <td>23259148.28</td>\n",
       "      <td>23667690.01</td>\n",
       "    </tr>\n",
       "  </tbody>\n",
       "</table>\n",
       "</div>"
      ],
      "text/plain": [
       "     2008/Ago    2008/Set\n",
       "0  2938286.29  2843930.91\n",
       "1  1886871.84  2084884.80\n",
       "2  8331763.97  8148089.92\n",
       "3  1045291.11  1003740.89\n",
       "4 23259148.28 23667690.01"
      ]
     },
     "execution_count": 13,
     "metadata": {},
     "output_type": "execute_result"
    }
   ],
   "source": [
    "dados[[\"2008/Ago\", \"2008/Set\"]].head()"
   ]
  },
  {
   "cell_type": "code",
   "execution_count": 14,
   "metadata": {},
   "outputs": [
    {
     "data": {
      "application/vnd.microsoft.datawrangler.viewer.v0+json": {
       "columns": [
        {
         "name": "index",
         "rawType": "int64",
         "type": "integer"
        },
        {
         "name": "Unidade da Federação",
         "rawType": "object",
         "type": "string"
        },
        {
         "name": "1992/Mar",
         "rawType": "object",
         "type": "string"
        },
        {
         "name": "1992/Abr",
         "rawType": "object",
         "type": "string"
        },
        {
         "name": "1993/Mai",
         "rawType": "object",
         "type": "string"
        },
        {
         "name": "1993/Dez",
         "rawType": "object",
         "type": "string"
        },
        {
         "name": "1994/Jan",
         "rawType": "object",
         "type": "string"
        },
        {
         "name": "1994/Fev",
         "rawType": "object",
         "type": "string"
        },
        {
         "name": "1994/Mai",
         "rawType": "object",
         "type": "string"
        },
        {
         "name": "1994/Ago",
         "rawType": "object",
         "type": "string"
        },
        {
         "name": "1994/Nov",
         "rawType": "object",
         "type": "string"
        },
        {
         "name": "1995/Jan",
         "rawType": "object",
         "type": "string"
        },
        {
         "name": "1995/Mar",
         "rawType": "object",
         "type": "string"
        },
        {
         "name": "1995/Jun",
         "rawType": "object",
         "type": "string"
        },
        {
         "name": "1995/Ago",
         "rawType": "object",
         "type": "string"
        },
        {
         "name": "1995/Dez",
         "rawType": "object",
         "type": "string"
        },
        {
         "name": "1996/Fev",
         "rawType": "object",
         "type": "string"
        },
        {
         "name": "1996/Mar",
         "rawType": "object",
         "type": "string"
        },
        {
         "name": "1996/Ago",
         "rawType": "object",
         "type": "string"
        },
        {
         "name": "1996/Dez",
         "rawType": "object",
         "type": "string"
        },
        {
         "name": "1997/Fev",
         "rawType": "object",
         "type": "string"
        },
        {
         "name": "1997/Nov",
         "rawType": "object",
         "type": "string"
        },
        {
         "name": "1998/Fev",
         "rawType": "object",
         "type": "string"
        },
        {
         "name": "1998/Mar",
         "rawType": "object",
         "type": "string"
        },
        {
         "name": "1998/Jul",
         "rawType": "object",
         "type": "string"
        },
        {
         "name": "1998/Ago",
         "rawType": "object",
         "type": "string"
        },
        {
         "name": "1998/Set",
         "rawType": "object",
         "type": "string"
        },
        {
         "name": "1998/Out",
         "rawType": "object",
         "type": "string"
        },
        {
         "name": "1998/Dez",
         "rawType": "object",
         "type": "string"
        },
        {
         "name": "1999/Fev",
         "rawType": "object",
         "type": "string"
        },
        {
         "name": "1999/Mar",
         "rawType": "object",
         "type": "string"
        },
        {
         "name": "1999/Mai",
         "rawType": "object",
         "type": "string"
        },
        {
         "name": "1999/Jul",
         "rawType": "object",
         "type": "string"
        },
        {
         "name": "1999/Ago",
         "rawType": "object",
         "type": "string"
        },
        {
         "name": "1999/Set",
         "rawType": "object",
         "type": "string"
        },
        {
         "name": "1999/Out",
         "rawType": "object",
         "type": "string"
        },
        {
         "name": "1999/Nov",
         "rawType": "object",
         "type": "string"
        },
        {
         "name": "1999/Dez",
         "rawType": "object",
         "type": "string"
        },
        {
         "name": "2000/Jan",
         "rawType": "object",
         "type": "string"
        },
        {
         "name": "2000/Fev",
         "rawType": "object",
         "type": "string"
        },
        {
         "name": "2000/Mar",
         "rawType": "object",
         "type": "string"
        },
        {
         "name": "2000/Abr",
         "rawType": "object",
         "type": "string"
        },
        {
         "name": "2000/Mai",
         "rawType": "object",
         "type": "string"
        },
        {
         "name": "2000/Jun",
         "rawType": "object",
         "type": "string"
        },
        {
         "name": "2000/Jul",
         "rawType": "object",
         "type": "string"
        },
        {
         "name": "2000/Ago",
         "rawType": "object",
         "type": "string"
        },
        {
         "name": "2000/Set",
         "rawType": "object",
         "type": "string"
        },
        {
         "name": "2000/Out",
         "rawType": "object",
         "type": "string"
        },
        {
         "name": "2000/Nov",
         "rawType": "object",
         "type": "string"
        },
        {
         "name": "2000/Dez",
         "rawType": "object",
         "type": "string"
        },
        {
         "name": "2001/Jan",
         "rawType": "object",
         "type": "string"
        },
        {
         "name": "2001/Fev",
         "rawType": "object",
         "type": "string"
        },
        {
         "name": "2001/Mar",
         "rawType": "object",
         "type": "string"
        },
        {
         "name": "2001/Abr",
         "rawType": "object",
         "type": "string"
        },
        {
         "name": "2001/Mai",
         "rawType": "object",
         "type": "string"
        },
        {
         "name": "2001/Jun",
         "rawType": "object",
         "type": "string"
        },
        {
         "name": "2001/Jul",
         "rawType": "object",
         "type": "string"
        },
        {
         "name": "2001/Ago",
         "rawType": "object",
         "type": "string"
        },
        {
         "name": "2001/Set",
         "rawType": "object",
         "type": "string"
        },
        {
         "name": "2001/Nov",
         "rawType": "object",
         "type": "string"
        },
        {
         "name": "2001/Dez",
         "rawType": "object",
         "type": "string"
        },
        {
         "name": "2002/Jan",
         "rawType": "object",
         "type": "string"
        },
        {
         "name": "2002/Fev",
         "rawType": "object",
         "type": "string"
        },
        {
         "name": "2002/Mar",
         "rawType": "object",
         "type": "string"
        },
        {
         "name": "2002/Mai",
         "rawType": "object",
         "type": "string"
        },
        {
         "name": "2002/Jun",
         "rawType": "object",
         "type": "string"
        },
        {
         "name": "2002/Jul",
         "rawType": "object",
         "type": "string"
        },
        {
         "name": "2002/Out",
         "rawType": "object",
         "type": "string"
        },
        {
         "name": "2002/Nov",
         "rawType": "object",
         "type": "string"
        },
        {
         "name": "2002/Dez",
         "rawType": "object",
         "type": "string"
        },
        {
         "name": "2003/Jan",
         "rawType": "object",
         "type": "string"
        },
        {
         "name": "2003/Fev",
         "rawType": "object",
         "type": "string"
        },
        {
         "name": "2003/Mar",
         "rawType": "object",
         "type": "string"
        },
        {
         "name": "2003/Abr",
         "rawType": "object",
         "type": "string"
        },
        {
         "name": "2003/Jun",
         "rawType": "object",
         "type": "string"
        },
        {
         "name": "2003/Jul",
         "rawType": "object",
         "type": "string"
        },
        {
         "name": "2003/Ago",
         "rawType": "object",
         "type": "string"
        },
        {
         "name": "2003/Out",
         "rawType": "object",
         "type": "string"
        },
        {
         "name": "2003/Nov",
         "rawType": "object",
         "type": "string"
        },
        {
         "name": "2003/Dez",
         "rawType": "object",
         "type": "string"
        },
        {
         "name": "2004/Jan",
         "rawType": "object",
         "type": "string"
        },
        {
         "name": "2004/Fev",
         "rawType": "object",
         "type": "string"
        },
        {
         "name": "2004/Mar",
         "rawType": "object",
         "type": "string"
        },
        {
         "name": "2004/Abr",
         "rawType": "object",
         "type": "string"
        },
        {
         "name": "2004/Mai",
         "rawType": "object",
         "type": "string"
        },
        {
         "name": "2004/Jun",
         "rawType": "object",
         "type": "string"
        },
        {
         "name": "2004/Jul",
         "rawType": "object",
         "type": "string"
        },
        {
         "name": "2004/Ago",
         "rawType": "object",
         "type": "string"
        },
        {
         "name": "2004/Set",
         "rawType": "object",
         "type": "string"
        },
        {
         "name": "2004/Out",
         "rawType": "object",
         "type": "string"
        },
        {
         "name": "2004/Nov",
         "rawType": "object",
         "type": "string"
        },
        {
         "name": "2004/Dez",
         "rawType": "object",
         "type": "string"
        },
        {
         "name": "2005/Jan",
         "rawType": "object",
         "type": "string"
        },
        {
         "name": "2005/Fev",
         "rawType": "object",
         "type": "string"
        },
        {
         "name": "2005/Mar",
         "rawType": "object",
         "type": "string"
        },
        {
         "name": "2005/Abr",
         "rawType": "object",
         "type": "string"
        },
        {
         "name": "2005/Mai",
         "rawType": "object",
         "type": "string"
        },
        {
         "name": "2005/Jun",
         "rawType": "object",
         "type": "string"
        },
        {
         "name": "2005/Jul",
         "rawType": "object",
         "type": "string"
        },
        {
         "name": "2005/Ago",
         "rawType": "object",
         "type": "string"
        },
        {
         "name": "2005/Set",
         "rawType": "object",
         "type": "string"
        },
        {
         "name": "2005/Out",
         "rawType": "object",
         "type": "string"
        },
        {
         "name": "2005/Nov",
         "rawType": "object",
         "type": "string"
        },
        {
         "name": "2005/Dez",
         "rawType": "object",
         "type": "string"
        },
        {
         "name": "2006/Jan",
         "rawType": "object",
         "type": "string"
        },
        {
         "name": "2006/Fev",
         "rawType": "object",
         "type": "string"
        },
        {
         "name": "2006/Mar",
         "rawType": "object",
         "type": "string"
        },
        {
         "name": "2006/Abr",
         "rawType": "object",
         "type": "string"
        },
        {
         "name": "2006/Mai",
         "rawType": "object",
         "type": "string"
        },
        {
         "name": "2006/Jun",
         "rawType": "object",
         "type": "string"
        },
        {
         "name": "2006/Jul",
         "rawType": "object",
         "type": "string"
        },
        {
         "name": "2006/Ago",
         "rawType": "object",
         "type": "string"
        },
        {
         "name": "2006/Set",
         "rawType": "object",
         "type": "string"
        },
        {
         "name": "2006/Out",
         "rawType": "object",
         "type": "string"
        },
        {
         "name": "2006/Nov",
         "rawType": "object",
         "type": "string"
        },
        {
         "name": "2006/Dez",
         "rawType": "object",
         "type": "string"
        },
        {
         "name": "2007/Jan",
         "rawType": "object",
         "type": "string"
        },
        {
         "name": "2007/Fev",
         "rawType": "object",
         "type": "string"
        },
        {
         "name": "2007/Mar",
         "rawType": "object",
         "type": "string"
        },
        {
         "name": "2007/Abr",
         "rawType": "object",
         "type": "string"
        },
        {
         "name": "2007/Mai",
         "rawType": "object",
         "type": "string"
        },
        {
         "name": "2007/Jun",
         "rawType": "object",
         "type": "string"
        },
        {
         "name": "2007/Jul",
         "rawType": "object",
         "type": "string"
        },
        {
         "name": "2007/Ago",
         "rawType": "float64",
         "type": "float"
        },
        {
         "name": "2007/Set",
         "rawType": "float64",
         "type": "float"
        },
        {
         "name": "2007/Out",
         "rawType": "float64",
         "type": "float"
        },
        {
         "name": "2007/Nov",
         "rawType": "float64",
         "type": "float"
        },
        {
         "name": "2007/Dez",
         "rawType": "float64",
         "type": "float"
        },
        {
         "name": "2008/Jan",
         "rawType": "float64",
         "type": "float"
        },
        {
         "name": "2008/Fev",
         "rawType": "float64",
         "type": "float"
        },
        {
         "name": "2008/Mar",
         "rawType": "float64",
         "type": "float"
        },
        {
         "name": "2008/Abr",
         "rawType": "float64",
         "type": "float"
        },
        {
         "name": "2008/Mai",
         "rawType": "float64",
         "type": "float"
        },
        {
         "name": "2008/Jun",
         "rawType": "float64",
         "type": "float"
        },
        {
         "name": "2008/Jul",
         "rawType": "float64",
         "type": "float"
        },
        {
         "name": "2008/Ago",
         "rawType": "float64",
         "type": "float"
        },
        {
         "name": "2008/Set",
         "rawType": "float64",
         "type": "float"
        },
        {
         "name": "2008/Out",
         "rawType": "float64",
         "type": "float"
        },
        {
         "name": "2008/Nov",
         "rawType": "float64",
         "type": "float"
        },
        {
         "name": "2008/Dez",
         "rawType": "float64",
         "type": "float"
        },
        {
         "name": "2009/Jan",
         "rawType": "float64",
         "type": "float"
        },
        {
         "name": "2009/Fev",
         "rawType": "float64",
         "type": "float"
        },
        {
         "name": "2009/Mar",
         "rawType": "float64",
         "type": "float"
        },
        {
         "name": "2009/Abr",
         "rawType": "float64",
         "type": "float"
        },
        {
         "name": "2009/Mai",
         "rawType": "float64",
         "type": "float"
        },
        {
         "name": "2009/Jun",
         "rawType": "float64",
         "type": "float"
        },
        {
         "name": "2009/Jul",
         "rawType": "float64",
         "type": "float"
        },
        {
         "name": "2009/Ago",
         "rawType": "float64",
         "type": "float"
        },
        {
         "name": "2009/Set",
         "rawType": "float64",
         "type": "float"
        },
        {
         "name": "2009/Out",
         "rawType": "float64",
         "type": "float"
        },
        {
         "name": "2009/Nov",
         "rawType": "float64",
         "type": "float"
        },
        {
         "name": "2009/Dez",
         "rawType": "float64",
         "type": "float"
        },
        {
         "name": "2010/Jan",
         "rawType": "float64",
         "type": "float"
        },
        {
         "name": "2010/Fev",
         "rawType": "float64",
         "type": "float"
        },
        {
         "name": "2010/Mar",
         "rawType": "float64",
         "type": "float"
        },
        {
         "name": "2010/Abr",
         "rawType": "float64",
         "type": "float"
        },
        {
         "name": "2010/Mai",
         "rawType": "float64",
         "type": "float"
        },
        {
         "name": "2010/Jun",
         "rawType": "float64",
         "type": "float"
        },
        {
         "name": "2010/Jul",
         "rawType": "float64",
         "type": "float"
        },
        {
         "name": "2010/Ago",
         "rawType": "float64",
         "type": "float"
        },
        {
         "name": "2010/Set",
         "rawType": "float64",
         "type": "float"
        },
        {
         "name": "2010/Out",
         "rawType": "float64",
         "type": "float"
        },
        {
         "name": "2010/Nov",
         "rawType": "float64",
         "type": "float"
        },
        {
         "name": "2010/Dez",
         "rawType": "float64",
         "type": "float"
        },
        {
         "name": "2011/Jan",
         "rawType": "float64",
         "type": "float"
        },
        {
         "name": "2011/Fev",
         "rawType": "float64",
         "type": "float"
        },
        {
         "name": "2011/Mar",
         "rawType": "float64",
         "type": "float"
        },
        {
         "name": "2011/Abr",
         "rawType": "float64",
         "type": "float"
        },
        {
         "name": "2011/Mai",
         "rawType": "float64",
         "type": "float"
        },
        {
         "name": "2011/Jun",
         "rawType": "float64",
         "type": "float"
        },
        {
         "name": "2011/Jul",
         "rawType": "float64",
         "type": "float"
        },
        {
         "name": "2011/Ago",
         "rawType": "float64",
         "type": "float"
        },
        {
         "name": "2011/Set",
         "rawType": "float64",
         "type": "float"
        },
        {
         "name": "2011/Out",
         "rawType": "float64",
         "type": "float"
        },
        {
         "name": "2011/Nov",
         "rawType": "float64",
         "type": "float"
        },
        {
         "name": "2011/Dez",
         "rawType": "float64",
         "type": "float"
        },
        {
         "name": "2012/Jan",
         "rawType": "float64",
         "type": "float"
        },
        {
         "name": "2012/Fev",
         "rawType": "float64",
         "type": "float"
        },
        {
         "name": "2012/Mar",
         "rawType": "float64",
         "type": "float"
        },
        {
         "name": "2012/Abr",
         "rawType": "float64",
         "type": "float"
        },
        {
         "name": "2012/Mai",
         "rawType": "float64",
         "type": "float"
        },
        {
         "name": "2012/Jun",
         "rawType": "float64",
         "type": "float"
        },
        {
         "name": "2012/Jul",
         "rawType": "float64",
         "type": "float"
        },
        {
         "name": "2012/Ago",
         "rawType": "float64",
         "type": "float"
        },
        {
         "name": "2012/Set",
         "rawType": "float64",
         "type": "float"
        },
        {
         "name": "2012/Out",
         "rawType": "float64",
         "type": "float"
        },
        {
         "name": "2012/Nov",
         "rawType": "float64",
         "type": "float"
        },
        {
         "name": "2012/Dez",
         "rawType": "float64",
         "type": "float"
        },
        {
         "name": "2013/Jan",
         "rawType": "float64",
         "type": "float"
        },
        {
         "name": "2013/Fev",
         "rawType": "float64",
         "type": "float"
        },
        {
         "name": "2013/Mar",
         "rawType": "float64",
         "type": "float"
        },
        {
         "name": "2013/Abr",
         "rawType": "float64",
         "type": "float"
        },
        {
         "name": "2013/Mai",
         "rawType": "float64",
         "type": "float"
        },
        {
         "name": "2013/Jun",
         "rawType": "float64",
         "type": "float"
        },
        {
         "name": "2013/Jul",
         "rawType": "float64",
         "type": "float"
        },
        {
         "name": "2013/Ago",
         "rawType": "float64",
         "type": "float"
        },
        {
         "name": "2013/Set",
         "rawType": "float64",
         "type": "float"
        },
        {
         "name": "2013/Out",
         "rawType": "float64",
         "type": "float"
        },
        {
         "name": "2013/Nov",
         "rawType": "float64",
         "type": "float"
        },
        {
         "name": "2013/Dez",
         "rawType": "float64",
         "type": "float"
        },
        {
         "name": "2014/Jan",
         "rawType": "float64",
         "type": "float"
        },
        {
         "name": "2014/Fev",
         "rawType": "float64",
         "type": "float"
        },
        {
         "name": "2014/Mar",
         "rawType": "float64",
         "type": "float"
        },
        {
         "name": "2014/Abr",
         "rawType": "float64",
         "type": "float"
        },
        {
         "name": "2014/Mai",
         "rawType": "float64",
         "type": "float"
        },
        {
         "name": "2014/Jun",
         "rawType": "float64",
         "type": "float"
        },
        {
         "name": "2014/Jul",
         "rawType": "float64",
         "type": "float"
        },
        {
         "name": "2014/Ago",
         "rawType": "float64",
         "type": "float"
        },
        {
         "name": "2014/Set",
         "rawType": "float64",
         "type": "float"
        },
        {
         "name": "2014/Out",
         "rawType": "float64",
         "type": "float"
        },
        {
         "name": "2014/Nov",
         "rawType": "float64",
         "type": "float"
        },
        {
         "name": "2014/Dez",
         "rawType": "float64",
         "type": "float"
        },
        {
         "name": "2015/Jan",
         "rawType": "float64",
         "type": "float"
        },
        {
         "name": "2015/Fev",
         "rawType": "float64",
         "type": "float"
        },
        {
         "name": "2015/Mar",
         "rawType": "float64",
         "type": "float"
        },
        {
         "name": "2015/Abr",
         "rawType": "float64",
         "type": "float"
        },
        {
         "name": "2015/Mai",
         "rawType": "float64",
         "type": "float"
        },
        {
         "name": "2015/Jun",
         "rawType": "float64",
         "type": "float"
        },
        {
         "name": "2015/Jul",
         "rawType": "float64",
         "type": "float"
        },
        {
         "name": "2015/Ago",
         "rawType": "float64",
         "type": "float"
        },
        {
         "name": "2015/Set",
         "rawType": "float64",
         "type": "float"
        },
        {
         "name": "2015/Out",
         "rawType": "float64",
         "type": "float"
        },
        {
         "name": "2015/Nov",
         "rawType": "float64",
         "type": "float"
        },
        {
         "name": "2015/Dez",
         "rawType": "float64",
         "type": "float"
        },
        {
         "name": "2016/Jan",
         "rawType": "float64",
         "type": "float"
        },
        {
         "name": "2016/Fev",
         "rawType": "float64",
         "type": "float"
        },
        {
         "name": "2016/Mar",
         "rawType": "float64",
         "type": "float"
        },
        {
         "name": "2016/Abr",
         "rawType": "float64",
         "type": "float"
        },
        {
         "name": "2016/Mai",
         "rawType": "float64",
         "type": "float"
        },
        {
         "name": "2016/Jun",
         "rawType": "float64",
         "type": "float"
        },
        {
         "name": "2016/Jul",
         "rawType": "float64",
         "type": "float"
        },
        {
         "name": "2016/Ago",
         "rawType": "float64",
         "type": "float"
        },
        {
         "name": "2016/Set",
         "rawType": "float64",
         "type": "float"
        },
        {
         "name": "2016/Out",
         "rawType": "float64",
         "type": "float"
        },
        {
         "name": "2016/Nov",
         "rawType": "float64",
         "type": "float"
        },
        {
         "name": "2016/Dez",
         "rawType": "float64",
         "type": "float"
        },
        {
         "name": "2017/Jan",
         "rawType": "float64",
         "type": "float"
        },
        {
         "name": "2017/Fev",
         "rawType": "float64",
         "type": "float"
        },
        {
         "name": "2017/Mar",
         "rawType": "float64",
         "type": "float"
        },
        {
         "name": "2017/Abr",
         "rawType": "float64",
         "type": "float"
        },
        {
         "name": "2017/Mai",
         "rawType": "float64",
         "type": "float"
        },
        {
         "name": "2017/Jun",
         "rawType": "float64",
         "type": "float"
        },
        {
         "name": "2017/Jul",
         "rawType": "float64",
         "type": "float"
        },
        {
         "name": "2017/Ago",
         "rawType": "float64",
         "type": "float"
        },
        {
         "name": "2017/Set",
         "rawType": "float64",
         "type": "float"
        },
        {
         "name": "2017/Out",
         "rawType": "float64",
         "type": "float"
        },
        {
         "name": "2017/Nov",
         "rawType": "float64",
         "type": "float"
        },
        {
         "name": "2017/Dez",
         "rawType": "float64",
         "type": "float"
        },
        {
         "name": "2018/Jan",
         "rawType": "float64",
         "type": "float"
        },
        {
         "name": "2018/Fev",
         "rawType": "float64",
         "type": "float"
        },
        {
         "name": "2018/Mar",
         "rawType": "float64",
         "type": "float"
        },
        {
         "name": "2018/Abr",
         "rawType": "float64",
         "type": "float"
        },
        {
         "name": "2018/Mai",
         "rawType": "float64",
         "type": "float"
        },
        {
         "name": "2018/Jun",
         "rawType": "float64",
         "type": "float"
        },
        {
         "name": "2018/Jul",
         "rawType": "float64",
         "type": "float"
        },
        {
         "name": "2018/Ago",
         "rawType": "float64",
         "type": "float"
        },
        {
         "name": "2018/Set",
         "rawType": "float64",
         "type": "float"
        },
        {
         "name": "2018/Out",
         "rawType": "float64",
         "type": "float"
        },
        {
         "name": "2018/Nov",
         "rawType": "float64",
         "type": "float"
        },
        {
         "name": "2018/Dez",
         "rawType": "float64",
         "type": "float"
        },
        {
         "name": "2019/Jan",
         "rawType": "float64",
         "type": "float"
        },
        {
         "name": "2019/Fev",
         "rawType": "float64",
         "type": "float"
        },
        {
         "name": "2019/Mar",
         "rawType": "float64",
         "type": "float"
        },
        {
         "name": "2019/Abr",
         "rawType": "float64",
         "type": "float"
        },
        {
         "name": "2019/Mai",
         "rawType": "float64",
         "type": "float"
        },
        {
         "name": "2019/Jun",
         "rawType": "float64",
         "type": "float"
        },
        {
         "name": "2019/Jul",
         "rawType": "float64",
         "type": "float"
        },
        {
         "name": "2019/Ago",
         "rawType": "float64",
         "type": "float"
        },
        {
         "name": "2019/Set",
         "rawType": "float64",
         "type": "float"
        },
        {
         "name": "2019/Out",
         "rawType": "float64",
         "type": "float"
        },
        {
         "name": "2019/Nov",
         "rawType": "float64",
         "type": "float"
        },
        {
         "name": "2019/Dez",
         "rawType": "float64",
         "type": "float"
        },
        {
         "name": "2020/Jan",
         "rawType": "float64",
         "type": "float"
        },
        {
         "name": "2020/Fev",
         "rawType": "float64",
         "type": "float"
        },
        {
         "name": "2020/Mar",
         "rawType": "float64",
         "type": "float"
        },
        {
         "name": "2020/Abr",
         "rawType": "float64",
         "type": "float"
        },
        {
         "name": "2020/Mai",
         "rawType": "float64",
         "type": "float"
        },
        {
         "name": "2020/Jun",
         "rawType": "float64",
         "type": "float"
        },
        {
         "name": "2020/Jul",
         "rawType": "float64",
         "type": "float"
        },
        {
         "name": "2020/Ago",
         "rawType": "float64",
         "type": "float"
        },
        {
         "name": "2020/Set",
         "rawType": "float64",
         "type": "float"
        },
        {
         "name": "2020/Out",
         "rawType": "float64",
         "type": "float"
        },
        {
         "name": "2020/Nov",
         "rawType": "float64",
         "type": "float"
        },
        {
         "name": "2020/Dez",
         "rawType": "float64",
         "type": "float"
        },
        {
         "name": "2021/Jan",
         "rawType": "float64",
         "type": "float"
        },
        {
         "name": "2021/Fev",
         "rawType": "float64",
         "type": "float"
        },
        {
         "name": "2021/Mar",
         "rawType": "float64",
         "type": "float"
        },
        {
         "name": "2021/Abr",
         "rawType": "float64",
         "type": "float"
        },
        {
         "name": "2021/Mai",
         "rawType": "float64",
         "type": "float"
        },
        {
         "name": "2021/Jun",
         "rawType": "float64",
         "type": "float"
        },
        {
         "name": "2021/Jul",
         "rawType": "float64",
         "type": "float"
        },
        {
         "name": "2021/Ago",
         "rawType": "float64",
         "type": "float"
        },
        {
         "name": "2021/Set",
         "rawType": "object",
         "type": "string"
        },
        {
         "name": "Total",
         "rawType": "float64",
         "type": "float"
        }
       ],
       "conversionMethod": "pd.DataFrame",
       "ref": "a9f71e07-458f-4363-9ee1-a73d6b9fec09",
       "rows": [
        [
         "0",
         "11 Rondônia",
         "-",
         "-",
         "-",
         "-",
         "-",
         "-",
         "-",
         "-",
         "-",
         "-",
         "-",
         "-",
         "-",
         "-",
         "-",
         "-",
         "-",
         "-",
         "-",
         "-",
         "-",
         "-",
         "-",
         "-",
         "-",
         "-",
         "-",
         "-",
         "-",
         "-",
         "-",
         "-",
         "-",
         "-",
         "-",
         "-",
         "-",
         "-",
         "-",
         "-",
         "-",
         "-",
         "-",
         "-",
         "-",
         "-",
         "-",
         "-",
         "-",
         "-",
         "-",
         "-",
         "-",
         "-",
         "-",
         "-",
         "-",
         "-",
         "-",
         "-",
         "-",
         "-",
         "-",
         "-",
         "-",
         "-",
         "-",
         "-",
         "-",
         "-",
         "-",
         "-",
         "-",
         "-",
         "-",
         "-",
         "-",
         "-",
         "-",
         "-",
         "-",
         "-",
         "-",
         "-",
         "-",
         "-",
         "-",
         "-",
         "-",
         "-",
         "-",
         "-",
         "-",
         "-",
         "-",
         "-",
         "-",
         "-",
         "-",
         "-",
         "-",
         "-",
         "-",
         "-",
         "-",
         "-",
         "-",
         "-",
         "-",
         "-",
         "-",
         "-",
         "-",
         "-",
         "-",
         "604.33",
         "-",
         "-",
         "-",
         "-",
         "-",
         "4209.37",
         "16397.03",
         "133645.19",
         "346912.84",
         "711758.31",
         "1829559.71",
         "1940792.63",
         "1955721.68",
         "2143353.81",
         "2280382.58",
         "2624542.97",
         "2973421.02",
         "2938286.29",
         "2843930.91",
         "2878153.2",
         "2780022.62",
         "2651804.89",
         "3147566.24",
         "3082108.12",
         "4190355.33",
         "4040251.62",
         "3946423.71",
         "3372377.96",
         "3720608.86",
         "3787323.26",
         "3679369.94",
         "3866146.99",
         "3667808.6",
         "3633471.79",
         "3812315.59",
         "3911776.03",
         "4663060.75",
         "4524544.88",
         "4778755.26",
         "4369733.23",
         "4632439.12",
         "4464307.47",
         "4668642.02",
         "4490368.23",
         "4423840.08",
         "4384430.09",
         "4173529.95",
         "4293085.61",
         "4674947.02",
         "5087527.81",
         "4724192.54",
         "4690112.05",
         "4319488.17",
         "4778472.22",
         "4202805.84",
         "4372265.77",
         "4389025.81",
         "4045339.34",
         "4472721.53",
         "4417486.2",
         "4859795.35",
         "4590008.82",
         "4579463.54",
         "4467858.99",
         "4160296.03",
         "4315005.38",
         "4043314.46",
         "4289759.65",
         "4138600.85",
         "3966744.3",
         "4471693.32",
         "4378412.9",
         "5495946.92",
         "5380890.26",
         "5170015.34",
         "4899586.21",
         "5526959.19",
         "5889685.39",
         "6367552.03",
         "6299844.72",
         "6685861.76",
         "6163036.06",
         "6349302.0",
         "6059111.35",
         "6740436.14",
         "6584249.21",
         "7558087.91",
         "6934864.98",
         "7150611.14",
         "6957882.67",
         "7057715.9",
         "7096778.4",
         "6965306.56",
         "6803544.72",
         "6983698.79",
         "6624059.46",
         "7501596.28",
         "7365022.91",
         "7645734.88",
         "7545619.91",
         "7438604.96",
         "7233618.24",
         "7425981.15",
         "7654315.58",
         "7429006.24",
         "7580768.75",
         "7025175.6",
         "6760305.81",
         "7779822.21",
         "7707892.66",
         "8560529.9",
         "8355165.66",
         "7845709.98",
         "7931146.33",
         "7554941.74",
         "7963674.01",
         "6964512.59",
         "7174445.57",
         "7007236.18",
         "7154710.19",
         "8762491.6",
         "8133488.55",
         "8140639.49",
         "8041248.8",
         "8199032.67",
         "8363386.07",
         "7889819.5",
         "8603943.85",
         "8048398.25",
         "8159737.49",
         "8457455.71",
         "7766983.2",
         "8858845.57",
         "8407076.44",
         "9492938.92",
         "8206195.92",
         "9011612.58",
         "9124967.84",
         "8406732.72",
         "8411360.02",
         "8651081.66",
         "8193425.99",
         "8388269.45",
         "8645315.78",
         "9050329.13",
         "9211262.51",
         "9490545.02",
         "8600886.2",
         "8919190.86",
         "8909111.89",
         "8409386.09",
         "8924348.41",
         "8948605.66",
         "8660753.05",
         "8328381.43",
         "8431334.62",
         "7251287.2",
         "7491953.39",
         "8962121.79",
         "11069824.97",
         "10608659.34",
         "11578639.5",
         "9017298.72",
         "8280299.95",
         "8909539.74",
         "9469279.43",
         "10045624.39",
         "10677245.18",
         "18147121.02",
         "17753851.45",
         "17659855.79",
         "14435903.47",
         "11834435.1",
         "7371334.84",
         "1682801.60",
         "1088059702.25"
        ],
        [
         "1",
         "12 Acre",
         "-",
         "-",
         "-",
         "-",
         "-",
         "-",
         "-",
         "-",
         "-",
         "-",
         "-",
         "-",
         "-",
         "-",
         "-",
         "-",
         "-",
         "-",
         "-",
         "-",
         "-",
         "-",
         "-",
         "-",
         "-",
         "-",
         "-",
         "-",
         "-",
         "-",
         "-",
         "-",
         "-",
         "-",
         "-",
         "-",
         "-",
         "-",
         "-",
         "-",
         "-",
         "-",
         "-",
         "-",
         "-",
         "-",
         "-",
         "-",
         "-",
         "-",
         "-",
         "-",
         "-",
         "-",
         "-",
         "-",
         "-",
         "-",
         "-",
         "-",
         "-",
         "-",
         "-",
         "-",
         "-",
         "-",
         "-",
         "-",
         "-",
         "-",
         "-",
         "-",
         "-",
         "-",
         "-",
         "-",
         "-",
         "-",
         "-",
         "-",
         "-",
         "-",
         "-",
         "-",
         "-",
         "-",
         "-",
         "-",
         "-",
         "-",
         "-",
         "-",
         "-",
         "-",
         "-",
         "-",
         "-",
         "-",
         "-",
         "-",
         "-",
         "-",
         "-",
         "-",
         "-",
         "-",
         "-",
         "-",
         "-",
         "-",
         "-",
         "-",
         "-",
         "-",
         "184.65",
         "-",
         "-",
         "-",
         "-",
         "1099.17",
         "-",
         "10470.07",
         "14001.71",
         "86200.85",
         "301323.68",
         "769612.36",
         "1731744.62",
         "1743978.66",
         "2057439.02",
         "2057829.69",
         "2226577.93",
         "2112576.82",
         "2029128.01",
         "1886871.84",
         "2084884.8",
         "2230838.45",
         "2122013.12",
         "2196651.69",
         "2152239.3",
         "2086775.61",
         "2476364.26",
         "2396887.63",
         "2610261.8",
         "2174098.1",
         "2051885.16",
         "1714707.91",
         "1341532.34",
         "2288458.9",
         "2462712.79",
         "2254900.2",
         "2381535.93",
         "2079981.05",
         "2564837.77",
         "2588318.06",
         "2538525.67",
         "2319786.41",
         "2279156.6",
         "2454599.37",
         "2578923.75",
         "2625443.29",
         "2512995.15",
         "2500589.76",
         "2749521.65",
         "2473515.82",
         "2801446.23",
         "2672803.31",
         "3135521.3",
         "2719044.65",
         "2814550.89",
         "2923529.36",
         "2804546.95",
         "2773202.98",
         "2711168.25",
         "2765187.44",
         "2804275.11",
         "2460383.33",
         "3062146.31",
         "2780466.09",
         "2811471.16",
         "2813012.39",
         "2946976.72",
         "2801590.13",
         "3089898.24",
         "3049071.15",
         "2858028.89",
         "2642140.91",
         "2774802.96",
         "2650391.04",
         "2813059.49",
         "2906257.88",
         "2893275.56",
         "2687861.43",
         "2940387.36",
         "2895941.14",
         "2824796.19",
         "3034232.68",
         "2682370.65",
         "2680655.0",
         "2880570.12",
         "2611479.72",
         "3026117.7",
         "3116433.45",
         "3166557.72",
         "3138759.74",
         "3011898.65",
         "3111431.36",
         "2630560.39",
         "3079894.04",
         "3191663.93",
         "2862824.95",
         "3136522.53",
         "2901829.7",
         "3043474.78",
         "3139472.52",
         "3096430.52",
         "3334482.41",
         "2953212.26",
         "3162075.03",
         "3109856.27",
         "3177087.64",
         "3097868.79",
         "3059992.59",
         "3168190.91",
         "3037922.8",
         "3271599.56",
         "3207893.15",
         "3402393.7",
         "3380644.97",
         "3566107.55",
         "3523208.57",
         "3173932.43",
         "2911080.18",
         "3082652.71",
         "3173509.52",
         "3009727.19",
         "3134471.01",
         "3586781.3",
         "2811365.43",
         "3161446.53",
         "3355223.35",
         "3562691.54",
         "3375296.64",
         "3341497.58",
         "3358378.05",
         "3145385.44",
         "2638773.92",
         "2968168.75",
         "2769797.39",
         "3057631.96",
         "2874965.31",
         "3175575.17",
         "3060903.21",
         "3253011.61",
         "3040645.05",
         "2926179.27",
         "3126120.64",
         "2473454.85",
         "2277493.49",
         "2594347.32",
         "2234388.36",
         "2473008.49",
         "2979764.77",
         "3070533.95",
         "3249052.69",
         "3567538.64",
         "2981072.98",
         "2998860.31",
         "3293378.97",
         "3174249.43",
         "2959569.09",
         "3276790.55",
         "2985763.71",
         "2939675.2",
         "2672857.33",
         "2940827.86",
         "3914823.86",
         "4053085.41",
         "3658265.59",
         "3470648.64",
         "3267918.69",
         "3497348.48",
         "3820865.83",
         "4175526.06",
         "5282655.42",
         "5699597.78",
         "5002272.59",
         "4326882.24",
         "3458187.11",
         "2302711.01",
         "1196754.85",
         "-",
         "475290315.34"
        ],
        [
         "2",
         "13 Amazonas",
         "-",
         "-",
         "-",
         "-",
         "-",
         "-",
         "-",
         "-",
         "-",
         "-",
         "-",
         "-",
         "-",
         "-",
         "-",
         "-",
         "-",
         "-",
         "-",
         "-",
         "-",
         "-",
         "-",
         "-",
         "-",
         "-",
         "-",
         "-",
         "-",
         "-",
         "-",
         "-",
         "-",
         "-",
         "-",
         "-",
         "-",
         "-",
         "-",
         "-",
         "-",
         "-",
         "-",
         "-",
         "-",
         "-",
         "-",
         "-",
         "-",
         "-",
         "-",
         "-",
         "-",
         "-",
         "-",
         "-",
         "-",
         "-",
         "-",
         "-",
         "-",
         "-",
         "-",
         "-",
         "-",
         "-",
         "-",
         "-",
         "-",
         "-",
         "-",
         "-",
         "-",
         "-",
         "-",
         "-",
         "-",
         "-",
         "-",
         "-",
         "-",
         "-",
         "-",
         "-",
         "-",
         "-",
         "-",
         "-",
         "-",
         "-",
         "-",
         "-",
         "-",
         "-",
         "-",
         "-",
         "-",
         "-",
         "-",
         "-",
         "-",
         "-",
         "-",
         "-",
         "-",
         "-",
         "-",
         "-",
         "-",
         "-",
         "-",
         "-",
         "-",
         "-",
         "1134.83",
         "951.89",
         "-",
         "531.94",
         "-",
         "-",
         "212.75",
         "35752.72",
         "45570.64",
         "416012.3",
         "2020381.79",
         "5949408.99",
         "11419210.08",
         "7934652.1",
         "8641517.13",
         "8531576.49",
         "9079902.15",
         "8646295.77",
         "8755806.5",
         "8331763.97",
         "8148089.92",
         "7681661.02",
         "7761445.21",
         "7764782.66",
         "8607222.74",
         "8385962.92",
         "9207129.28",
         "8160517.2",
         "8562322.43",
         "9484998.71",
         "9465068.52",
         "9267006.58",
         "9092823.55",
         "9218407.34",
         "8674068.02",
         "8365788.46",
         "9386945.03",
         "8373048.81",
         "10321150.01",
         "9990164.13",
         "9767161.23",
         "9151838.5",
         "9140196.88",
         "9437224.41",
         "9742680.49",
         "9996686.44",
         "9532878.27",
         "9335803.05",
         "9800511.52",
         "9461664.54",
         "10954545.77",
         "10529645.04",
         "10105494.01",
         "9966359.03",
         "9972847.16",
         "9965893.92",
         "9861030.02",
         "10206641.46",
         "10735915.35",
         "8702766.18",
         "10037664.68",
         "8977728.1",
         "11048686.39",
         "10472290.4",
         "11490377.42",
         "10677441.18",
         "11010010.57",
         "10766405.24",
         "9569712.9",
         "9989822.59",
         "9957925.62",
         "8918794.96",
         "10855590.98",
         "9429474.72",
         "10170130.9",
         "10539428.15",
         "11110036.76",
         "10467110.16",
         "10400642.04",
         "10851212.49",
         "10420922.29",
         "10599000.25",
         "10244521.6",
         "9306819.97",
         "9474986.9",
         "8225118.03",
         "9923980.1",
         "10308887.72",
         "10398106.16",
         "10613208.66",
         "10530622.36",
         "10789449.65",
         "11373085.93",
         "11780494.51",
         "11275532.44",
         "10959544.5",
         "12149857.06",
         "11363981.9",
         "13379237.72",
         "13159168.82",
         "12962255.41",
         "13423538.07",
         "13253844.31",
         "13457422.49",
         "12622284.09",
         "13088040.45",
         "11495628.09",
         "11596671.58",
         "11543911.29",
         "11990242.08",
         "13508906.38",
         "13067645.44",
         "13633627.87",
         "13143225.36",
         "12692419.45",
         "12517962.68",
         "11634453.4",
         "12121775.2",
         "10806653.19",
         "11933902.28",
         "12214148.15",
         "11689140.72",
         "13474719.8",
         "13717831.75",
         "13909566.03",
         "13718828.46",
         "14396210.86",
         "13745304.22",
         "13979792.94",
         "13895515.9",
         "13518116.8",
         "13635186.02",
         "14549450.86",
         "12753555.36",
         "14749409.47",
         "14577930.81",
         "15381061.96",
         "14653650.77",
         "15544595.79",
         "16374961.41",
         "15343340.93",
         "16249963.61",
         "14255408.82",
         "14274053.94",
         "15358914.0",
         "14100074.56",
         "16103971.89",
         "16154491.82",
         "16529976.06",
         "15509984.83",
         "16642220.71",
         "16493719.52",
         "15351607.47",
         "16339427.95",
         "14821977.5",
         "14965815.9",
         "15982353.42",
         "15166470.82",
         "14817551.6",
         "16384086.61",
         "19629685.1",
         "18438092.88",
         "19305534.94",
         "18698372.12",
         "18639116.65",
         "18750332.19",
         "20587412.38",
         "21911210.94",
         "27406458.57",
         "22341042.63",
         "27923786.94",
         "24515920.09",
         "23973537.71",
         "22175398.4",
         "21614943.55",
         "13806958.66",
         "5292323.36",
         "2061943006.93"
        ],
        [
         "3",
         "14 Roraima",
         "-",
         "-",
         "-",
         "-",
         "-",
         "-",
         "-",
         "-",
         "-",
         "-",
         "-",
         "-",
         "-",
         "-",
         "-",
         "-",
         "-",
         "-",
         "-",
         "-",
         "-",
         "-",
         "-",
         "-",
         "-",
         "-",
         "-",
         "-",
         "-",
         "-",
         "-",
         "-",
         "-",
         "-",
         "-",
         "-",
         "-",
         "-",
         "-",
         "-",
         "-",
         "-",
         "-",
         "-",
         "-",
         "-",
         "-",
         "-",
         "-",
         "-",
         "-",
         "-",
         "-",
         "-",
         "-",
         "-",
         "-",
         "-",
         "-",
         "-",
         "-",
         "-",
         "-",
         "-",
         "-",
         "-",
         "-",
         "-",
         "-",
         "-",
         "-",
         "-",
         "-",
         "-",
         "-",
         "-",
         "-",
         "-",
         "-",
         "-",
         "-",
         "-",
         "-",
         "-",
         "-",
         "-",
         "-",
         "-",
         "-",
         "-",
         "-",
         "-",
         "-",
         "-",
         "-",
         "-",
         "-",
         "-",
         "-",
         "-",
         "-",
         "-",
         "-",
         "-",
         "-",
         "-",
         "-",
         "-",
         "-",
         "-",
         "-",
         "-",
         "-",
         "-",
         "-",
         "-",
         "-",
         "-",
         "-",
         "413.69",
         "-",
         "4785.91",
         "11858.63",
         "43852.67",
         "369328.51",
         "470676.43",
         "808448.39",
         "771687.83",
         "876091.18",
         "896952.53",
         "1027288.73",
         "938293.54",
         "1004340.44",
         "1045291.11",
         "1003740.89",
         "1055063.43",
         "1223200.73",
         "1236529.18",
         "1186281.36",
         "1106225.18",
         "1422690.18",
         "1377859.19",
         "1363883.01",
         "1346660.89",
         "1371019.37",
         "1529696.18",
         "1573418.68",
         "1517391.92",
         "1597811.24",
         "1536941.82",
         "1617781.76",
         "1452295.35",
         "1817004.16",
         "1715762.1",
         "1933733.03",
         "1849065.95",
         "1877204.62",
         "2046063.98",
         "1939488.67",
         "1757675.71",
         "1528245.34",
         "1485166.6",
         "1604886.45",
         "1220176.72",
         "1276120.86",
         "1379942.19",
         "1679122.67",
         "1770324.67",
         "1646157.39",
         "1656379.5",
         "1802450.34",
         "1856131.44",
         "1655521.98",
         "1620351.06",
         "1605536.38",
         "1625159.47",
         "1768605.61",
         "1589072.69",
         "1982657.11",
         "1782557.43",
         "1743562.81",
         "1822724.18",
         "1637458.04",
         "1374247.23",
         "1613270.45",
         "1586569.21",
         "1712994.69",
         "1483195.3",
         "1783411.48",
         "1713083.73",
         "1724464.55",
         "1965346.91",
         "1835094.3",
         "1816091.81",
         "1741449.49",
         "1779522.8",
         "1698450.51",
         "1739855.56",
         "1649617.13",
         "1444697.49",
         "1828395.54",
         "1743474.24",
         "1939379.14",
         "1778530.78",
         "1839321.94",
         "1818003.17",
         "1890924.98",
         "1792376.75",
         "1929194.87",
         "1927452.43",
         "1952679.49",
         "1650143.01",
         "1806730.29",
         "1967249.27",
         "2002239.47",
         "2200465.33",
         "2230544.02",
         "2285467.53",
         "2215191.54",
         "2005870.76",
         "1937208.01",
         "2000028.1",
         "2306946.41",
         "2000924.9",
         "2333218.37",
         "2069716.58",
         "2105130.54",
         "2390060.15",
         "2324710.08",
         "2476903.43",
         "2212516.5",
         "2349084.57",
         "2184836.8",
         "2380057.58",
         "2370359.62",
         "2256529.94",
         "2602191.08",
         "2392160.3",
         "2761536.23",
         "2699213.85",
         "2682746.28",
         "2891100.2",
         "2737677.78",
         "2693726.29",
         "2671451.53",
         "2688315.7",
         "2740952.07",
         "2478349.44",
         "2674958.94",
         "2721261.19",
         "2844811.66",
         "2967161.35",
         "2841587.97",
         "3328230.63",
         "2878691.04",
         "2964324.32",
         "2524712.4",
         "2462451.64",
         "2662240.18",
         "2499996.16",
         "2846135.56",
         "2789823.29",
         "2839389.53",
         "2647540.2",
         "2865777.71",
         "3181321.82",
         "3070436.96",
         "3162342.44",
         "3121104.71",
         "2889969.87",
         "3084561.08",
         "2967159.04",
         "2813954.05",
         "2306119.95",
         "2921522.16",
         "3300012.98",
         "3192075.41",
         "3262354.34",
         "2978629.22",
         "3313296.78",
         "3531874.44",
         "3193708.89",
         "3557821.99",
         "4172285.82",
         "5427226.7",
         "4192540.54",
         "3681417.8",
         "3475205.55",
         "3320807.96",
         "2907871.07",
         "1496814.75",
         "352546288.71"
        ],
        [
         "4",
         "15 Pará",
         "-",
         "-",
         "-",
         "-",
         "-",
         "-",
         "-",
         "-",
         "-",
         "-",
         "-",
         "-",
         "-",
         "-",
         "-",
         "-",
         "-",
         "-",
         "-",
         "-",
         "-",
         "-",
         "-",
         "-",
         "-",
         "-",
         "-",
         "-",
         "-",
         "-",
         "-",
         "-",
         "-",
         "-",
         "-",
         "-",
         "-",
         "-",
         "-",
         "-",
         "-",
         "-",
         "-",
         "-",
         "-",
         "-",
         "-",
         "-",
         "-",
         "-",
         "-",
         "-",
         "-",
         "-",
         "-",
         "-",
         "-",
         "-",
         "-",
         "-",
         "-",
         "-",
         "-",
         "-",
         "-",
         "-",
         "-",
         "-",
         "-",
         "-",
         "-",
         "-",
         "-",
         "-",
         "-",
         "-",
         "-",
         "-",
         "-",
         "-",
         "-",
         "-",
         "-",
         "-",
         "-",
         "-",
         "-",
         "-",
         "-",
         "-",
         "-",
         "-",
         "-",
         "-",
         "-",
         "-",
         "-",
         "-",
         "-",
         "-",
         "-",
         "-",
         "-",
         "1260.10",
         "-",
         "-",
         "-",
         "-",
         "-",
         "-",
         "-",
         "-",
         "-",
         "-",
         "4994.86",
         "2182.97",
         "-",
         "-",
         "210.20",
         "399.57",
         "9487.90",
         "181159.29",
         "433414.74",
         "1893197.5",
         "5105406.44",
         "13162823.43",
         "21762104.16",
         "20126081.01",
         "22149375.82",
         "23436682.75",
         "23861080.8",
         "23502915.9",
         "22544291.26",
         "23259148.28",
         "23667690.01",
         "23352577.75",
         "23537613.41",
         "23836162.4",
         "25397157.43",
         "23045700.7",
         "28225957.76",
         "27478025.61",
         "26610951.91",
         "26424970.11",
         "26331756.26",
         "27892582.69",
         "27231854.35",
         "27599957.69",
         "26784181.74",
         "25511285.54",
         "26421157.74",
         "25483553.06",
         "28537493.86",
         "26949923.37",
         "28436425.05",
         "26947713.85",
         "26125357.73",
         "27761867.94",
         "27280175.15",
         "26522062.12",
         "26687663.81",
         "26322040.53",
         "27999789.2",
         "26170892.65",
         "29193123.8",
         "27294759.31",
         "27759327.87",
         "26458847.52",
         "25646178.94",
         "27348214.64",
         "27122078.56",
         "27151997.82",
         "27076766.56",
         "25935603.25",
         "26931701.79",
         "25389310.74",
         "28704612.93",
         "26847966.6",
         "28536479.38",
         "24989145.96",
         "23915410.75",
         "25339308.28",
         "26463528.52",
         "27078939.15",
         "25649589.97",
         "24231259.58",
         "27488235.67",
         "24858606.41",
         "28385955.37",
         "29935288.76",
         "30031113.55",
         "28287779.49",
         "27834188.35",
         "28495723.69",
         "28476294.93",
         "29356437.61",
         "28086219.41",
         "27125004.59",
         "29767266.18",
         "27835380.47",
         "29163415.18",
         "29555562.23",
         "29906534.73",
         "28163413.4",
         "29162727.48",
         "29042208.36",
         "29657868.87",
         "28900904.08",
         "29550827.16",
         "27962491.97",
         "28691072.01",
         "26549566.21",
         "31911102.11",
         "29750854.64",
         "31054967.78",
         "29235281.56",
         "29501440.59",
         "28931804.95",
         "29476810.94",
         "29458486.92",
         "28477062.76",
         "27489497.15",
         "28500205.13",
         "27179920.78",
         "31117998.99",
         "30192626.29",
         "31099655.36",
         "30920858.9",
         "29971249.77",
         "32160799.99",
         "32271083.66",
         "30090090.28",
         "30190160.1",
         "29399653.85",
         "31598256.46",
         "28219353.4",
         "34021215.17",
         "30540036.73",
         "33921112.99",
         "31808597.47",
         "32133134.42",
         "33770556.65",
         "32979925.38",
         "33665042.35",
         "33475545.29",
         "32067934.67",
         "33615836.09",
         "30623491.62",
         "34121931.0",
         "35039954.2",
         "35424611.06",
         "34160283.18",
         "34484949.49",
         "35618364.04",
         "34380916.9",
         "38441090.5",
         "33583538.08",
         "32789354.87",
         "34513534.8",
         "31885919.67",
         "33236155.79",
         "31008924.95",
         "31064106.5",
         "28543179.3",
         "36713929.36",
         "36462011.47",
         "36792954.02",
         "36984314.6",
         "35579251.49",
         "35247659.3",
         "37046350.76",
         "34683341.17",
         "34908420.5",
         "29184688.3",
         "43336950.39",
         "41046394.84",
         "40533687.35",
         "38864252.14",
         "37003357.15",
         "38507479.7",
         "37228236.49",
         "37925512.28",
         "39042349.46",
         "37113440.7",
         "49625416.13",
         "52558327.29",
         "50907226.77",
         "43876590.47",
         "33718084.12",
         "20837865.89",
         "4620263.03",
         "4968811817.17"
        ]
       ],
       "shape": {
        "columns": 293,
        "rows": 5
       }
      },
      "text/html": [
       "<div>\n",
       "<style scoped>\n",
       "    .dataframe tbody tr th:only-of-type {\n",
       "        vertical-align: middle;\n",
       "    }\n",
       "\n",
       "    .dataframe tbody tr th {\n",
       "        vertical-align: top;\n",
       "    }\n",
       "\n",
       "    .dataframe thead th {\n",
       "        text-align: right;\n",
       "    }\n",
       "</style>\n",
       "<table border=\"1\" class=\"dataframe\">\n",
       "  <thead>\n",
       "    <tr style=\"text-align: right;\">\n",
       "      <th></th>\n",
       "      <th>Unidade da Federação</th>\n",
       "      <th>1992/Mar</th>\n",
       "      <th>1992/Abr</th>\n",
       "      <th>1993/Mai</th>\n",
       "      <th>1993/Dez</th>\n",
       "      <th>1994/Jan</th>\n",
       "      <th>1994/Fev</th>\n",
       "      <th>1994/Mai</th>\n",
       "      <th>1994/Ago</th>\n",
       "      <th>1994/Nov</th>\n",
       "      <th>...</th>\n",
       "      <th>2021/Jan</th>\n",
       "      <th>2021/Fev</th>\n",
       "      <th>2021/Mar</th>\n",
       "      <th>2021/Abr</th>\n",
       "      <th>2021/Mai</th>\n",
       "      <th>2021/Jun</th>\n",
       "      <th>2021/Jul</th>\n",
       "      <th>2021/Ago</th>\n",
       "      <th>2021/Set</th>\n",
       "      <th>Total</th>\n",
       "    </tr>\n",
       "  </thead>\n",
       "  <tbody>\n",
       "    <tr>\n",
       "      <th>0</th>\n",
       "      <td>11 Rondônia</td>\n",
       "      <td>-</td>\n",
       "      <td>-</td>\n",
       "      <td>-</td>\n",
       "      <td>-</td>\n",
       "      <td>-</td>\n",
       "      <td>-</td>\n",
       "      <td>-</td>\n",
       "      <td>-</td>\n",
       "      <td>-</td>\n",
       "      <td>...</td>\n",
       "      <td>10045624.39</td>\n",
       "      <td>10677245.18</td>\n",
       "      <td>18147121.02</td>\n",
       "      <td>17753851.45</td>\n",
       "      <td>17659855.79</td>\n",
       "      <td>14435903.47</td>\n",
       "      <td>11834435.10</td>\n",
       "      <td>7371334.84</td>\n",
       "      <td>1682801.60</td>\n",
       "      <td>1088059702.25</td>\n",
       "    </tr>\n",
       "    <tr>\n",
       "      <th>1</th>\n",
       "      <td>12 Acre</td>\n",
       "      <td>-</td>\n",
       "      <td>-</td>\n",
       "      <td>-</td>\n",
       "      <td>-</td>\n",
       "      <td>-</td>\n",
       "      <td>-</td>\n",
       "      <td>-</td>\n",
       "      <td>-</td>\n",
       "      <td>-</td>\n",
       "      <td>...</td>\n",
       "      <td>4175526.06</td>\n",
       "      <td>5282655.42</td>\n",
       "      <td>5699597.78</td>\n",
       "      <td>5002272.59</td>\n",
       "      <td>4326882.24</td>\n",
       "      <td>3458187.11</td>\n",
       "      <td>2302711.01</td>\n",
       "      <td>1196754.85</td>\n",
       "      <td>-</td>\n",
       "      <td>475290315.34</td>\n",
       "    </tr>\n",
       "    <tr>\n",
       "      <th>2</th>\n",
       "      <td>13 Amazonas</td>\n",
       "      <td>-</td>\n",
       "      <td>-</td>\n",
       "      <td>-</td>\n",
       "      <td>-</td>\n",
       "      <td>-</td>\n",
       "      <td>-</td>\n",
       "      <td>-</td>\n",
       "      <td>-</td>\n",
       "      <td>-</td>\n",
       "      <td>...</td>\n",
       "      <td>27406458.57</td>\n",
       "      <td>22341042.63</td>\n",
       "      <td>27923786.94</td>\n",
       "      <td>24515920.09</td>\n",
       "      <td>23973537.71</td>\n",
       "      <td>22175398.40</td>\n",
       "      <td>21614943.55</td>\n",
       "      <td>13806958.66</td>\n",
       "      <td>5292323.36</td>\n",
       "      <td>2061943006.93</td>\n",
       "    </tr>\n",
       "    <tr>\n",
       "      <th>3</th>\n",
       "      <td>14 Roraima</td>\n",
       "      <td>-</td>\n",
       "      <td>-</td>\n",
       "      <td>-</td>\n",
       "      <td>-</td>\n",
       "      <td>-</td>\n",
       "      <td>-</td>\n",
       "      <td>-</td>\n",
       "      <td>-</td>\n",
       "      <td>-</td>\n",
       "      <td>...</td>\n",
       "      <td>3557821.99</td>\n",
       "      <td>4172285.82</td>\n",
       "      <td>5427226.70</td>\n",
       "      <td>4192540.54</td>\n",
       "      <td>3681417.80</td>\n",
       "      <td>3475205.55</td>\n",
       "      <td>3320807.96</td>\n",
       "      <td>2907871.07</td>\n",
       "      <td>1496814.75</td>\n",
       "      <td>352546288.71</td>\n",
       "    </tr>\n",
       "    <tr>\n",
       "      <th>4</th>\n",
       "      <td>15 Pará</td>\n",
       "      <td>-</td>\n",
       "      <td>-</td>\n",
       "      <td>-</td>\n",
       "      <td>-</td>\n",
       "      <td>-</td>\n",
       "      <td>-</td>\n",
       "      <td>-</td>\n",
       "      <td>-</td>\n",
       "      <td>-</td>\n",
       "      <td>...</td>\n",
       "      <td>39042349.46</td>\n",
       "      <td>37113440.70</td>\n",
       "      <td>49625416.13</td>\n",
       "      <td>52558327.29</td>\n",
       "      <td>50907226.77</td>\n",
       "      <td>43876590.47</td>\n",
       "      <td>33718084.12</td>\n",
       "      <td>20837865.89</td>\n",
       "      <td>4620263.03</td>\n",
       "      <td>4968811817.17</td>\n",
       "    </tr>\n",
       "  </tbody>\n",
       "</table>\n",
       "<p>5 rows × 293 columns</p>\n",
       "</div>"
      ],
      "text/plain": [
       "  Unidade da Federação 1992/Mar 1992/Abr 1993/Mai 1993/Dez 1994/Jan 1994/Fev  \\\n",
       "0          11 Rondônia        -        -        -        -        -        -   \n",
       "1              12 Acre        -        -        -        -        -        -   \n",
       "2          13 Amazonas        -        -        -        -        -        -   \n",
       "3           14 Roraima        -        -        -        -        -        -   \n",
       "4              15 Pará        -        -        -        -        -        -   \n",
       "\n",
       "  1994/Mai 1994/Ago 1994/Nov  ...    2021/Jan    2021/Fev    2021/Mar  \\\n",
       "0        -        -        -  ... 10045624.39 10677245.18 18147121.02   \n",
       "1        -        -        -  ...  4175526.06  5282655.42  5699597.78   \n",
       "2        -        -        -  ... 27406458.57 22341042.63 27923786.94   \n",
       "3        -        -        -  ...  3557821.99  4172285.82  5427226.70   \n",
       "4        -        -        -  ... 39042349.46 37113440.70 49625416.13   \n",
       "\n",
       "     2021/Abr    2021/Mai    2021/Jun    2021/Jul    2021/Ago    2021/Set  \\\n",
       "0 17753851.45 17659855.79 14435903.47 11834435.10  7371334.84  1682801.60   \n",
       "1  5002272.59  4326882.24  3458187.11  2302711.01  1196754.85           -   \n",
       "2 24515920.09 23973537.71 22175398.40 21614943.55 13806958.66  5292323.36   \n",
       "3  4192540.54  3681417.80  3475205.55  3320807.96  2907871.07  1496814.75   \n",
       "4 52558327.29 50907226.77 43876590.47 33718084.12 20837865.89  4620263.03   \n",
       "\n",
       "          Total  \n",
       "0 1088059702.25  \n",
       "1  475290315.34  \n",
       "2 2061943006.93  \n",
       "3  352546288.71  \n",
       "4 4968811817.17  \n",
       "\n",
       "[5 rows x 293 columns]"
      ]
     },
     "execution_count": 14,
     "metadata": {},
     "output_type": "execute_result"
    }
   ],
   "source": [
    "dados.head()"
   ]
  },
  {
   "cell_type": "code",
   "execution_count": 15,
   "metadata": {},
   "outputs": [
    {
     "data": {
      "text/plain": [
       "Index(['Unidade da Federação', '1992/Mar', '1992/Abr', '1993/Mai', '1993/Dez',\n",
       "       '1994/Jan', '1994/Fev', '1994/Mai', '1994/Ago', '1994/Nov',\n",
       "       ...\n",
       "       '2021/Jan', '2021/Fev', '2021/Mar', '2021/Abr', '2021/Mai', '2021/Jun',\n",
       "       '2021/Jul', '2021/Ago', '2021/Set', 'Total'],\n",
       "      dtype='object', length=293)"
      ]
     },
     "execution_count": 15,
     "metadata": {},
     "output_type": "execute_result"
    }
   ],
   "source": [
    "dados.columns"
   ]
  },
  {
   "cell_type": "code",
   "execution_count": 16,
   "metadata": {},
   "outputs": [
    {
     "data": {
      "text/plain": [
       "['Unidade da Federação', '2007/Ago', '2007/Set', '2007/Out', '2007/Nov']"
      ]
     },
     "execution_count": 16,
     "metadata": {},
     "output_type": "execute_result"
    }
   ],
   "source": [
    "colunas_usaveis = dados.mean(numeric_only=True).index.tolist() \n",
    "colunas_usaveis.insert(0, 'Unidade da Federação')\n",
    "colunas_usaveis[:5]"
   ]
  },
  {
   "cell_type": "markdown",
   "metadata": {},
   "source": [
    "O tolist() traz uma lista do pandas e não o head do arquivo"
   ]
  },
  {
   "cell_type": "code",
   "execution_count": 17,
   "metadata": {},
   "outputs": [
    {
     "data": {
      "application/vnd.microsoft.datawrangler.viewer.v0+json": {
       "columns": [
        {
         "name": "index",
         "rawType": "int64",
         "type": "integer"
        },
        {
         "name": "Unidade da Federação",
         "rawType": "object",
         "type": "string"
        },
        {
         "name": "2007/Ago",
         "rawType": "float64",
         "type": "float"
        },
        {
         "name": "2007/Set",
         "rawType": "float64",
         "type": "float"
        },
        {
         "name": "2007/Out",
         "rawType": "float64",
         "type": "float"
        },
        {
         "name": "2007/Nov",
         "rawType": "float64",
         "type": "float"
        },
        {
         "name": "2007/Dez",
         "rawType": "float64",
         "type": "float"
        },
        {
         "name": "2008/Jan",
         "rawType": "float64",
         "type": "float"
        },
        {
         "name": "2008/Fev",
         "rawType": "float64",
         "type": "float"
        },
        {
         "name": "2008/Mar",
         "rawType": "float64",
         "type": "float"
        },
        {
         "name": "2008/Abr",
         "rawType": "float64",
         "type": "float"
        },
        {
         "name": "2008/Mai",
         "rawType": "float64",
         "type": "float"
        },
        {
         "name": "2008/Jun",
         "rawType": "float64",
         "type": "float"
        },
        {
         "name": "2008/Jul",
         "rawType": "float64",
         "type": "float"
        },
        {
         "name": "2008/Ago",
         "rawType": "float64",
         "type": "float"
        },
        {
         "name": "2008/Set",
         "rawType": "float64",
         "type": "float"
        },
        {
         "name": "2008/Out",
         "rawType": "float64",
         "type": "float"
        },
        {
         "name": "2008/Nov",
         "rawType": "float64",
         "type": "float"
        },
        {
         "name": "2008/Dez",
         "rawType": "float64",
         "type": "float"
        },
        {
         "name": "2009/Jan",
         "rawType": "float64",
         "type": "float"
        },
        {
         "name": "2009/Fev",
         "rawType": "float64",
         "type": "float"
        },
        {
         "name": "2009/Mar",
         "rawType": "float64",
         "type": "float"
        },
        {
         "name": "2009/Abr",
         "rawType": "float64",
         "type": "float"
        },
        {
         "name": "2009/Mai",
         "rawType": "float64",
         "type": "float"
        },
        {
         "name": "2009/Jun",
         "rawType": "float64",
         "type": "float"
        },
        {
         "name": "2009/Jul",
         "rawType": "float64",
         "type": "float"
        },
        {
         "name": "2009/Ago",
         "rawType": "float64",
         "type": "float"
        },
        {
         "name": "2009/Set",
         "rawType": "float64",
         "type": "float"
        },
        {
         "name": "2009/Out",
         "rawType": "float64",
         "type": "float"
        },
        {
         "name": "2009/Nov",
         "rawType": "float64",
         "type": "float"
        },
        {
         "name": "2009/Dez",
         "rawType": "float64",
         "type": "float"
        },
        {
         "name": "2010/Jan",
         "rawType": "float64",
         "type": "float"
        },
        {
         "name": "2010/Fev",
         "rawType": "float64",
         "type": "float"
        },
        {
         "name": "2010/Mar",
         "rawType": "float64",
         "type": "float"
        },
        {
         "name": "2010/Abr",
         "rawType": "float64",
         "type": "float"
        },
        {
         "name": "2010/Mai",
         "rawType": "float64",
         "type": "float"
        },
        {
         "name": "2010/Jun",
         "rawType": "float64",
         "type": "float"
        },
        {
         "name": "2010/Jul",
         "rawType": "float64",
         "type": "float"
        },
        {
         "name": "2010/Ago",
         "rawType": "float64",
         "type": "float"
        },
        {
         "name": "2010/Set",
         "rawType": "float64",
         "type": "float"
        },
        {
         "name": "2010/Out",
         "rawType": "float64",
         "type": "float"
        },
        {
         "name": "2010/Nov",
         "rawType": "float64",
         "type": "float"
        },
        {
         "name": "2010/Dez",
         "rawType": "float64",
         "type": "float"
        },
        {
         "name": "2011/Jan",
         "rawType": "float64",
         "type": "float"
        },
        {
         "name": "2011/Fev",
         "rawType": "float64",
         "type": "float"
        },
        {
         "name": "2011/Mar",
         "rawType": "float64",
         "type": "float"
        },
        {
         "name": "2011/Abr",
         "rawType": "float64",
         "type": "float"
        },
        {
         "name": "2011/Mai",
         "rawType": "float64",
         "type": "float"
        },
        {
         "name": "2011/Jun",
         "rawType": "float64",
         "type": "float"
        },
        {
         "name": "2011/Jul",
         "rawType": "float64",
         "type": "float"
        },
        {
         "name": "2011/Ago",
         "rawType": "float64",
         "type": "float"
        },
        {
         "name": "2011/Set",
         "rawType": "float64",
         "type": "float"
        },
        {
         "name": "2011/Out",
         "rawType": "float64",
         "type": "float"
        },
        {
         "name": "2011/Nov",
         "rawType": "float64",
         "type": "float"
        },
        {
         "name": "2011/Dez",
         "rawType": "float64",
         "type": "float"
        },
        {
         "name": "2012/Jan",
         "rawType": "float64",
         "type": "float"
        },
        {
         "name": "2012/Fev",
         "rawType": "float64",
         "type": "float"
        },
        {
         "name": "2012/Mar",
         "rawType": "float64",
         "type": "float"
        },
        {
         "name": "2012/Abr",
         "rawType": "float64",
         "type": "float"
        },
        {
         "name": "2012/Mai",
         "rawType": "float64",
         "type": "float"
        },
        {
         "name": "2012/Jun",
         "rawType": "float64",
         "type": "float"
        },
        {
         "name": "2012/Jul",
         "rawType": "float64",
         "type": "float"
        },
        {
         "name": "2012/Ago",
         "rawType": "float64",
         "type": "float"
        },
        {
         "name": "2012/Set",
         "rawType": "float64",
         "type": "float"
        },
        {
         "name": "2012/Out",
         "rawType": "float64",
         "type": "float"
        },
        {
         "name": "2012/Nov",
         "rawType": "float64",
         "type": "float"
        },
        {
         "name": "2012/Dez",
         "rawType": "float64",
         "type": "float"
        },
        {
         "name": "2013/Jan",
         "rawType": "float64",
         "type": "float"
        },
        {
         "name": "2013/Fev",
         "rawType": "float64",
         "type": "float"
        },
        {
         "name": "2013/Mar",
         "rawType": "float64",
         "type": "float"
        },
        {
         "name": "2013/Abr",
         "rawType": "float64",
         "type": "float"
        },
        {
         "name": "2013/Mai",
         "rawType": "float64",
         "type": "float"
        },
        {
         "name": "2013/Jun",
         "rawType": "float64",
         "type": "float"
        },
        {
         "name": "2013/Jul",
         "rawType": "float64",
         "type": "float"
        },
        {
         "name": "2013/Ago",
         "rawType": "float64",
         "type": "float"
        },
        {
         "name": "2013/Set",
         "rawType": "float64",
         "type": "float"
        },
        {
         "name": "2013/Out",
         "rawType": "float64",
         "type": "float"
        },
        {
         "name": "2013/Nov",
         "rawType": "float64",
         "type": "float"
        },
        {
         "name": "2013/Dez",
         "rawType": "float64",
         "type": "float"
        },
        {
         "name": "2014/Jan",
         "rawType": "float64",
         "type": "float"
        },
        {
         "name": "2014/Fev",
         "rawType": "float64",
         "type": "float"
        },
        {
         "name": "2014/Mar",
         "rawType": "float64",
         "type": "float"
        },
        {
         "name": "2014/Abr",
         "rawType": "float64",
         "type": "float"
        },
        {
         "name": "2014/Mai",
         "rawType": "float64",
         "type": "float"
        },
        {
         "name": "2014/Jun",
         "rawType": "float64",
         "type": "float"
        },
        {
         "name": "2014/Jul",
         "rawType": "float64",
         "type": "float"
        },
        {
         "name": "2014/Ago",
         "rawType": "float64",
         "type": "float"
        },
        {
         "name": "2014/Set",
         "rawType": "float64",
         "type": "float"
        },
        {
         "name": "2014/Out",
         "rawType": "float64",
         "type": "float"
        },
        {
         "name": "2014/Nov",
         "rawType": "float64",
         "type": "float"
        },
        {
         "name": "2014/Dez",
         "rawType": "float64",
         "type": "float"
        },
        {
         "name": "2015/Jan",
         "rawType": "float64",
         "type": "float"
        },
        {
         "name": "2015/Fev",
         "rawType": "float64",
         "type": "float"
        },
        {
         "name": "2015/Mar",
         "rawType": "float64",
         "type": "float"
        },
        {
         "name": "2015/Abr",
         "rawType": "float64",
         "type": "float"
        },
        {
         "name": "2015/Mai",
         "rawType": "float64",
         "type": "float"
        },
        {
         "name": "2015/Jun",
         "rawType": "float64",
         "type": "float"
        },
        {
         "name": "2015/Jul",
         "rawType": "float64",
         "type": "float"
        },
        {
         "name": "2015/Ago",
         "rawType": "float64",
         "type": "float"
        },
        {
         "name": "2015/Set",
         "rawType": "float64",
         "type": "float"
        },
        {
         "name": "2015/Out",
         "rawType": "float64",
         "type": "float"
        },
        {
         "name": "2015/Nov",
         "rawType": "float64",
         "type": "float"
        },
        {
         "name": "2015/Dez",
         "rawType": "float64",
         "type": "float"
        },
        {
         "name": "2016/Jan",
         "rawType": "float64",
         "type": "float"
        },
        {
         "name": "2016/Fev",
         "rawType": "float64",
         "type": "float"
        },
        {
         "name": "2016/Mar",
         "rawType": "float64",
         "type": "float"
        },
        {
         "name": "2016/Abr",
         "rawType": "float64",
         "type": "float"
        },
        {
         "name": "2016/Mai",
         "rawType": "float64",
         "type": "float"
        },
        {
         "name": "2016/Jun",
         "rawType": "float64",
         "type": "float"
        },
        {
         "name": "2016/Jul",
         "rawType": "float64",
         "type": "float"
        },
        {
         "name": "2016/Ago",
         "rawType": "float64",
         "type": "float"
        },
        {
         "name": "2016/Set",
         "rawType": "float64",
         "type": "float"
        },
        {
         "name": "2016/Out",
         "rawType": "float64",
         "type": "float"
        },
        {
         "name": "2016/Nov",
         "rawType": "float64",
         "type": "float"
        },
        {
         "name": "2016/Dez",
         "rawType": "float64",
         "type": "float"
        },
        {
         "name": "2017/Jan",
         "rawType": "float64",
         "type": "float"
        },
        {
         "name": "2017/Fev",
         "rawType": "float64",
         "type": "float"
        },
        {
         "name": "2017/Mar",
         "rawType": "float64",
         "type": "float"
        },
        {
         "name": "2017/Abr",
         "rawType": "float64",
         "type": "float"
        },
        {
         "name": "2017/Mai",
         "rawType": "float64",
         "type": "float"
        },
        {
         "name": "2017/Jun",
         "rawType": "float64",
         "type": "float"
        },
        {
         "name": "2017/Jul",
         "rawType": "float64",
         "type": "float"
        },
        {
         "name": "2017/Ago",
         "rawType": "float64",
         "type": "float"
        },
        {
         "name": "2017/Set",
         "rawType": "float64",
         "type": "float"
        },
        {
         "name": "2017/Out",
         "rawType": "float64",
         "type": "float"
        },
        {
         "name": "2017/Nov",
         "rawType": "float64",
         "type": "float"
        },
        {
         "name": "2017/Dez",
         "rawType": "float64",
         "type": "float"
        },
        {
         "name": "2018/Jan",
         "rawType": "float64",
         "type": "float"
        },
        {
         "name": "2018/Fev",
         "rawType": "float64",
         "type": "float"
        },
        {
         "name": "2018/Mar",
         "rawType": "float64",
         "type": "float"
        },
        {
         "name": "2018/Abr",
         "rawType": "float64",
         "type": "float"
        },
        {
         "name": "2018/Mai",
         "rawType": "float64",
         "type": "float"
        },
        {
         "name": "2018/Jun",
         "rawType": "float64",
         "type": "float"
        },
        {
         "name": "2018/Jul",
         "rawType": "float64",
         "type": "float"
        },
        {
         "name": "2018/Ago",
         "rawType": "float64",
         "type": "float"
        },
        {
         "name": "2018/Set",
         "rawType": "float64",
         "type": "float"
        },
        {
         "name": "2018/Out",
         "rawType": "float64",
         "type": "float"
        },
        {
         "name": "2018/Nov",
         "rawType": "float64",
         "type": "float"
        },
        {
         "name": "2018/Dez",
         "rawType": "float64",
         "type": "float"
        },
        {
         "name": "2019/Jan",
         "rawType": "float64",
         "type": "float"
        },
        {
         "name": "2019/Fev",
         "rawType": "float64",
         "type": "float"
        },
        {
         "name": "2019/Mar",
         "rawType": "float64",
         "type": "float"
        },
        {
         "name": "2019/Abr",
         "rawType": "float64",
         "type": "float"
        },
        {
         "name": "2019/Mai",
         "rawType": "float64",
         "type": "float"
        },
        {
         "name": "2019/Jun",
         "rawType": "float64",
         "type": "float"
        },
        {
         "name": "2019/Jul",
         "rawType": "float64",
         "type": "float"
        },
        {
         "name": "2019/Ago",
         "rawType": "float64",
         "type": "float"
        },
        {
         "name": "2019/Set",
         "rawType": "float64",
         "type": "float"
        },
        {
         "name": "2019/Out",
         "rawType": "float64",
         "type": "float"
        },
        {
         "name": "2019/Nov",
         "rawType": "float64",
         "type": "float"
        },
        {
         "name": "2019/Dez",
         "rawType": "float64",
         "type": "float"
        },
        {
         "name": "2020/Jan",
         "rawType": "float64",
         "type": "float"
        },
        {
         "name": "2020/Fev",
         "rawType": "float64",
         "type": "float"
        },
        {
         "name": "2020/Mar",
         "rawType": "float64",
         "type": "float"
        },
        {
         "name": "2020/Abr",
         "rawType": "float64",
         "type": "float"
        },
        {
         "name": "2020/Mai",
         "rawType": "float64",
         "type": "float"
        },
        {
         "name": "2020/Jun",
         "rawType": "float64",
         "type": "float"
        },
        {
         "name": "2020/Jul",
         "rawType": "float64",
         "type": "float"
        },
        {
         "name": "2020/Ago",
         "rawType": "float64",
         "type": "float"
        },
        {
         "name": "2020/Set",
         "rawType": "float64",
         "type": "float"
        },
        {
         "name": "2020/Out",
         "rawType": "float64",
         "type": "float"
        },
        {
         "name": "2020/Nov",
         "rawType": "float64",
         "type": "float"
        },
        {
         "name": "2020/Dez",
         "rawType": "float64",
         "type": "float"
        },
        {
         "name": "2021/Jan",
         "rawType": "float64",
         "type": "float"
        },
        {
         "name": "2021/Fev",
         "rawType": "float64",
         "type": "float"
        },
        {
         "name": "2021/Mar",
         "rawType": "float64",
         "type": "float"
        },
        {
         "name": "2021/Abr",
         "rawType": "float64",
         "type": "float"
        },
        {
         "name": "2021/Mai",
         "rawType": "float64",
         "type": "float"
        },
        {
         "name": "2021/Jun",
         "rawType": "float64",
         "type": "float"
        },
        {
         "name": "2021/Jul",
         "rawType": "float64",
         "type": "float"
        },
        {
         "name": "2021/Ago",
         "rawType": "float64",
         "type": "float"
        },
        {
         "name": "Total",
         "rawType": "float64",
         "type": "float"
        }
       ],
       "conversionMethod": "pd.DataFrame",
       "ref": "ce78ac97-7dee-4f85-ba1d-add2a7783502",
       "rows": [
        [
         "0",
         "11 Rondônia",
         "4209.37",
         "16397.03",
         "133645.19",
         "346912.84",
         "711758.31",
         "1829559.71",
         "1940792.63",
         "1955721.68",
         "2143353.81",
         "2280382.58",
         "2624542.97",
         "2973421.02",
         "2938286.29",
         "2843930.91",
         "2878153.2",
         "2780022.62",
         "2651804.89",
         "3147566.24",
         "3082108.12",
         "4190355.33",
         "4040251.62",
         "3946423.71",
         "3372377.96",
         "3720608.86",
         "3787323.26",
         "3679369.94",
         "3866146.99",
         "3667808.6",
         "3633471.79",
         "3812315.59",
         "3911776.03",
         "4663060.75",
         "4524544.88",
         "4778755.26",
         "4369733.23",
         "4632439.12",
         "4464307.47",
         "4668642.02",
         "4490368.23",
         "4423840.08",
         "4384430.09",
         "4173529.95",
         "4293085.61",
         "4674947.02",
         "5087527.81",
         "4724192.54",
         "4690112.05",
         "4319488.17",
         "4778472.22",
         "4202805.84",
         "4372265.77",
         "4389025.81",
         "4045339.34",
         "4472721.53",
         "4417486.2",
         "4859795.35",
         "4590008.82",
         "4579463.54",
         "4467858.99",
         "4160296.03",
         "4315005.38",
         "4043314.46",
         "4289759.65",
         "4138600.85",
         "3966744.3",
         "4471693.32",
         "4378412.9",
         "5495946.92",
         "5380890.26",
         "5170015.34",
         "4899586.21",
         "5526959.19",
         "5889685.39",
         "6367552.03",
         "6299844.72",
         "6685861.76",
         "6163036.06",
         "6349302.0",
         "6059111.35",
         "6740436.14",
         "6584249.21",
         "7558087.91",
         "6934864.98",
         "7150611.14",
         "6957882.67",
         "7057715.9",
         "7096778.4",
         "6965306.56",
         "6803544.72",
         "6983698.79",
         "6624059.46",
         "7501596.28",
         "7365022.91",
         "7645734.88",
         "7545619.91",
         "7438604.96",
         "7233618.24",
         "7425981.15",
         "7654315.58",
         "7429006.24",
         "7580768.75",
         "7025175.6",
         "6760305.81",
         "7779822.21",
         "7707892.66",
         "8560529.9",
         "8355165.66",
         "7845709.98",
         "7931146.33",
         "7554941.74",
         "7963674.01",
         "6964512.59",
         "7174445.57",
         "7007236.18",
         "7154710.19",
         "8762491.6",
         "8133488.55",
         "8140639.49",
         "8041248.8",
         "8199032.67",
         "8363386.07",
         "7889819.5",
         "8603943.85",
         "8048398.25",
         "8159737.49",
         "8457455.71",
         "7766983.2",
         "8858845.57",
         "8407076.44",
         "9492938.92",
         "8206195.92",
         "9011612.58",
         "9124967.84",
         "8406732.72",
         "8411360.02",
         "8651081.66",
         "8193425.99",
         "8388269.45",
         "8645315.78",
         "9050329.13",
         "9211262.51",
         "9490545.02",
         "8600886.2",
         "8919190.86",
         "8909111.89",
         "8409386.09",
         "8924348.41",
         "8948605.66",
         "8660753.05",
         "8328381.43",
         "8431334.62",
         "7251287.2",
         "7491953.39",
         "8962121.79",
         "11069824.97",
         "10608659.34",
         "11578639.5",
         "9017298.72",
         "8280299.95",
         "8909539.74",
         "9469279.43",
         "10045624.39",
         "10677245.18",
         "18147121.02",
         "17753851.45",
         "17659855.79",
         "14435903.47",
         "11834435.1",
         "7371334.84",
         "1088059702.25"
        ],
        [
         "1",
         "12 Acre",
         "10470.07",
         "14001.71",
         "86200.85",
         "301323.68",
         "769612.36",
         "1731744.62",
         "1743978.66",
         "2057439.02",
         "2057829.69",
         "2226577.93",
         "2112576.82",
         "2029128.01",
         "1886871.84",
         "2084884.8",
         "2230838.45",
         "2122013.12",
         "2196651.69",
         "2152239.3",
         "2086775.61",
         "2476364.26",
         "2396887.63",
         "2610261.8",
         "2174098.1",
         "2051885.16",
         "1714707.91",
         "1341532.34",
         "2288458.9",
         "2462712.79",
         "2254900.2",
         "2381535.93",
         "2079981.05",
         "2564837.77",
         "2588318.06",
         "2538525.67",
         "2319786.41",
         "2279156.6",
         "2454599.37",
         "2578923.75",
         "2625443.29",
         "2512995.15",
         "2500589.76",
         "2749521.65",
         "2473515.82",
         "2801446.23",
         "2672803.31",
         "3135521.3",
         "2719044.65",
         "2814550.89",
         "2923529.36",
         "2804546.95",
         "2773202.98",
         "2711168.25",
         "2765187.44",
         "2804275.11",
         "2460383.33",
         "3062146.31",
         "2780466.09",
         "2811471.16",
         "2813012.39",
         "2946976.72",
         "2801590.13",
         "3089898.24",
         "3049071.15",
         "2858028.89",
         "2642140.91",
         "2774802.96",
         "2650391.04",
         "2813059.49",
         "2906257.88",
         "2893275.56",
         "2687861.43",
         "2940387.36",
         "2895941.14",
         "2824796.19",
         "3034232.68",
         "2682370.65",
         "2680655.0",
         "2880570.12",
         "2611479.72",
         "3026117.7",
         "3116433.45",
         "3166557.72",
         "3138759.74",
         "3011898.65",
         "3111431.36",
         "2630560.39",
         "3079894.04",
         "3191663.93",
         "2862824.95",
         "3136522.53",
         "2901829.7",
         "3043474.78",
         "3139472.52",
         "3096430.52",
         "3334482.41",
         "2953212.26",
         "3162075.03",
         "3109856.27",
         "3177087.64",
         "3097868.79",
         "3059992.59",
         "3168190.91",
         "3037922.8",
         "3271599.56",
         "3207893.15",
         "3402393.7",
         "3380644.97",
         "3566107.55",
         "3523208.57",
         "3173932.43",
         "2911080.18",
         "3082652.71",
         "3173509.52",
         "3009727.19",
         "3134471.01",
         "3586781.3",
         "2811365.43",
         "3161446.53",
         "3355223.35",
         "3562691.54",
         "3375296.64",
         "3341497.58",
         "3358378.05",
         "3145385.44",
         "2638773.92",
         "2968168.75",
         "2769797.39",
         "3057631.96",
         "2874965.31",
         "3175575.17",
         "3060903.21",
         "3253011.61",
         "3040645.05",
         "2926179.27",
         "3126120.64",
         "2473454.85",
         "2277493.49",
         "2594347.32",
         "2234388.36",
         "2473008.49",
         "2979764.77",
         "3070533.95",
         "3249052.69",
         "3567538.64",
         "2981072.98",
         "2998860.31",
         "3293378.97",
         "3174249.43",
         "2959569.09",
         "3276790.55",
         "2985763.71",
         "2939675.2",
         "2672857.33",
         "2940827.86",
         "3914823.86",
         "4053085.41",
         "3658265.59",
         "3470648.64",
         "3267918.69",
         "3497348.48",
         "3820865.83",
         "4175526.06",
         "5282655.42",
         "5699597.78",
         "5002272.59",
         "4326882.24",
         "3458187.11",
         "2302711.01",
         "1196754.85",
         "475290315.34"
        ],
        [
         "2",
         "13 Amazonas",
         "35752.72",
         "45570.64",
         "416012.3",
         "2020381.79",
         "5949408.99",
         "11419210.08",
         "7934652.1",
         "8641517.13",
         "8531576.49",
         "9079902.15",
         "8646295.77",
         "8755806.5",
         "8331763.97",
         "8148089.92",
         "7681661.02",
         "7761445.21",
         "7764782.66",
         "8607222.74",
         "8385962.92",
         "9207129.28",
         "8160517.2",
         "8562322.43",
         "9484998.71",
         "9465068.52",
         "9267006.58",
         "9092823.55",
         "9218407.34",
         "8674068.02",
         "8365788.46",
         "9386945.03",
         "8373048.81",
         "10321150.01",
         "9990164.13",
         "9767161.23",
         "9151838.5",
         "9140196.88",
         "9437224.41",
         "9742680.49",
         "9996686.44",
         "9532878.27",
         "9335803.05",
         "9800511.52",
         "9461664.54",
         "10954545.77",
         "10529645.04",
         "10105494.01",
         "9966359.03",
         "9972847.16",
         "9965893.92",
         "9861030.02",
         "10206641.46",
         "10735915.35",
         "8702766.18",
         "10037664.68",
         "8977728.1",
         "11048686.39",
         "10472290.4",
         "11490377.42",
         "10677441.18",
         "11010010.57",
         "10766405.24",
         "9569712.9",
         "9989822.59",
         "9957925.62",
         "8918794.96",
         "10855590.98",
         "9429474.72",
         "10170130.9",
         "10539428.15",
         "11110036.76",
         "10467110.16",
         "10400642.04",
         "10851212.49",
         "10420922.29",
         "10599000.25",
         "10244521.6",
         "9306819.97",
         "9474986.9",
         "8225118.03",
         "9923980.1",
         "10308887.72",
         "10398106.16",
         "10613208.66",
         "10530622.36",
         "10789449.65",
         "11373085.93",
         "11780494.51",
         "11275532.44",
         "10959544.5",
         "12149857.06",
         "11363981.9",
         "13379237.72",
         "13159168.82",
         "12962255.41",
         "13423538.07",
         "13253844.31",
         "13457422.49",
         "12622284.09",
         "13088040.45",
         "11495628.09",
         "11596671.58",
         "11543911.29",
         "11990242.08",
         "13508906.38",
         "13067645.44",
         "13633627.87",
         "13143225.36",
         "12692419.45",
         "12517962.68",
         "11634453.4",
         "12121775.2",
         "10806653.19",
         "11933902.28",
         "12214148.15",
         "11689140.72",
         "13474719.8",
         "13717831.75",
         "13909566.03",
         "13718828.46",
         "14396210.86",
         "13745304.22",
         "13979792.94",
         "13895515.9",
         "13518116.8",
         "13635186.02",
         "14549450.86",
         "12753555.36",
         "14749409.47",
         "14577930.81",
         "15381061.96",
         "14653650.77",
         "15544595.79",
         "16374961.41",
         "15343340.93",
         "16249963.61",
         "14255408.82",
         "14274053.94",
         "15358914.0",
         "14100074.56",
         "16103971.89",
         "16154491.82",
         "16529976.06",
         "15509984.83",
         "16642220.71",
         "16493719.52",
         "15351607.47",
         "16339427.95",
         "14821977.5",
         "14965815.9",
         "15982353.42",
         "15166470.82",
         "14817551.6",
         "16384086.61",
         "19629685.1",
         "18438092.88",
         "19305534.94",
         "18698372.12",
         "18639116.65",
         "18750332.19",
         "20587412.38",
         "21911210.94",
         "27406458.57",
         "22341042.63",
         "27923786.94",
         "24515920.09",
         "23973537.71",
         "22175398.4",
         "21614943.55",
         "13806958.66",
         "2061943006.93"
        ],
        [
         "3",
         "14 Roraima",
         "4785.91",
         "11858.63",
         "43852.67",
         "369328.51",
         "470676.43",
         "808448.39",
         "771687.83",
         "876091.18",
         "896952.53",
         "1027288.73",
         "938293.54",
         "1004340.44",
         "1045291.11",
         "1003740.89",
         "1055063.43",
         "1223200.73",
         "1236529.18",
         "1186281.36",
         "1106225.18",
         "1422690.18",
         "1377859.19",
         "1363883.01",
         "1346660.89",
         "1371019.37",
         "1529696.18",
         "1573418.68",
         "1517391.92",
         "1597811.24",
         "1536941.82",
         "1617781.76",
         "1452295.35",
         "1817004.16",
         "1715762.1",
         "1933733.03",
         "1849065.95",
         "1877204.62",
         "2046063.98",
         "1939488.67",
         "1757675.71",
         "1528245.34",
         "1485166.6",
         "1604886.45",
         "1220176.72",
         "1276120.86",
         "1379942.19",
         "1679122.67",
         "1770324.67",
         "1646157.39",
         "1656379.5",
         "1802450.34",
         "1856131.44",
         "1655521.98",
         "1620351.06",
         "1605536.38",
         "1625159.47",
         "1768605.61",
         "1589072.69",
         "1982657.11",
         "1782557.43",
         "1743562.81",
         "1822724.18",
         "1637458.04",
         "1374247.23",
         "1613270.45",
         "1586569.21",
         "1712994.69",
         "1483195.3",
         "1783411.48",
         "1713083.73",
         "1724464.55",
         "1965346.91",
         "1835094.3",
         "1816091.81",
         "1741449.49",
         "1779522.8",
         "1698450.51",
         "1739855.56",
         "1649617.13",
         "1444697.49",
         "1828395.54",
         "1743474.24",
         "1939379.14",
         "1778530.78",
         "1839321.94",
         "1818003.17",
         "1890924.98",
         "1792376.75",
         "1929194.87",
         "1927452.43",
         "1952679.49",
         "1650143.01",
         "1806730.29",
         "1967249.27",
         "2002239.47",
         "2200465.33",
         "2230544.02",
         "2285467.53",
         "2215191.54",
         "2005870.76",
         "1937208.01",
         "2000028.1",
         "2306946.41",
         "2000924.9",
         "2333218.37",
         "2069716.58",
         "2105130.54",
         "2390060.15",
         "2324710.08",
         "2476903.43",
         "2212516.5",
         "2349084.57",
         "2184836.8",
         "2380057.58",
         "2370359.62",
         "2256529.94",
         "2602191.08",
         "2392160.3",
         "2761536.23",
         "2699213.85",
         "2682746.28",
         "2891100.2",
         "2737677.78",
         "2693726.29",
         "2671451.53",
         "2688315.7",
         "2740952.07",
         "2478349.44",
         "2674958.94",
         "2721261.19",
         "2844811.66",
         "2967161.35",
         "2841587.97",
         "3328230.63",
         "2878691.04",
         "2964324.32",
         "2524712.4",
         "2462451.64",
         "2662240.18",
         "2499996.16",
         "2846135.56",
         "2789823.29",
         "2839389.53",
         "2647540.2",
         "2865777.71",
         "3181321.82",
         "3070436.96",
         "3162342.44",
         "3121104.71",
         "2889969.87",
         "3084561.08",
         "2967159.04",
         "2813954.05",
         "2306119.95",
         "2921522.16",
         "3300012.98",
         "3192075.41",
         "3262354.34",
         "2978629.22",
         "3313296.78",
         "3531874.44",
         "3193708.89",
         "3557821.99",
         "4172285.82",
         "5427226.7",
         "4192540.54",
         "3681417.8",
         "3475205.55",
         "3320807.96",
         "2907871.07",
         "352546288.71"
        ],
        [
         "4",
         "15 Pará",
         "181159.29",
         "433414.74",
         "1893197.5",
         "5105406.44",
         "13162823.43",
         "21762104.16",
         "20126081.01",
         "22149375.82",
         "23436682.75",
         "23861080.8",
         "23502915.9",
         "22544291.26",
         "23259148.28",
         "23667690.01",
         "23352577.75",
         "23537613.41",
         "23836162.4",
         "25397157.43",
         "23045700.7",
         "28225957.76",
         "27478025.61",
         "26610951.91",
         "26424970.11",
         "26331756.26",
         "27892582.69",
         "27231854.35",
         "27599957.69",
         "26784181.74",
         "25511285.54",
         "26421157.74",
         "25483553.06",
         "28537493.86",
         "26949923.37",
         "28436425.05",
         "26947713.85",
         "26125357.73",
         "27761867.94",
         "27280175.15",
         "26522062.12",
         "26687663.81",
         "26322040.53",
         "27999789.2",
         "26170892.65",
         "29193123.8",
         "27294759.31",
         "27759327.87",
         "26458847.52",
         "25646178.94",
         "27348214.64",
         "27122078.56",
         "27151997.82",
         "27076766.56",
         "25935603.25",
         "26931701.79",
         "25389310.74",
         "28704612.93",
         "26847966.6",
         "28536479.38",
         "24989145.96",
         "23915410.75",
         "25339308.28",
         "26463528.52",
         "27078939.15",
         "25649589.97",
         "24231259.58",
         "27488235.67",
         "24858606.41",
         "28385955.37",
         "29935288.76",
         "30031113.55",
         "28287779.49",
         "27834188.35",
         "28495723.69",
         "28476294.93",
         "29356437.61",
         "28086219.41",
         "27125004.59",
         "29767266.18",
         "27835380.47",
         "29163415.18",
         "29555562.23",
         "29906534.73",
         "28163413.4",
         "29162727.48",
         "29042208.36",
         "29657868.87",
         "28900904.08",
         "29550827.16",
         "27962491.97",
         "28691072.01",
         "26549566.21",
         "31911102.11",
         "29750854.64",
         "31054967.78",
         "29235281.56",
         "29501440.59",
         "28931804.95",
         "29476810.94",
         "29458486.92",
         "28477062.76",
         "27489497.15",
         "28500205.13",
         "27179920.78",
         "31117998.99",
         "30192626.29",
         "31099655.36",
         "30920858.9",
         "29971249.77",
         "32160799.99",
         "32271083.66",
         "30090090.28",
         "30190160.1",
         "29399653.85",
         "31598256.46",
         "28219353.4",
         "34021215.17",
         "30540036.73",
         "33921112.99",
         "31808597.47",
         "32133134.42",
         "33770556.65",
         "32979925.38",
         "33665042.35",
         "33475545.29",
         "32067934.67",
         "33615836.09",
         "30623491.62",
         "34121931.0",
         "35039954.2",
         "35424611.06",
         "34160283.18",
         "34484949.49",
         "35618364.04",
         "34380916.9",
         "38441090.5",
         "33583538.08",
         "32789354.87",
         "34513534.8",
         "31885919.67",
         "33236155.79",
         "31008924.95",
         "31064106.5",
         "28543179.3",
         "36713929.36",
         "36462011.47",
         "36792954.02",
         "36984314.6",
         "35579251.49",
         "35247659.3",
         "37046350.76",
         "34683341.17",
         "34908420.5",
         "29184688.3",
         "43336950.39",
         "41046394.84",
         "40533687.35",
         "38864252.14",
         "37003357.15",
         "38507479.7",
         "37228236.49",
         "37925512.28",
         "39042349.46",
         "37113440.7",
         "49625416.13",
         "52558327.29",
         "50907226.77",
         "43876590.47",
         "33718084.12",
         "20837865.89",
         "4968811817.17"
        ]
       ],
       "shape": {
        "columns": 171,
        "rows": 5
       }
      },
      "text/html": [
       "<div>\n",
       "<style scoped>\n",
       "    .dataframe tbody tr th:only-of-type {\n",
       "        vertical-align: middle;\n",
       "    }\n",
       "\n",
       "    .dataframe tbody tr th {\n",
       "        vertical-align: top;\n",
       "    }\n",
       "\n",
       "    .dataframe thead th {\n",
       "        text-align: right;\n",
       "    }\n",
       "</style>\n",
       "<table border=\"1\" class=\"dataframe\">\n",
       "  <thead>\n",
       "    <tr style=\"text-align: right;\">\n",
       "      <th></th>\n",
       "      <th>Unidade da Federação</th>\n",
       "      <th>2007/Ago</th>\n",
       "      <th>2007/Set</th>\n",
       "      <th>2007/Out</th>\n",
       "      <th>2007/Nov</th>\n",
       "      <th>2007/Dez</th>\n",
       "      <th>2008/Jan</th>\n",
       "      <th>2008/Fev</th>\n",
       "      <th>2008/Mar</th>\n",
       "      <th>2008/Abr</th>\n",
       "      <th>...</th>\n",
       "      <th>2020/Dez</th>\n",
       "      <th>2021/Jan</th>\n",
       "      <th>2021/Fev</th>\n",
       "      <th>2021/Mar</th>\n",
       "      <th>2021/Abr</th>\n",
       "      <th>2021/Mai</th>\n",
       "      <th>2021/Jun</th>\n",
       "      <th>2021/Jul</th>\n",
       "      <th>2021/Ago</th>\n",
       "      <th>Total</th>\n",
       "    </tr>\n",
       "  </thead>\n",
       "  <tbody>\n",
       "    <tr>\n",
       "      <th>0</th>\n",
       "      <td>11 Rondônia</td>\n",
       "      <td>4209.37</td>\n",
       "      <td>16397.03</td>\n",
       "      <td>133645.19</td>\n",
       "      <td>346912.84</td>\n",
       "      <td>711758.31</td>\n",
       "      <td>1829559.71</td>\n",
       "      <td>1940792.63</td>\n",
       "      <td>1955721.68</td>\n",
       "      <td>2143353.81</td>\n",
       "      <td>...</td>\n",
       "      <td>9469279.43</td>\n",
       "      <td>10045624.39</td>\n",
       "      <td>10677245.18</td>\n",
       "      <td>18147121.02</td>\n",
       "      <td>17753851.45</td>\n",
       "      <td>17659855.79</td>\n",
       "      <td>14435903.47</td>\n",
       "      <td>11834435.10</td>\n",
       "      <td>7371334.84</td>\n",
       "      <td>1088059702.25</td>\n",
       "    </tr>\n",
       "    <tr>\n",
       "      <th>1</th>\n",
       "      <td>12 Acre</td>\n",
       "      <td>10470.07</td>\n",
       "      <td>14001.71</td>\n",
       "      <td>86200.85</td>\n",
       "      <td>301323.68</td>\n",
       "      <td>769612.36</td>\n",
       "      <td>1731744.62</td>\n",
       "      <td>1743978.66</td>\n",
       "      <td>2057439.02</td>\n",
       "      <td>2057829.69</td>\n",
       "      <td>...</td>\n",
       "      <td>3820865.83</td>\n",
       "      <td>4175526.06</td>\n",
       "      <td>5282655.42</td>\n",
       "      <td>5699597.78</td>\n",
       "      <td>5002272.59</td>\n",
       "      <td>4326882.24</td>\n",
       "      <td>3458187.11</td>\n",
       "      <td>2302711.01</td>\n",
       "      <td>1196754.85</td>\n",
       "      <td>475290315.34</td>\n",
       "    </tr>\n",
       "    <tr>\n",
       "      <th>2</th>\n",
       "      <td>13 Amazonas</td>\n",
       "      <td>35752.72</td>\n",
       "      <td>45570.64</td>\n",
       "      <td>416012.30</td>\n",
       "      <td>2020381.79</td>\n",
       "      <td>5949408.99</td>\n",
       "      <td>11419210.08</td>\n",
       "      <td>7934652.10</td>\n",
       "      <td>8641517.13</td>\n",
       "      <td>8531576.49</td>\n",
       "      <td>...</td>\n",
       "      <td>21911210.94</td>\n",
       "      <td>27406458.57</td>\n",
       "      <td>22341042.63</td>\n",
       "      <td>27923786.94</td>\n",
       "      <td>24515920.09</td>\n",
       "      <td>23973537.71</td>\n",
       "      <td>22175398.40</td>\n",
       "      <td>21614943.55</td>\n",
       "      <td>13806958.66</td>\n",
       "      <td>2061943006.93</td>\n",
       "    </tr>\n",
       "    <tr>\n",
       "      <th>3</th>\n",
       "      <td>14 Roraima</td>\n",
       "      <td>4785.91</td>\n",
       "      <td>11858.63</td>\n",
       "      <td>43852.67</td>\n",
       "      <td>369328.51</td>\n",
       "      <td>470676.43</td>\n",
       "      <td>808448.39</td>\n",
       "      <td>771687.83</td>\n",
       "      <td>876091.18</td>\n",
       "      <td>896952.53</td>\n",
       "      <td>...</td>\n",
       "      <td>3193708.89</td>\n",
       "      <td>3557821.99</td>\n",
       "      <td>4172285.82</td>\n",
       "      <td>5427226.70</td>\n",
       "      <td>4192540.54</td>\n",
       "      <td>3681417.80</td>\n",
       "      <td>3475205.55</td>\n",
       "      <td>3320807.96</td>\n",
       "      <td>2907871.07</td>\n",
       "      <td>352546288.71</td>\n",
       "    </tr>\n",
       "    <tr>\n",
       "      <th>4</th>\n",
       "      <td>15 Pará</td>\n",
       "      <td>181159.29</td>\n",
       "      <td>433414.74</td>\n",
       "      <td>1893197.50</td>\n",
       "      <td>5105406.44</td>\n",
       "      <td>13162823.43</td>\n",
       "      <td>21762104.16</td>\n",
       "      <td>20126081.01</td>\n",
       "      <td>22149375.82</td>\n",
       "      <td>23436682.75</td>\n",
       "      <td>...</td>\n",
       "      <td>37925512.28</td>\n",
       "      <td>39042349.46</td>\n",
       "      <td>37113440.70</td>\n",
       "      <td>49625416.13</td>\n",
       "      <td>52558327.29</td>\n",
       "      <td>50907226.77</td>\n",
       "      <td>43876590.47</td>\n",
       "      <td>33718084.12</td>\n",
       "      <td>20837865.89</td>\n",
       "      <td>4968811817.17</td>\n",
       "    </tr>\n",
       "  </tbody>\n",
       "</table>\n",
       "<p>5 rows × 171 columns</p>\n",
       "</div>"
      ],
      "text/plain": [
       "  Unidade da Federação  2007/Ago  2007/Set   2007/Out   2007/Nov    2007/Dez  \\\n",
       "0          11 Rondônia   4209.37  16397.03  133645.19  346912.84   711758.31   \n",
       "1              12 Acre  10470.07  14001.71   86200.85  301323.68   769612.36   \n",
       "2          13 Amazonas  35752.72  45570.64  416012.30 2020381.79  5949408.99   \n",
       "3           14 Roraima   4785.91  11858.63   43852.67  369328.51   470676.43   \n",
       "4              15 Pará 181159.29 433414.74 1893197.50 5105406.44 13162823.43   \n",
       "\n",
       "     2008/Jan    2008/Fev    2008/Mar    2008/Abr  ...    2020/Dez  \\\n",
       "0  1829559.71  1940792.63  1955721.68  2143353.81  ...  9469279.43   \n",
       "1  1731744.62  1743978.66  2057439.02  2057829.69  ...  3820865.83   \n",
       "2 11419210.08  7934652.10  8641517.13  8531576.49  ... 21911210.94   \n",
       "3   808448.39   771687.83   876091.18   896952.53  ...  3193708.89   \n",
       "4 21762104.16 20126081.01 22149375.82 23436682.75  ... 37925512.28   \n",
       "\n",
       "     2021/Jan    2021/Fev    2021/Mar    2021/Abr    2021/Mai    2021/Jun  \\\n",
       "0 10045624.39 10677245.18 18147121.02 17753851.45 17659855.79 14435903.47   \n",
       "1  4175526.06  5282655.42  5699597.78  5002272.59  4326882.24  3458187.11   \n",
       "2 27406458.57 22341042.63 27923786.94 24515920.09 23973537.71 22175398.40   \n",
       "3  3557821.99  4172285.82  5427226.70  4192540.54  3681417.80  3475205.55   \n",
       "4 39042349.46 37113440.70 49625416.13 52558327.29 50907226.77 43876590.47   \n",
       "\n",
       "     2021/Jul    2021/Ago         Total  \n",
       "0 11834435.10  7371334.84 1088059702.25  \n",
       "1  2302711.01  1196754.85  475290315.34  \n",
       "2 21614943.55 13806958.66 2061943006.93  \n",
       "3  3320807.96  2907871.07  352546288.71  \n",
       "4 33718084.12 20837865.89 4968811817.17  \n",
       "\n",
       "[5 rows x 171 columns]"
      ]
     },
     "execution_count": 17,
     "metadata": {},
     "output_type": "execute_result"
    }
   ],
   "source": [
    "dados_usaveis = dados[colunas_usaveis]\n",
    "dados_usaveis.head()"
   ]
  },
  {
   "cell_type": "code",
   "execution_count": 18,
   "metadata": {},
   "outputs": [
    {
     "data": {
      "application/vnd.microsoft.datawrangler.viewer.v0+json": {
       "columns": [
        {
         "name": "Unidade da Federação",
         "rawType": "object",
         "type": "string"
        },
        {
         "name": "2007/Ago",
         "rawType": "float64",
         "type": "float"
        },
        {
         "name": "2007/Set",
         "rawType": "float64",
         "type": "float"
        },
        {
         "name": "2007/Out",
         "rawType": "float64",
         "type": "float"
        },
        {
         "name": "2007/Nov",
         "rawType": "float64",
         "type": "float"
        },
        {
         "name": "2007/Dez",
         "rawType": "float64",
         "type": "float"
        },
        {
         "name": "2008/Jan",
         "rawType": "float64",
         "type": "float"
        },
        {
         "name": "2008/Fev",
         "rawType": "float64",
         "type": "float"
        },
        {
         "name": "2008/Mar",
         "rawType": "float64",
         "type": "float"
        },
        {
         "name": "2008/Abr",
         "rawType": "float64",
         "type": "float"
        },
        {
         "name": "2008/Mai",
         "rawType": "float64",
         "type": "float"
        },
        {
         "name": "2008/Jun",
         "rawType": "float64",
         "type": "float"
        },
        {
         "name": "2008/Jul",
         "rawType": "float64",
         "type": "float"
        },
        {
         "name": "2008/Ago",
         "rawType": "float64",
         "type": "float"
        },
        {
         "name": "2008/Set",
         "rawType": "float64",
         "type": "float"
        },
        {
         "name": "2008/Out",
         "rawType": "float64",
         "type": "float"
        },
        {
         "name": "2008/Nov",
         "rawType": "float64",
         "type": "float"
        },
        {
         "name": "2008/Dez",
         "rawType": "float64",
         "type": "float"
        },
        {
         "name": "2009/Jan",
         "rawType": "float64",
         "type": "float"
        },
        {
         "name": "2009/Fev",
         "rawType": "float64",
         "type": "float"
        },
        {
         "name": "2009/Mar",
         "rawType": "float64",
         "type": "float"
        },
        {
         "name": "2009/Abr",
         "rawType": "float64",
         "type": "float"
        },
        {
         "name": "2009/Mai",
         "rawType": "float64",
         "type": "float"
        },
        {
         "name": "2009/Jun",
         "rawType": "float64",
         "type": "float"
        },
        {
         "name": "2009/Jul",
         "rawType": "float64",
         "type": "float"
        },
        {
         "name": "2009/Ago",
         "rawType": "float64",
         "type": "float"
        },
        {
         "name": "2009/Set",
         "rawType": "float64",
         "type": "float"
        },
        {
         "name": "2009/Out",
         "rawType": "float64",
         "type": "float"
        },
        {
         "name": "2009/Nov",
         "rawType": "float64",
         "type": "float"
        },
        {
         "name": "2009/Dez",
         "rawType": "float64",
         "type": "float"
        },
        {
         "name": "2010/Jan",
         "rawType": "float64",
         "type": "float"
        },
        {
         "name": "2010/Fev",
         "rawType": "float64",
         "type": "float"
        },
        {
         "name": "2010/Mar",
         "rawType": "float64",
         "type": "float"
        },
        {
         "name": "2010/Abr",
         "rawType": "float64",
         "type": "float"
        },
        {
         "name": "2010/Mai",
         "rawType": "float64",
         "type": "float"
        },
        {
         "name": "2010/Jun",
         "rawType": "float64",
         "type": "float"
        },
        {
         "name": "2010/Jul",
         "rawType": "float64",
         "type": "float"
        },
        {
         "name": "2010/Ago",
         "rawType": "float64",
         "type": "float"
        },
        {
         "name": "2010/Set",
         "rawType": "float64",
         "type": "float"
        },
        {
         "name": "2010/Out",
         "rawType": "float64",
         "type": "float"
        },
        {
         "name": "2010/Nov",
         "rawType": "float64",
         "type": "float"
        },
        {
         "name": "2010/Dez",
         "rawType": "float64",
         "type": "float"
        },
        {
         "name": "2011/Jan",
         "rawType": "float64",
         "type": "float"
        },
        {
         "name": "2011/Fev",
         "rawType": "float64",
         "type": "float"
        },
        {
         "name": "2011/Mar",
         "rawType": "float64",
         "type": "float"
        },
        {
         "name": "2011/Abr",
         "rawType": "float64",
         "type": "float"
        },
        {
         "name": "2011/Mai",
         "rawType": "float64",
         "type": "float"
        },
        {
         "name": "2011/Jun",
         "rawType": "float64",
         "type": "float"
        },
        {
         "name": "2011/Jul",
         "rawType": "float64",
         "type": "float"
        },
        {
         "name": "2011/Ago",
         "rawType": "float64",
         "type": "float"
        },
        {
         "name": "2011/Set",
         "rawType": "float64",
         "type": "float"
        },
        {
         "name": "2011/Out",
         "rawType": "float64",
         "type": "float"
        },
        {
         "name": "2011/Nov",
         "rawType": "float64",
         "type": "float"
        },
        {
         "name": "2011/Dez",
         "rawType": "float64",
         "type": "float"
        },
        {
         "name": "2012/Jan",
         "rawType": "float64",
         "type": "float"
        },
        {
         "name": "2012/Fev",
         "rawType": "float64",
         "type": "float"
        },
        {
         "name": "2012/Mar",
         "rawType": "float64",
         "type": "float"
        },
        {
         "name": "2012/Abr",
         "rawType": "float64",
         "type": "float"
        },
        {
         "name": "2012/Mai",
         "rawType": "float64",
         "type": "float"
        },
        {
         "name": "2012/Jun",
         "rawType": "float64",
         "type": "float"
        },
        {
         "name": "2012/Jul",
         "rawType": "float64",
         "type": "float"
        },
        {
         "name": "2012/Ago",
         "rawType": "float64",
         "type": "float"
        },
        {
         "name": "2012/Set",
         "rawType": "float64",
         "type": "float"
        },
        {
         "name": "2012/Out",
         "rawType": "float64",
         "type": "float"
        },
        {
         "name": "2012/Nov",
         "rawType": "float64",
         "type": "float"
        },
        {
         "name": "2012/Dez",
         "rawType": "float64",
         "type": "float"
        },
        {
         "name": "2013/Jan",
         "rawType": "float64",
         "type": "float"
        },
        {
         "name": "2013/Fev",
         "rawType": "float64",
         "type": "float"
        },
        {
         "name": "2013/Mar",
         "rawType": "float64",
         "type": "float"
        },
        {
         "name": "2013/Abr",
         "rawType": "float64",
         "type": "float"
        },
        {
         "name": "2013/Mai",
         "rawType": "float64",
         "type": "float"
        },
        {
         "name": "2013/Jun",
         "rawType": "float64",
         "type": "float"
        },
        {
         "name": "2013/Jul",
         "rawType": "float64",
         "type": "float"
        },
        {
         "name": "2013/Ago",
         "rawType": "float64",
         "type": "float"
        },
        {
         "name": "2013/Set",
         "rawType": "float64",
         "type": "float"
        },
        {
         "name": "2013/Out",
         "rawType": "float64",
         "type": "float"
        },
        {
         "name": "2013/Nov",
         "rawType": "float64",
         "type": "float"
        },
        {
         "name": "2013/Dez",
         "rawType": "float64",
         "type": "float"
        },
        {
         "name": "2014/Jan",
         "rawType": "float64",
         "type": "float"
        },
        {
         "name": "2014/Fev",
         "rawType": "float64",
         "type": "float"
        },
        {
         "name": "2014/Mar",
         "rawType": "float64",
         "type": "float"
        },
        {
         "name": "2014/Abr",
         "rawType": "float64",
         "type": "float"
        },
        {
         "name": "2014/Mai",
         "rawType": "float64",
         "type": "float"
        },
        {
         "name": "2014/Jun",
         "rawType": "float64",
         "type": "float"
        },
        {
         "name": "2014/Jul",
         "rawType": "float64",
         "type": "float"
        },
        {
         "name": "2014/Ago",
         "rawType": "float64",
         "type": "float"
        },
        {
         "name": "2014/Set",
         "rawType": "float64",
         "type": "float"
        },
        {
         "name": "2014/Out",
         "rawType": "float64",
         "type": "float"
        },
        {
         "name": "2014/Nov",
         "rawType": "float64",
         "type": "float"
        },
        {
         "name": "2014/Dez",
         "rawType": "float64",
         "type": "float"
        },
        {
         "name": "2015/Jan",
         "rawType": "float64",
         "type": "float"
        },
        {
         "name": "2015/Fev",
         "rawType": "float64",
         "type": "float"
        },
        {
         "name": "2015/Mar",
         "rawType": "float64",
         "type": "float"
        },
        {
         "name": "2015/Abr",
         "rawType": "float64",
         "type": "float"
        },
        {
         "name": "2015/Mai",
         "rawType": "float64",
         "type": "float"
        },
        {
         "name": "2015/Jun",
         "rawType": "float64",
         "type": "float"
        },
        {
         "name": "2015/Jul",
         "rawType": "float64",
         "type": "float"
        },
        {
         "name": "2015/Ago",
         "rawType": "float64",
         "type": "float"
        },
        {
         "name": "2015/Set",
         "rawType": "float64",
         "type": "float"
        },
        {
         "name": "2015/Out",
         "rawType": "float64",
         "type": "float"
        },
        {
         "name": "2015/Nov",
         "rawType": "float64",
         "type": "float"
        },
        {
         "name": "2015/Dez",
         "rawType": "float64",
         "type": "float"
        },
        {
         "name": "2016/Jan",
         "rawType": "float64",
         "type": "float"
        },
        {
         "name": "2016/Fev",
         "rawType": "float64",
         "type": "float"
        },
        {
         "name": "2016/Mar",
         "rawType": "float64",
         "type": "float"
        },
        {
         "name": "2016/Abr",
         "rawType": "float64",
         "type": "float"
        },
        {
         "name": "2016/Mai",
         "rawType": "float64",
         "type": "float"
        },
        {
         "name": "2016/Jun",
         "rawType": "float64",
         "type": "float"
        },
        {
         "name": "2016/Jul",
         "rawType": "float64",
         "type": "float"
        },
        {
         "name": "2016/Ago",
         "rawType": "float64",
         "type": "float"
        },
        {
         "name": "2016/Set",
         "rawType": "float64",
         "type": "float"
        },
        {
         "name": "2016/Out",
         "rawType": "float64",
         "type": "float"
        },
        {
         "name": "2016/Nov",
         "rawType": "float64",
         "type": "float"
        },
        {
         "name": "2016/Dez",
         "rawType": "float64",
         "type": "float"
        },
        {
         "name": "2017/Jan",
         "rawType": "float64",
         "type": "float"
        },
        {
         "name": "2017/Fev",
         "rawType": "float64",
         "type": "float"
        },
        {
         "name": "2017/Mar",
         "rawType": "float64",
         "type": "float"
        },
        {
         "name": "2017/Abr",
         "rawType": "float64",
         "type": "float"
        },
        {
         "name": "2017/Mai",
         "rawType": "float64",
         "type": "float"
        },
        {
         "name": "2017/Jun",
         "rawType": "float64",
         "type": "float"
        },
        {
         "name": "2017/Jul",
         "rawType": "float64",
         "type": "float"
        },
        {
         "name": "2017/Ago",
         "rawType": "float64",
         "type": "float"
        },
        {
         "name": "2017/Set",
         "rawType": "float64",
         "type": "float"
        },
        {
         "name": "2017/Out",
         "rawType": "float64",
         "type": "float"
        },
        {
         "name": "2017/Nov",
         "rawType": "float64",
         "type": "float"
        },
        {
         "name": "2017/Dez",
         "rawType": "float64",
         "type": "float"
        },
        {
         "name": "2018/Jan",
         "rawType": "float64",
         "type": "float"
        },
        {
         "name": "2018/Fev",
         "rawType": "float64",
         "type": "float"
        },
        {
         "name": "2018/Mar",
         "rawType": "float64",
         "type": "float"
        },
        {
         "name": "2018/Abr",
         "rawType": "float64",
         "type": "float"
        },
        {
         "name": "2018/Mai",
         "rawType": "float64",
         "type": "float"
        },
        {
         "name": "2018/Jun",
         "rawType": "float64",
         "type": "float"
        },
        {
         "name": "2018/Jul",
         "rawType": "float64",
         "type": "float"
        },
        {
         "name": "2018/Ago",
         "rawType": "float64",
         "type": "float"
        },
        {
         "name": "2018/Set",
         "rawType": "float64",
         "type": "float"
        },
        {
         "name": "2018/Out",
         "rawType": "float64",
         "type": "float"
        },
        {
         "name": "2018/Nov",
         "rawType": "float64",
         "type": "float"
        },
        {
         "name": "2018/Dez",
         "rawType": "float64",
         "type": "float"
        },
        {
         "name": "2019/Jan",
         "rawType": "float64",
         "type": "float"
        },
        {
         "name": "2019/Fev",
         "rawType": "float64",
         "type": "float"
        },
        {
         "name": "2019/Mar",
         "rawType": "float64",
         "type": "float"
        },
        {
         "name": "2019/Abr",
         "rawType": "float64",
         "type": "float"
        },
        {
         "name": "2019/Mai",
         "rawType": "float64",
         "type": "float"
        },
        {
         "name": "2019/Jun",
         "rawType": "float64",
         "type": "float"
        },
        {
         "name": "2019/Jul",
         "rawType": "float64",
         "type": "float"
        },
        {
         "name": "2019/Ago",
         "rawType": "float64",
         "type": "float"
        },
        {
         "name": "2019/Set",
         "rawType": "float64",
         "type": "float"
        },
        {
         "name": "2019/Out",
         "rawType": "float64",
         "type": "float"
        },
        {
         "name": "2019/Nov",
         "rawType": "float64",
         "type": "float"
        },
        {
         "name": "2019/Dez",
         "rawType": "float64",
         "type": "float"
        },
        {
         "name": "2020/Jan",
         "rawType": "float64",
         "type": "float"
        },
        {
         "name": "2020/Fev",
         "rawType": "float64",
         "type": "float"
        },
        {
         "name": "2020/Mar",
         "rawType": "float64",
         "type": "float"
        },
        {
         "name": "2020/Abr",
         "rawType": "float64",
         "type": "float"
        },
        {
         "name": "2020/Mai",
         "rawType": "float64",
         "type": "float"
        },
        {
         "name": "2020/Jun",
         "rawType": "float64",
         "type": "float"
        },
        {
         "name": "2020/Jul",
         "rawType": "float64",
         "type": "float"
        },
        {
         "name": "2020/Ago",
         "rawType": "float64",
         "type": "float"
        },
        {
         "name": "2020/Set",
         "rawType": "float64",
         "type": "float"
        },
        {
         "name": "2020/Out",
         "rawType": "float64",
         "type": "float"
        },
        {
         "name": "2020/Nov",
         "rawType": "float64",
         "type": "float"
        },
        {
         "name": "2020/Dez",
         "rawType": "float64",
         "type": "float"
        },
        {
         "name": "2021/Jan",
         "rawType": "float64",
         "type": "float"
        },
        {
         "name": "2021/Fev",
         "rawType": "float64",
         "type": "float"
        },
        {
         "name": "2021/Mar",
         "rawType": "float64",
         "type": "float"
        },
        {
         "name": "2021/Abr",
         "rawType": "float64",
         "type": "float"
        },
        {
         "name": "2021/Mai",
         "rawType": "float64",
         "type": "float"
        },
        {
         "name": "2021/Jun",
         "rawType": "float64",
         "type": "float"
        },
        {
         "name": "2021/Jul",
         "rawType": "float64",
         "type": "float"
        },
        {
         "name": "2021/Ago",
         "rawType": "float64",
         "type": "float"
        },
        {
         "name": "Total",
         "rawType": "float64",
         "type": "float"
        }
       ],
       "conversionMethod": "pd.DataFrame",
       "ref": "95187362-5b8a-4a9d-87ab-315c7436b387",
       "rows": [
        [
         "11 Rondônia",
         "4209.37",
         "16397.03",
         "133645.19",
         "346912.84",
         "711758.31",
         "1829559.71",
         "1940792.63",
         "1955721.68",
         "2143353.81",
         "2280382.58",
         "2624542.97",
         "2973421.02",
         "2938286.29",
         "2843930.91",
         "2878153.2",
         "2780022.62",
         "2651804.89",
         "3147566.24",
         "3082108.12",
         "4190355.33",
         "4040251.62",
         "3946423.71",
         "3372377.96",
         "3720608.86",
         "3787323.26",
         "3679369.94",
         "3866146.99",
         "3667808.6",
         "3633471.79",
         "3812315.59",
         "3911776.03",
         "4663060.75",
         "4524544.88",
         "4778755.26",
         "4369733.23",
         "4632439.12",
         "4464307.47",
         "4668642.02",
         "4490368.23",
         "4423840.08",
         "4384430.09",
         "4173529.95",
         "4293085.61",
         "4674947.02",
         "5087527.81",
         "4724192.54",
         "4690112.05",
         "4319488.17",
         "4778472.22",
         "4202805.84",
         "4372265.77",
         "4389025.81",
         "4045339.34",
         "4472721.53",
         "4417486.2",
         "4859795.35",
         "4590008.82",
         "4579463.54",
         "4467858.99",
         "4160296.03",
         "4315005.38",
         "4043314.46",
         "4289759.65",
         "4138600.85",
         "3966744.3",
         "4471693.32",
         "4378412.9",
         "5495946.92",
         "5380890.26",
         "5170015.34",
         "4899586.21",
         "5526959.19",
         "5889685.39",
         "6367552.03",
         "6299844.72",
         "6685861.76",
         "6163036.06",
         "6349302.0",
         "6059111.35",
         "6740436.14",
         "6584249.21",
         "7558087.91",
         "6934864.98",
         "7150611.14",
         "6957882.67",
         "7057715.9",
         "7096778.4",
         "6965306.56",
         "6803544.72",
         "6983698.79",
         "6624059.46",
         "7501596.28",
         "7365022.91",
         "7645734.88",
         "7545619.91",
         "7438604.96",
         "7233618.24",
         "7425981.15",
         "7654315.58",
         "7429006.24",
         "7580768.75",
         "7025175.6",
         "6760305.81",
         "7779822.21",
         "7707892.66",
         "8560529.9",
         "8355165.66",
         "7845709.98",
         "7931146.33",
         "7554941.74",
         "7963674.01",
         "6964512.59",
         "7174445.57",
         "7007236.18",
         "7154710.19",
         "8762491.6",
         "8133488.55",
         "8140639.49",
         "8041248.8",
         "8199032.67",
         "8363386.07",
         "7889819.5",
         "8603943.85",
         "8048398.25",
         "8159737.49",
         "8457455.71",
         "7766983.2",
         "8858845.57",
         "8407076.44",
         "9492938.92",
         "8206195.92",
         "9011612.58",
         "9124967.84",
         "8406732.72",
         "8411360.02",
         "8651081.66",
         "8193425.99",
         "8388269.45",
         "8645315.78",
         "9050329.13",
         "9211262.51",
         "9490545.02",
         "8600886.2",
         "8919190.86",
         "8909111.89",
         "8409386.09",
         "8924348.41",
         "8948605.66",
         "8660753.05",
         "8328381.43",
         "8431334.62",
         "7251287.2",
         "7491953.39",
         "8962121.79",
         "11069824.97",
         "10608659.34",
         "11578639.5",
         "9017298.72",
         "8280299.95",
         "8909539.74",
         "9469279.43",
         "10045624.39",
         "10677245.18",
         "18147121.02",
         "17753851.45",
         "17659855.79",
         "14435903.47",
         "11834435.1",
         "7371334.84",
         "1088059702.25"
        ],
        [
         "12 Acre",
         "10470.07",
         "14001.71",
         "86200.85",
         "301323.68",
         "769612.36",
         "1731744.62",
         "1743978.66",
         "2057439.02",
         "2057829.69",
         "2226577.93",
         "2112576.82",
         "2029128.01",
         "1886871.84",
         "2084884.8",
         "2230838.45",
         "2122013.12",
         "2196651.69",
         "2152239.3",
         "2086775.61",
         "2476364.26",
         "2396887.63",
         "2610261.8",
         "2174098.1",
         "2051885.16",
         "1714707.91",
         "1341532.34",
         "2288458.9",
         "2462712.79",
         "2254900.2",
         "2381535.93",
         "2079981.05",
         "2564837.77",
         "2588318.06",
         "2538525.67",
         "2319786.41",
         "2279156.6",
         "2454599.37",
         "2578923.75",
         "2625443.29",
         "2512995.15",
         "2500589.76",
         "2749521.65",
         "2473515.82",
         "2801446.23",
         "2672803.31",
         "3135521.3",
         "2719044.65",
         "2814550.89",
         "2923529.36",
         "2804546.95",
         "2773202.98",
         "2711168.25",
         "2765187.44",
         "2804275.11",
         "2460383.33",
         "3062146.31",
         "2780466.09",
         "2811471.16",
         "2813012.39",
         "2946976.72",
         "2801590.13",
         "3089898.24",
         "3049071.15",
         "2858028.89",
         "2642140.91",
         "2774802.96",
         "2650391.04",
         "2813059.49",
         "2906257.88",
         "2893275.56",
         "2687861.43",
         "2940387.36",
         "2895941.14",
         "2824796.19",
         "3034232.68",
         "2682370.65",
         "2680655.0",
         "2880570.12",
         "2611479.72",
         "3026117.7",
         "3116433.45",
         "3166557.72",
         "3138759.74",
         "3011898.65",
         "3111431.36",
         "2630560.39",
         "3079894.04",
         "3191663.93",
         "2862824.95",
         "3136522.53",
         "2901829.7",
         "3043474.78",
         "3139472.52",
         "3096430.52",
         "3334482.41",
         "2953212.26",
         "3162075.03",
         "3109856.27",
         "3177087.64",
         "3097868.79",
         "3059992.59",
         "3168190.91",
         "3037922.8",
         "3271599.56",
         "3207893.15",
         "3402393.7",
         "3380644.97",
         "3566107.55",
         "3523208.57",
         "3173932.43",
         "2911080.18",
         "3082652.71",
         "3173509.52",
         "3009727.19",
         "3134471.01",
         "3586781.3",
         "2811365.43",
         "3161446.53",
         "3355223.35",
         "3562691.54",
         "3375296.64",
         "3341497.58",
         "3358378.05",
         "3145385.44",
         "2638773.92",
         "2968168.75",
         "2769797.39",
         "3057631.96",
         "2874965.31",
         "3175575.17",
         "3060903.21",
         "3253011.61",
         "3040645.05",
         "2926179.27",
         "3126120.64",
         "2473454.85",
         "2277493.49",
         "2594347.32",
         "2234388.36",
         "2473008.49",
         "2979764.77",
         "3070533.95",
         "3249052.69",
         "3567538.64",
         "2981072.98",
         "2998860.31",
         "3293378.97",
         "3174249.43",
         "2959569.09",
         "3276790.55",
         "2985763.71",
         "2939675.2",
         "2672857.33",
         "2940827.86",
         "3914823.86",
         "4053085.41",
         "3658265.59",
         "3470648.64",
         "3267918.69",
         "3497348.48",
         "3820865.83",
         "4175526.06",
         "5282655.42",
         "5699597.78",
         "5002272.59",
         "4326882.24",
         "3458187.11",
         "2302711.01",
         "1196754.85",
         "475290315.34"
        ],
        [
         "13 Amazonas",
         "35752.72",
         "45570.64",
         "416012.3",
         "2020381.79",
         "5949408.99",
         "11419210.08",
         "7934652.1",
         "8641517.13",
         "8531576.49",
         "9079902.15",
         "8646295.77",
         "8755806.5",
         "8331763.97",
         "8148089.92",
         "7681661.02",
         "7761445.21",
         "7764782.66",
         "8607222.74",
         "8385962.92",
         "9207129.28",
         "8160517.2",
         "8562322.43",
         "9484998.71",
         "9465068.52",
         "9267006.58",
         "9092823.55",
         "9218407.34",
         "8674068.02",
         "8365788.46",
         "9386945.03",
         "8373048.81",
         "10321150.01",
         "9990164.13",
         "9767161.23",
         "9151838.5",
         "9140196.88",
         "9437224.41",
         "9742680.49",
         "9996686.44",
         "9532878.27",
         "9335803.05",
         "9800511.52",
         "9461664.54",
         "10954545.77",
         "10529645.04",
         "10105494.01",
         "9966359.03",
         "9972847.16",
         "9965893.92",
         "9861030.02",
         "10206641.46",
         "10735915.35",
         "8702766.18",
         "10037664.68",
         "8977728.1",
         "11048686.39",
         "10472290.4",
         "11490377.42",
         "10677441.18",
         "11010010.57",
         "10766405.24",
         "9569712.9",
         "9989822.59",
         "9957925.62",
         "8918794.96",
         "10855590.98",
         "9429474.72",
         "10170130.9",
         "10539428.15",
         "11110036.76",
         "10467110.16",
         "10400642.04",
         "10851212.49",
         "10420922.29",
         "10599000.25",
         "10244521.6",
         "9306819.97",
         "9474986.9",
         "8225118.03",
         "9923980.1",
         "10308887.72",
         "10398106.16",
         "10613208.66",
         "10530622.36",
         "10789449.65",
         "11373085.93",
         "11780494.51",
         "11275532.44",
         "10959544.5",
         "12149857.06",
         "11363981.9",
         "13379237.72",
         "13159168.82",
         "12962255.41",
         "13423538.07",
         "13253844.31",
         "13457422.49",
         "12622284.09",
         "13088040.45",
         "11495628.09",
         "11596671.58",
         "11543911.29",
         "11990242.08",
         "13508906.38",
         "13067645.44",
         "13633627.87",
         "13143225.36",
         "12692419.45",
         "12517962.68",
         "11634453.4",
         "12121775.2",
         "10806653.19",
         "11933902.28",
         "12214148.15",
         "11689140.72",
         "13474719.8",
         "13717831.75",
         "13909566.03",
         "13718828.46",
         "14396210.86",
         "13745304.22",
         "13979792.94",
         "13895515.9",
         "13518116.8",
         "13635186.02",
         "14549450.86",
         "12753555.36",
         "14749409.47",
         "14577930.81",
         "15381061.96",
         "14653650.77",
         "15544595.79",
         "16374961.41",
         "15343340.93",
         "16249963.61",
         "14255408.82",
         "14274053.94",
         "15358914.0",
         "14100074.56",
         "16103971.89",
         "16154491.82",
         "16529976.06",
         "15509984.83",
         "16642220.71",
         "16493719.52",
         "15351607.47",
         "16339427.95",
         "14821977.5",
         "14965815.9",
         "15982353.42",
         "15166470.82",
         "14817551.6",
         "16384086.61",
         "19629685.1",
         "18438092.88",
         "19305534.94",
         "18698372.12",
         "18639116.65",
         "18750332.19",
         "20587412.38",
         "21911210.94",
         "27406458.57",
         "22341042.63",
         "27923786.94",
         "24515920.09",
         "23973537.71",
         "22175398.4",
         "21614943.55",
         "13806958.66",
         "2061943006.93"
        ],
        [
         "14 Roraima",
         "4785.91",
         "11858.63",
         "43852.67",
         "369328.51",
         "470676.43",
         "808448.39",
         "771687.83",
         "876091.18",
         "896952.53",
         "1027288.73",
         "938293.54",
         "1004340.44",
         "1045291.11",
         "1003740.89",
         "1055063.43",
         "1223200.73",
         "1236529.18",
         "1186281.36",
         "1106225.18",
         "1422690.18",
         "1377859.19",
         "1363883.01",
         "1346660.89",
         "1371019.37",
         "1529696.18",
         "1573418.68",
         "1517391.92",
         "1597811.24",
         "1536941.82",
         "1617781.76",
         "1452295.35",
         "1817004.16",
         "1715762.1",
         "1933733.03",
         "1849065.95",
         "1877204.62",
         "2046063.98",
         "1939488.67",
         "1757675.71",
         "1528245.34",
         "1485166.6",
         "1604886.45",
         "1220176.72",
         "1276120.86",
         "1379942.19",
         "1679122.67",
         "1770324.67",
         "1646157.39",
         "1656379.5",
         "1802450.34",
         "1856131.44",
         "1655521.98",
         "1620351.06",
         "1605536.38",
         "1625159.47",
         "1768605.61",
         "1589072.69",
         "1982657.11",
         "1782557.43",
         "1743562.81",
         "1822724.18",
         "1637458.04",
         "1374247.23",
         "1613270.45",
         "1586569.21",
         "1712994.69",
         "1483195.3",
         "1783411.48",
         "1713083.73",
         "1724464.55",
         "1965346.91",
         "1835094.3",
         "1816091.81",
         "1741449.49",
         "1779522.8",
         "1698450.51",
         "1739855.56",
         "1649617.13",
         "1444697.49",
         "1828395.54",
         "1743474.24",
         "1939379.14",
         "1778530.78",
         "1839321.94",
         "1818003.17",
         "1890924.98",
         "1792376.75",
         "1929194.87",
         "1927452.43",
         "1952679.49",
         "1650143.01",
         "1806730.29",
         "1967249.27",
         "2002239.47",
         "2200465.33",
         "2230544.02",
         "2285467.53",
         "2215191.54",
         "2005870.76",
         "1937208.01",
         "2000028.1",
         "2306946.41",
         "2000924.9",
         "2333218.37",
         "2069716.58",
         "2105130.54",
         "2390060.15",
         "2324710.08",
         "2476903.43",
         "2212516.5",
         "2349084.57",
         "2184836.8",
         "2380057.58",
         "2370359.62",
         "2256529.94",
         "2602191.08",
         "2392160.3",
         "2761536.23",
         "2699213.85",
         "2682746.28",
         "2891100.2",
         "2737677.78",
         "2693726.29",
         "2671451.53",
         "2688315.7",
         "2740952.07",
         "2478349.44",
         "2674958.94",
         "2721261.19",
         "2844811.66",
         "2967161.35",
         "2841587.97",
         "3328230.63",
         "2878691.04",
         "2964324.32",
         "2524712.4",
         "2462451.64",
         "2662240.18",
         "2499996.16",
         "2846135.56",
         "2789823.29",
         "2839389.53",
         "2647540.2",
         "2865777.71",
         "3181321.82",
         "3070436.96",
         "3162342.44",
         "3121104.71",
         "2889969.87",
         "3084561.08",
         "2967159.04",
         "2813954.05",
         "2306119.95",
         "2921522.16",
         "3300012.98",
         "3192075.41",
         "3262354.34",
         "2978629.22",
         "3313296.78",
         "3531874.44",
         "3193708.89",
         "3557821.99",
         "4172285.82",
         "5427226.7",
         "4192540.54",
         "3681417.8",
         "3475205.55",
         "3320807.96",
         "2907871.07",
         "352546288.71"
        ],
        [
         "15 Pará",
         "181159.29",
         "433414.74",
         "1893197.5",
         "5105406.44",
         "13162823.43",
         "21762104.16",
         "20126081.01",
         "22149375.82",
         "23436682.75",
         "23861080.8",
         "23502915.9",
         "22544291.26",
         "23259148.28",
         "23667690.01",
         "23352577.75",
         "23537613.41",
         "23836162.4",
         "25397157.43",
         "23045700.7",
         "28225957.76",
         "27478025.61",
         "26610951.91",
         "26424970.11",
         "26331756.26",
         "27892582.69",
         "27231854.35",
         "27599957.69",
         "26784181.74",
         "25511285.54",
         "26421157.74",
         "25483553.06",
         "28537493.86",
         "26949923.37",
         "28436425.05",
         "26947713.85",
         "26125357.73",
         "27761867.94",
         "27280175.15",
         "26522062.12",
         "26687663.81",
         "26322040.53",
         "27999789.2",
         "26170892.65",
         "29193123.8",
         "27294759.31",
         "27759327.87",
         "26458847.52",
         "25646178.94",
         "27348214.64",
         "27122078.56",
         "27151997.82",
         "27076766.56",
         "25935603.25",
         "26931701.79",
         "25389310.74",
         "28704612.93",
         "26847966.6",
         "28536479.38",
         "24989145.96",
         "23915410.75",
         "25339308.28",
         "26463528.52",
         "27078939.15",
         "25649589.97",
         "24231259.58",
         "27488235.67",
         "24858606.41",
         "28385955.37",
         "29935288.76",
         "30031113.55",
         "28287779.49",
         "27834188.35",
         "28495723.69",
         "28476294.93",
         "29356437.61",
         "28086219.41",
         "27125004.59",
         "29767266.18",
         "27835380.47",
         "29163415.18",
         "29555562.23",
         "29906534.73",
         "28163413.4",
         "29162727.48",
         "29042208.36",
         "29657868.87",
         "28900904.08",
         "29550827.16",
         "27962491.97",
         "28691072.01",
         "26549566.21",
         "31911102.11",
         "29750854.64",
         "31054967.78",
         "29235281.56",
         "29501440.59",
         "28931804.95",
         "29476810.94",
         "29458486.92",
         "28477062.76",
         "27489497.15",
         "28500205.13",
         "27179920.78",
         "31117998.99",
         "30192626.29",
         "31099655.36",
         "30920858.9",
         "29971249.77",
         "32160799.99",
         "32271083.66",
         "30090090.28",
         "30190160.1",
         "29399653.85",
         "31598256.46",
         "28219353.4",
         "34021215.17",
         "30540036.73",
         "33921112.99",
         "31808597.47",
         "32133134.42",
         "33770556.65",
         "32979925.38",
         "33665042.35",
         "33475545.29",
         "32067934.67",
         "33615836.09",
         "30623491.62",
         "34121931.0",
         "35039954.2",
         "35424611.06",
         "34160283.18",
         "34484949.49",
         "35618364.04",
         "34380916.9",
         "38441090.5",
         "33583538.08",
         "32789354.87",
         "34513534.8",
         "31885919.67",
         "33236155.79",
         "31008924.95",
         "31064106.5",
         "28543179.3",
         "36713929.36",
         "36462011.47",
         "36792954.02",
         "36984314.6",
         "35579251.49",
         "35247659.3",
         "37046350.76",
         "34683341.17",
         "34908420.5",
         "29184688.3",
         "43336950.39",
         "41046394.84",
         "40533687.35",
         "38864252.14",
         "37003357.15",
         "38507479.7",
         "37228236.49",
         "37925512.28",
         "39042349.46",
         "37113440.7",
         "49625416.13",
         "52558327.29",
         "50907226.77",
         "43876590.47",
         "33718084.12",
         "20837865.89",
         "4968811817.17"
        ]
       ],
       "shape": {
        "columns": 170,
        "rows": 5
       }
      },
      "text/html": [
       "<div>\n",
       "<style scoped>\n",
       "    .dataframe tbody tr th:only-of-type {\n",
       "        vertical-align: middle;\n",
       "    }\n",
       "\n",
       "    .dataframe tbody tr th {\n",
       "        vertical-align: top;\n",
       "    }\n",
       "\n",
       "    .dataframe thead th {\n",
       "        text-align: right;\n",
       "    }\n",
       "</style>\n",
       "<table border=\"1\" class=\"dataframe\">\n",
       "  <thead>\n",
       "    <tr style=\"text-align: right;\">\n",
       "      <th></th>\n",
       "      <th>2007/Ago</th>\n",
       "      <th>2007/Set</th>\n",
       "      <th>2007/Out</th>\n",
       "      <th>2007/Nov</th>\n",
       "      <th>2007/Dez</th>\n",
       "      <th>2008/Jan</th>\n",
       "      <th>2008/Fev</th>\n",
       "      <th>2008/Mar</th>\n",
       "      <th>2008/Abr</th>\n",
       "      <th>2008/Mai</th>\n",
       "      <th>...</th>\n",
       "      <th>2020/Dez</th>\n",
       "      <th>2021/Jan</th>\n",
       "      <th>2021/Fev</th>\n",
       "      <th>2021/Mar</th>\n",
       "      <th>2021/Abr</th>\n",
       "      <th>2021/Mai</th>\n",
       "      <th>2021/Jun</th>\n",
       "      <th>2021/Jul</th>\n",
       "      <th>2021/Ago</th>\n",
       "      <th>Total</th>\n",
       "    </tr>\n",
       "    <tr>\n",
       "      <th>Unidade da Federação</th>\n",
       "      <th></th>\n",
       "      <th></th>\n",
       "      <th></th>\n",
       "      <th></th>\n",
       "      <th></th>\n",
       "      <th></th>\n",
       "      <th></th>\n",
       "      <th></th>\n",
       "      <th></th>\n",
       "      <th></th>\n",
       "      <th></th>\n",
       "      <th></th>\n",
       "      <th></th>\n",
       "      <th></th>\n",
       "      <th></th>\n",
       "      <th></th>\n",
       "      <th></th>\n",
       "      <th></th>\n",
       "      <th></th>\n",
       "      <th></th>\n",
       "      <th></th>\n",
       "    </tr>\n",
       "  </thead>\n",
       "  <tbody>\n",
       "    <tr>\n",
       "      <th>11 Rondônia</th>\n",
       "      <td>4209.37</td>\n",
       "      <td>16397.03</td>\n",
       "      <td>133645.19</td>\n",
       "      <td>346912.84</td>\n",
       "      <td>711758.31</td>\n",
       "      <td>1829559.71</td>\n",
       "      <td>1940792.63</td>\n",
       "      <td>1955721.68</td>\n",
       "      <td>2143353.81</td>\n",
       "      <td>2280382.58</td>\n",
       "      <td>...</td>\n",
       "      <td>9469279.43</td>\n",
       "      <td>10045624.39</td>\n",
       "      <td>10677245.18</td>\n",
       "      <td>18147121.02</td>\n",
       "      <td>17753851.45</td>\n",
       "      <td>17659855.79</td>\n",
       "      <td>14435903.47</td>\n",
       "      <td>11834435.10</td>\n",
       "      <td>7371334.84</td>\n",
       "      <td>1088059702.25</td>\n",
       "    </tr>\n",
       "    <tr>\n",
       "      <th>12 Acre</th>\n",
       "      <td>10470.07</td>\n",
       "      <td>14001.71</td>\n",
       "      <td>86200.85</td>\n",
       "      <td>301323.68</td>\n",
       "      <td>769612.36</td>\n",
       "      <td>1731744.62</td>\n",
       "      <td>1743978.66</td>\n",
       "      <td>2057439.02</td>\n",
       "      <td>2057829.69</td>\n",
       "      <td>2226577.93</td>\n",
       "      <td>...</td>\n",
       "      <td>3820865.83</td>\n",
       "      <td>4175526.06</td>\n",
       "      <td>5282655.42</td>\n",
       "      <td>5699597.78</td>\n",
       "      <td>5002272.59</td>\n",
       "      <td>4326882.24</td>\n",
       "      <td>3458187.11</td>\n",
       "      <td>2302711.01</td>\n",
       "      <td>1196754.85</td>\n",
       "      <td>475290315.34</td>\n",
       "    </tr>\n",
       "    <tr>\n",
       "      <th>13 Amazonas</th>\n",
       "      <td>35752.72</td>\n",
       "      <td>45570.64</td>\n",
       "      <td>416012.30</td>\n",
       "      <td>2020381.79</td>\n",
       "      <td>5949408.99</td>\n",
       "      <td>11419210.08</td>\n",
       "      <td>7934652.10</td>\n",
       "      <td>8641517.13</td>\n",
       "      <td>8531576.49</td>\n",
       "      <td>9079902.15</td>\n",
       "      <td>...</td>\n",
       "      <td>21911210.94</td>\n",
       "      <td>27406458.57</td>\n",
       "      <td>22341042.63</td>\n",
       "      <td>27923786.94</td>\n",
       "      <td>24515920.09</td>\n",
       "      <td>23973537.71</td>\n",
       "      <td>22175398.40</td>\n",
       "      <td>21614943.55</td>\n",
       "      <td>13806958.66</td>\n",
       "      <td>2061943006.93</td>\n",
       "    </tr>\n",
       "    <tr>\n",
       "      <th>14 Roraima</th>\n",
       "      <td>4785.91</td>\n",
       "      <td>11858.63</td>\n",
       "      <td>43852.67</td>\n",
       "      <td>369328.51</td>\n",
       "      <td>470676.43</td>\n",
       "      <td>808448.39</td>\n",
       "      <td>771687.83</td>\n",
       "      <td>876091.18</td>\n",
       "      <td>896952.53</td>\n",
       "      <td>1027288.73</td>\n",
       "      <td>...</td>\n",
       "      <td>3193708.89</td>\n",
       "      <td>3557821.99</td>\n",
       "      <td>4172285.82</td>\n",
       "      <td>5427226.70</td>\n",
       "      <td>4192540.54</td>\n",
       "      <td>3681417.80</td>\n",
       "      <td>3475205.55</td>\n",
       "      <td>3320807.96</td>\n",
       "      <td>2907871.07</td>\n",
       "      <td>352546288.71</td>\n",
       "    </tr>\n",
       "    <tr>\n",
       "      <th>15 Pará</th>\n",
       "      <td>181159.29</td>\n",
       "      <td>433414.74</td>\n",
       "      <td>1893197.50</td>\n",
       "      <td>5105406.44</td>\n",
       "      <td>13162823.43</td>\n",
       "      <td>21762104.16</td>\n",
       "      <td>20126081.01</td>\n",
       "      <td>22149375.82</td>\n",
       "      <td>23436682.75</td>\n",
       "      <td>23861080.80</td>\n",
       "      <td>...</td>\n",
       "      <td>37925512.28</td>\n",
       "      <td>39042349.46</td>\n",
       "      <td>37113440.70</td>\n",
       "      <td>49625416.13</td>\n",
       "      <td>52558327.29</td>\n",
       "      <td>50907226.77</td>\n",
       "      <td>43876590.47</td>\n",
       "      <td>33718084.12</td>\n",
       "      <td>20837865.89</td>\n",
       "      <td>4968811817.17</td>\n",
       "    </tr>\n",
       "  </tbody>\n",
       "</table>\n",
       "<p>5 rows × 170 columns</p>\n",
       "</div>"
      ],
      "text/plain": [
       "                      2007/Ago  2007/Set   2007/Out   2007/Nov    2007/Dez  \\\n",
       "Unidade da Federação                                                         \n",
       "11 Rondônia            4209.37  16397.03  133645.19  346912.84   711758.31   \n",
       "12 Acre               10470.07  14001.71   86200.85  301323.68   769612.36   \n",
       "13 Amazonas           35752.72  45570.64  416012.30 2020381.79  5949408.99   \n",
       "14 Roraima             4785.91  11858.63   43852.67  369328.51   470676.43   \n",
       "15 Pará              181159.29 433414.74 1893197.50 5105406.44 13162823.43   \n",
       "\n",
       "                        2008/Jan    2008/Fev    2008/Mar    2008/Abr  \\\n",
       "Unidade da Federação                                                   \n",
       "11 Rondônia           1829559.71  1940792.63  1955721.68  2143353.81   \n",
       "12 Acre               1731744.62  1743978.66  2057439.02  2057829.69   \n",
       "13 Amazonas          11419210.08  7934652.10  8641517.13  8531576.49   \n",
       "14 Roraima             808448.39   771687.83   876091.18   896952.53   \n",
       "15 Pará              21762104.16 20126081.01 22149375.82 23436682.75   \n",
       "\n",
       "                        2008/Mai  ...    2020/Dez    2021/Jan    2021/Fev  \\\n",
       "Unidade da Federação              ...                                       \n",
       "11 Rondônia           2280382.58  ...  9469279.43 10045624.39 10677245.18   \n",
       "12 Acre               2226577.93  ...  3820865.83  4175526.06  5282655.42   \n",
       "13 Amazonas           9079902.15  ... 21911210.94 27406458.57 22341042.63   \n",
       "14 Roraima            1027288.73  ...  3193708.89  3557821.99  4172285.82   \n",
       "15 Pará              23861080.80  ... 37925512.28 39042349.46 37113440.70   \n",
       "\n",
       "                        2021/Mar    2021/Abr    2021/Mai    2021/Jun  \\\n",
       "Unidade da Federação                                                   \n",
       "11 Rondônia          18147121.02 17753851.45 17659855.79 14435903.47   \n",
       "12 Acre               5699597.78  5002272.59  4326882.24  3458187.11   \n",
       "13 Amazonas          27923786.94 24515920.09 23973537.71 22175398.40   \n",
       "14 Roraima            5427226.70  4192540.54  3681417.80  3475205.55   \n",
       "15 Pará              49625416.13 52558327.29 50907226.77 43876590.47   \n",
       "\n",
       "                        2021/Jul    2021/Ago         Total  \n",
       "Unidade da Federação                                        \n",
       "11 Rondônia          11834435.10  7371334.84 1088059702.25  \n",
       "12 Acre               2302711.01  1196754.85  475290315.34  \n",
       "13 Amazonas          21614943.55 13806958.66 2061943006.93  \n",
       "14 Roraima            3320807.96  2907871.07  352546288.71  \n",
       "15 Pará              33718084.12 20837865.89 4968811817.17  \n",
       "\n",
       "[5 rows x 170 columns]"
      ]
     },
     "execution_count": 18,
     "metadata": {},
     "output_type": "execute_result"
    }
   ],
   "source": [
    "dados_usaveis = dados_usaveis.set_index(\"Unidade da Federação\")\n",
    "dados_usaveis.head()"
   ]
  },
  {
   "cell_type": "code",
   "execution_count": 19,
   "metadata": {},
   "outputs": [
    {
     "data": {
      "text/plain": [
       "Unidade da Federação\n",
       "11 Rondônia    8909111.89\n",
       "12 Acre        2981072.98\n",
       "13 Amazonas   16493719.52\n",
       "14 Roraima     3181321.82\n",
       "15 Pará       36462011.47\n",
       "Name: 2019/Ago, dtype: float64"
      ]
     },
     "execution_count": 19,
     "metadata": {},
     "output_type": "execute_result"
    }
   ],
   "source": [
    "dados_usaveis[\"2019/Ago\"].head()"
   ]
  },
  {
   "cell_type": "code",
   "execution_count": 20,
   "metadata": {},
   "outputs": [
    {
     "data": {
      "text/plain": [
       "2007/Ago       10470.07\n",
       "2007/Set       14001.71\n",
       "2007/Out       86200.85\n",
       "2007/Nov      301323.68\n",
       "2007/Dez      769612.36\n",
       "               ...     \n",
       "2021/Mai     4326882.24\n",
       "2021/Jun     3458187.11\n",
       "2021/Jul     2302711.01\n",
       "2021/Ago     1196754.85\n",
       "Total      475290315.34\n",
       "Name: 12 Acre, Length: 170, dtype: float64"
      ]
     },
     "execution_count": 20,
     "metadata": {},
     "output_type": "execute_result"
    }
   ],
   "source": [
    "dados_usaveis.loc[\"12 Acre\"] #localização pelo indice"
   ]
  },
  {
   "cell_type": "code",
   "execution_count": 21,
   "metadata": {},
   "outputs": [
    {
     "data": {
      "text/plain": [
       "2007/Ago       10470.07\n",
       "2007/Set       14001.71\n",
       "2007/Out       86200.85\n",
       "2007/Nov      301323.68\n",
       "2007/Dez      769612.36\n",
       "               ...     \n",
       "2021/Mai     4326882.24\n",
       "2021/Jun     3458187.11\n",
       "2021/Jul     2302711.01\n",
       "2021/Ago     1196754.85\n",
       "Total      475290315.34\n",
       "Name: 12 Acre, Length: 170, dtype: float64"
      ]
     },
     "execution_count": 21,
     "metadata": {},
     "output_type": "execute_result"
    }
   ],
   "source": [
    "dados_usaveis.iloc[1] #localizador pela posição"
   ]
  },
  {
   "cell_type": "code",
   "execution_count": 22,
   "metadata": {},
   "outputs": [
    {
     "data": {
      "text/plain": [
       "<Axes: xlabel='Unidade da Federação'>"
      ]
     },
     "execution_count": 22,
     "metadata": {},
     "output_type": "execute_result"
    },
    {
     "data": {
      "image/png": "[encoded data removed]",
      "text/plain": [
       "<Figure size 1200x600 with 1 Axes>"
      ]
     },
     "metadata": {},
     "output_type": "display_data"
    }
   ],
   "source": [
    "dados_usaveis.plot(figsize=(12,6))"
   ]
  },
  {
   "cell_type": "code",
   "execution_count": 23,
   "metadata": {},
   "outputs": [
    {
     "ename": "SyntaxError",
     "evalue": "invalid syntax (504702006.py, line 1)",
     "output_type": "error",
     "traceback": [
      "  \u001b[36mCell\u001b[39m\u001b[36m \u001b[39m\u001b[32mIn[23]\u001b[39m\u001b[32m, line 1\u001b[39m\n\u001b[31m    \u001b[39m\u001b[31mdados_usaveis.plot(x=)\u001b[39m\n                         ^\n\u001b[31mSyntaxError\u001b[39m\u001b[31m:\u001b[39m invalid syntax\n"
     ]
    }
   ],
   "source": [
    "dados_usaveis.plot(x=)"
   ]
  },
  {
   "cell_type": "code",
   "execution_count": null,
   "metadata": {},
   "outputs": [],
   "source": [
    "dados.describe()"
   ]
  }
 ],
 "metadata": {
  "kernelspec": {
   "display_name": "Python 3",
   "language": "python",
   "name": "python3"
  },
  "language_info": {
   "codemirror_mode": {
    "name": "ipython",
    "version": 3
   },
   "file_extension": ".py",
   "mimetype": "text/x-python",
   "name": "python",
   "nbconvert_exporter": "python",
   "pygments_lexer": "ipython3",
   "version": "3.11.4"
  }
 },
 "nbformat": 4,
 "nbformat_minor": 2
}
